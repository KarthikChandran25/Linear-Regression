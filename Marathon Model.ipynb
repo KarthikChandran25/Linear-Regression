{
 "cells": [
  {
   "cell_type": "code",
   "execution_count": 1,
   "metadata": {},
   "outputs": [],
   "source": [
    "import os\n",
    "import pandas as pd\n",
    "import numpy as np\n",
    "import matplotlib.pyplot as plt\n",
    "import seaborn as sns\n",
    "%matplotlib inline\n",
    "from sklearn.preprocessing import LabelEncoder, OneHotEncoder"
   ]
  },
  {
   "cell_type": "code",
   "execution_count": 2,
   "metadata": {},
   "outputs": [],
   "source": [
    "df = pd.read_csv('MarathonData.csv')"
   ]
  },
  {
   "cell_type": "code",
   "execution_count": 3,
   "metadata": {},
   "outputs": [
    {
     "name": "stdout",
     "output_type": "stream",
     "text": [
      "<class 'pandas.core.frame.DataFrame'>\n",
      "RangeIndex: 87 entries, 0 to 86\n",
      "Data columns (total 10 columns):\n",
      "id               87 non-null int64\n",
      "Marathon         87 non-null object\n",
      "Name             87 non-null object\n",
      "Category         81 non-null object\n",
      "km4week          87 non-null float64\n",
      "sp4week          87 non-null float64\n",
      "CrossTraining    13 non-null object\n",
      "Wall21           87 non-null object\n",
      "MarathonTime     87 non-null float64\n",
      "CATEGORY         87 non-null object\n",
      "dtypes: float64(3), int64(1), object(6)\n",
      "memory usage: 4.8+ KB\n"
     ]
    }
   ],
   "source": [
    "df.info()"
   ]
  },
  {
   "cell_type": "code",
   "execution_count": 4,
   "metadata": {},
   "outputs": [
    {
     "data": {
      "text/html": [
       "<div>\n",
       "<style scoped>\n",
       "    .dataframe tbody tr th:only-of-type {\n",
       "        vertical-align: middle;\n",
       "    }\n",
       "\n",
       "    .dataframe tbody tr th {\n",
       "        vertical-align: top;\n",
       "    }\n",
       "\n",
       "    .dataframe thead th {\n",
       "        text-align: right;\n",
       "    }\n",
       "</style>\n",
       "<table border=\"1\" class=\"dataframe\">\n",
       "  <thead>\n",
       "    <tr style=\"text-align: right;\">\n",
       "      <th></th>\n",
       "      <th>id</th>\n",
       "      <th>km4week</th>\n",
       "      <th>sp4week</th>\n",
       "      <th>MarathonTime</th>\n",
       "    </tr>\n",
       "  </thead>\n",
       "  <tbody>\n",
       "    <tr>\n",
       "      <th>count</th>\n",
       "      <td>87.000000</td>\n",
       "      <td>87.000000</td>\n",
       "      <td>87.000000</td>\n",
       "      <td>87.000000</td>\n",
       "    </tr>\n",
       "    <tr>\n",
       "      <th>mean</th>\n",
       "      <td>44.000000</td>\n",
       "      <td>62.347126</td>\n",
       "      <td>139.840706</td>\n",
       "      <td>3.319080</td>\n",
       "    </tr>\n",
       "    <tr>\n",
       "      <th>std</th>\n",
       "      <td>25.258662</td>\n",
       "      <td>26.956019</td>\n",
       "      <td>1191.427864</td>\n",
       "      <td>0.376923</td>\n",
       "    </tr>\n",
       "    <tr>\n",
       "      <th>min</th>\n",
       "      <td>1.000000</td>\n",
       "      <td>17.900000</td>\n",
       "      <td>8.031414</td>\n",
       "      <td>2.370000</td>\n",
       "    </tr>\n",
       "    <tr>\n",
       "      <th>25%</th>\n",
       "      <td>22.500000</td>\n",
       "      <td>44.200000</td>\n",
       "      <td>11.498168</td>\n",
       "      <td>3.045000</td>\n",
       "    </tr>\n",
       "    <tr>\n",
       "      <th>50%</th>\n",
       "      <td>44.000000</td>\n",
       "      <td>58.800000</td>\n",
       "      <td>12.163424</td>\n",
       "      <td>3.320000</td>\n",
       "    </tr>\n",
       "    <tr>\n",
       "      <th>75%</th>\n",
       "      <td>65.500000</td>\n",
       "      <td>77.500000</td>\n",
       "      <td>12.854036</td>\n",
       "      <td>3.605000</td>\n",
       "    </tr>\n",
       "    <tr>\n",
       "      <th>max</th>\n",
       "      <td>87.000000</td>\n",
       "      <td>137.500000</td>\n",
       "      <td>11125.000000</td>\n",
       "      <td>3.980000</td>\n",
       "    </tr>\n",
       "  </tbody>\n",
       "</table>\n",
       "</div>"
      ],
      "text/plain": [
       "              id     km4week       sp4week  MarathonTime\n",
       "count  87.000000   87.000000     87.000000     87.000000\n",
       "mean   44.000000   62.347126    139.840706      3.319080\n",
       "std    25.258662   26.956019   1191.427864      0.376923\n",
       "min     1.000000   17.900000      8.031414      2.370000\n",
       "25%    22.500000   44.200000     11.498168      3.045000\n",
       "50%    44.000000   58.800000     12.163424      3.320000\n",
       "75%    65.500000   77.500000     12.854036      3.605000\n",
       "max    87.000000  137.500000  11125.000000      3.980000"
      ]
     },
     "execution_count": 4,
     "metadata": {},
     "output_type": "execute_result"
    }
   ],
   "source": [
    "df.describe()"
   ]
  },
  {
   "cell_type": "code",
   "execution_count": 5,
   "metadata": {},
   "outputs": [
    {
     "data": {
      "text/html": [
       "<div>\n",
       "<style scoped>\n",
       "    .dataframe tbody tr th:only-of-type {\n",
       "        vertical-align: middle;\n",
       "    }\n",
       "\n",
       "    .dataframe tbody tr th {\n",
       "        vertical-align: top;\n",
       "    }\n",
       "\n",
       "    .dataframe thead th {\n",
       "        text-align: right;\n",
       "    }\n",
       "</style>\n",
       "<table border=\"1\" class=\"dataframe\">\n",
       "  <thead>\n",
       "    <tr style=\"text-align: right;\">\n",
       "      <th></th>\n",
       "      <th>id</th>\n",
       "      <th>Marathon</th>\n",
       "      <th>Name</th>\n",
       "      <th>Category</th>\n",
       "      <th>km4week</th>\n",
       "      <th>sp4week</th>\n",
       "      <th>CrossTraining</th>\n",
       "      <th>Wall21</th>\n",
       "      <th>MarathonTime</th>\n",
       "      <th>CATEGORY</th>\n",
       "    </tr>\n",
       "  </thead>\n",
       "  <tbody>\n",
       "    <tr>\n",
       "      <th>0</th>\n",
       "      <td>1</td>\n",
       "      <td>Prague17</td>\n",
       "      <td>Blair MORGAN</td>\n",
       "      <td>MAM</td>\n",
       "      <td>132.8</td>\n",
       "      <td>14.434783</td>\n",
       "      <td>NaN</td>\n",
       "      <td>1.16</td>\n",
       "      <td>2.37</td>\n",
       "      <td>A</td>\n",
       "    </tr>\n",
       "    <tr>\n",
       "      <th>1</th>\n",
       "      <td>2</td>\n",
       "      <td>Prague17</td>\n",
       "      <td>Robert Heczko</td>\n",
       "      <td>MAM</td>\n",
       "      <td>68.6</td>\n",
       "      <td>13.674419</td>\n",
       "      <td>NaN</td>\n",
       "      <td>1.23</td>\n",
       "      <td>2.59</td>\n",
       "      <td>A</td>\n",
       "    </tr>\n",
       "    <tr>\n",
       "      <th>2</th>\n",
       "      <td>3</td>\n",
       "      <td>Prague17</td>\n",
       "      <td>Michon Jerome</td>\n",
       "      <td>MAM</td>\n",
       "      <td>82.7</td>\n",
       "      <td>13.520436</td>\n",
       "      <td>NaN</td>\n",
       "      <td>1.30</td>\n",
       "      <td>2.66</td>\n",
       "      <td>A</td>\n",
       "    </tr>\n",
       "    <tr>\n",
       "      <th>3</th>\n",
       "      <td>4</td>\n",
       "      <td>Prague17</td>\n",
       "      <td>Daniel Or lek</td>\n",
       "      <td>M45</td>\n",
       "      <td>137.5</td>\n",
       "      <td>12.258544</td>\n",
       "      <td>NaN</td>\n",
       "      <td>1.32</td>\n",
       "      <td>2.68</td>\n",
       "      <td>A</td>\n",
       "    </tr>\n",
       "    <tr>\n",
       "      <th>4</th>\n",
       "      <td>5</td>\n",
       "      <td>Prague17</td>\n",
       "      <td>Luk ? Mr zek</td>\n",
       "      <td>MAM</td>\n",
       "      <td>84.6</td>\n",
       "      <td>13.945055</td>\n",
       "      <td>NaN</td>\n",
       "      <td>1.36</td>\n",
       "      <td>2.74</td>\n",
       "      <td>A</td>\n",
       "    </tr>\n",
       "  </tbody>\n",
       "</table>\n",
       "</div>"
      ],
      "text/plain": [
       "   id  Marathon           Name Category  km4week    sp4week CrossTraining  \\\n",
       "0   1  Prague17   Blair MORGAN      MAM    132.8  14.434783           NaN   \n",
       "1   2  Prague17  Robert Heczko      MAM     68.6  13.674419           NaN   \n",
       "2   3  Prague17  Michon Jerome      MAM     82.7  13.520436           NaN   \n",
       "3   4  Prague17  Daniel Or lek      M45    137.5  12.258544           NaN   \n",
       "4   5  Prague17   Luk ? Mr zek      MAM     84.6  13.945055           NaN   \n",
       "\n",
       "  Wall21  MarathonTime CATEGORY  \n",
       "0   1.16          2.37        A  \n",
       "1   1.23          2.59        A  \n",
       "2   1.30          2.66        A  \n",
       "3   1.32          2.68        A  \n",
       "4   1.36          2.74        A  "
      ]
     },
     "execution_count": 5,
     "metadata": {},
     "output_type": "execute_result"
    }
   ],
   "source": [
    "df.head()"
   ]
  },
  {
   "cell_type": "code",
   "execution_count": 6,
   "metadata": {},
   "outputs": [
    {
     "data": {
      "text/plain": [
       "id                0\n",
       "Marathon          0\n",
       "Name              0\n",
       "Category          6\n",
       "km4week           0\n",
       "sp4week           0\n",
       "CrossTraining    74\n",
       "Wall21            0\n",
       "MarathonTime      0\n",
       "CATEGORY          0\n",
       "dtype: int64"
      ]
     },
     "execution_count": 6,
     "metadata": {},
     "output_type": "execute_result"
    }
   ],
   "source": [
    "df.isna().sum()"
   ]
  },
  {
   "cell_type": "code",
   "execution_count": 7,
   "metadata": {},
   "outputs": [
    {
     "data": {
      "text/plain": [
       "'Prague17'"
      ]
     },
     "execution_count": 7,
     "metadata": {},
     "output_type": "execute_result"
    }
   ],
   "source": [
    "df.Marathon.unique().sum()"
   ]
  },
  {
   "cell_type": "code",
   "execution_count": 8,
   "metadata": {},
   "outputs": [
    {
     "data": {
      "text/plain": [
       "1"
      ]
     },
     "execution_count": 8,
     "metadata": {},
     "output_type": "execute_result"
    }
   ],
   "source": [
    "df.Marathon.nunique()"
   ]
  },
  {
   "cell_type": "code",
   "execution_count": 9,
   "metadata": {},
   "outputs": [
    {
     "data": {
      "text/plain": [
       "id               0.0\n",
       "Marathon         0.0\n",
       "Name             0.0\n",
       "Category         0.0\n",
       "km4week          0.0\n",
       "sp4week          0.0\n",
       "CrossTraining    0.0\n",
       "Wall21           0.0\n",
       "MarathonTime     0.0\n",
       "CATEGORY         0.0\n",
       "dtype: float64"
      ]
     },
     "execution_count": 9,
     "metadata": {},
     "output_type": "execute_result"
    }
   ],
   "source": [
    "df[df.duplicated()].sum()"
   ]
  },
  {
   "cell_type": "code",
   "execution_count": 10,
   "metadata": {},
   "outputs": [
    {
     "data": {
      "text/plain": [
       "Index([u'id', u'Marathon', u'Name', u'Category', u'km4week', u'sp4week',\n",
       "       u'CrossTraining', u'Wall21', u'MarathonTime', u'CATEGORY'],\n",
       "      dtype='object')"
      ]
     },
     "execution_count": 10,
     "metadata": {},
     "output_type": "execute_result"
    }
   ],
   "source": [
    "df.columns"
   ]
  },
  {
   "cell_type": "code",
   "execution_count": 11,
   "metadata": {},
   "outputs": [
    {
     "data": {
      "text/plain": [
       "(87, 10)"
      ]
     },
     "execution_count": 11,
     "metadata": {},
     "output_type": "execute_result"
    }
   ],
   "source": [
    "df.shape"
   ]
  },
  {
   "cell_type": "code",
   "execution_count": 12,
   "metadata": {},
   "outputs": [
    {
     "data": {
      "text/html": [
       "<div>\n",
       "<style scoped>\n",
       "    .dataframe tbody tr th:only-of-type {\n",
       "        vertical-align: middle;\n",
       "    }\n",
       "\n",
       "    .dataframe tbody tr th {\n",
       "        vertical-align: top;\n",
       "    }\n",
       "\n",
       "    .dataframe thead th {\n",
       "        text-align: right;\n",
       "    }\n",
       "</style>\n",
       "<table border=\"1\" class=\"dataframe\">\n",
       "  <thead>\n",
       "    <tr style=\"text-align: right;\">\n",
       "      <th></th>\n",
       "      <th>id</th>\n",
       "      <th>Marathon</th>\n",
       "      <th>Name</th>\n",
       "      <th>Category</th>\n",
       "      <th>km4week</th>\n",
       "      <th>sp4week</th>\n",
       "      <th>CrossTraining</th>\n",
       "      <th>Wall21</th>\n",
       "      <th>MarathonTime</th>\n",
       "      <th>CATEGORY</th>\n",
       "    </tr>\n",
       "  </thead>\n",
       "  <tbody>\n",
       "    <tr>\n",
       "      <th>0</th>\n",
       "      <td>1</td>\n",
       "      <td>Prague17</td>\n",
       "      <td>Blair MORGAN</td>\n",
       "      <td>MAM</td>\n",
       "      <td>132.8</td>\n",
       "      <td>14.434783</td>\n",
       "      <td>NaN</td>\n",
       "      <td>1.16</td>\n",
       "      <td>2.37</td>\n",
       "      <td>A</td>\n",
       "    </tr>\n",
       "    <tr>\n",
       "      <th>1</th>\n",
       "      <td>2</td>\n",
       "      <td>Prague17</td>\n",
       "      <td>Robert Heczko</td>\n",
       "      <td>MAM</td>\n",
       "      <td>68.6</td>\n",
       "      <td>13.674419</td>\n",
       "      <td>NaN</td>\n",
       "      <td>1.23</td>\n",
       "      <td>2.59</td>\n",
       "      <td>A</td>\n",
       "    </tr>\n",
       "    <tr>\n",
       "      <th>2</th>\n",
       "      <td>3</td>\n",
       "      <td>Prague17</td>\n",
       "      <td>Michon Jerome</td>\n",
       "      <td>MAM</td>\n",
       "      <td>82.7</td>\n",
       "      <td>13.520436</td>\n",
       "      <td>NaN</td>\n",
       "      <td>1.30</td>\n",
       "      <td>2.66</td>\n",
       "      <td>A</td>\n",
       "    </tr>\n",
       "    <tr>\n",
       "      <th>3</th>\n",
       "      <td>4</td>\n",
       "      <td>Prague17</td>\n",
       "      <td>Daniel Or lek</td>\n",
       "      <td>M45</td>\n",
       "      <td>137.5</td>\n",
       "      <td>12.258544</td>\n",
       "      <td>NaN</td>\n",
       "      <td>1.32</td>\n",
       "      <td>2.68</td>\n",
       "      <td>A</td>\n",
       "    </tr>\n",
       "  </tbody>\n",
       "</table>\n",
       "</div>"
      ],
      "text/plain": [
       "   id  Marathon           Name Category  km4week    sp4week CrossTraining  \\\n",
       "0   1  Prague17   Blair MORGAN      MAM    132.8  14.434783           NaN   \n",
       "1   2  Prague17  Robert Heczko      MAM     68.6  13.674419           NaN   \n",
       "2   3  Prague17  Michon Jerome      MAM     82.7  13.520436           NaN   \n",
       "3   4  Prague17  Daniel Or lek      M45    137.5  12.258544           NaN   \n",
       "\n",
       "  Wall21  MarathonTime CATEGORY  \n",
       "0   1.16          2.37        A  \n",
       "1   1.23          2.59        A  \n",
       "2   1.30          2.66        A  \n",
       "3   1.32          2.68        A  "
      ]
     },
     "execution_count": 12,
     "metadata": {},
     "output_type": "execute_result"
    }
   ],
   "source": [
    "df.head(4)"
   ]
  },
  {
   "cell_type": "code",
   "execution_count": 13,
   "metadata": {},
   "outputs": [
    {
     "data": {
      "text/plain": [
       "array(['A', 'B', 'C', 'D'], dtype=object)"
      ]
     },
     "execution_count": 13,
     "metadata": {},
     "output_type": "execute_result"
    }
   ],
   "source": [
    "df.CATEGORY.unique()"
   ]
  },
  {
   "cell_type": "code",
   "execution_count": 14,
   "metadata": {},
   "outputs": [
    {
     "data": {
      "text/plain": [
       "array(['Prague17'], dtype=object)"
      ]
     },
     "execution_count": 14,
     "metadata": {},
     "output_type": "execute_result"
    }
   ],
   "source": [
    "df.Marathon.unique()"
   ]
  },
  {
   "cell_type": "code",
   "execution_count": 15,
   "metadata": {},
   "outputs": [
    {
     "data": {
      "text/plain": [
       "array(['MAM', 'M45', 'M40', 'M50', 'M55', nan, 'WAM'], dtype=object)"
      ]
     },
     "execution_count": 15,
     "metadata": {},
     "output_type": "execute_result"
    }
   ],
   "source": [
    "df.Category.unique()"
   ]
  },
  {
   "cell_type": "code",
   "execution_count": 16,
   "metadata": {},
   "outputs": [
    {
     "data": {
      "text/html": [
       "<div>\n",
       "<style scoped>\n",
       "    .dataframe tbody tr th:only-of-type {\n",
       "        vertical-align: middle;\n",
       "    }\n",
       "\n",
       "    .dataframe tbody tr th {\n",
       "        vertical-align: top;\n",
       "    }\n",
       "\n",
       "    .dataframe thead th {\n",
       "        text-align: right;\n",
       "    }\n",
       "</style>\n",
       "<table border=\"1\" class=\"dataframe\">\n",
       "  <thead>\n",
       "    <tr style=\"text-align: right;\">\n",
       "      <th></th>\n",
       "      <th>id</th>\n",
       "      <th>Marathon</th>\n",
       "      <th>Name</th>\n",
       "      <th>Category</th>\n",
       "      <th>km4week</th>\n",
       "      <th>sp4week</th>\n",
       "      <th>CrossTraining</th>\n",
       "      <th>Wall21</th>\n",
       "      <th>MarathonTime</th>\n",
       "      <th>CATEGORY</th>\n",
       "    </tr>\n",
       "  </thead>\n",
       "  <tbody>\n",
       "    <tr>\n",
       "      <th>0</th>\n",
       "      <td>1</td>\n",
       "      <td>Prague17</td>\n",
       "      <td>Blair MORGAN</td>\n",
       "      <td>MAM</td>\n",
       "      <td>132.8</td>\n",
       "      <td>14.434783</td>\n",
       "      <td>NaN</td>\n",
       "      <td>1.16</td>\n",
       "      <td>2.37</td>\n",
       "      <td>A</td>\n",
       "    </tr>\n",
       "    <tr>\n",
       "      <th>1</th>\n",
       "      <td>2</td>\n",
       "      <td>Prague17</td>\n",
       "      <td>Robert Heczko</td>\n",
       "      <td>MAM</td>\n",
       "      <td>68.6</td>\n",
       "      <td>13.674419</td>\n",
       "      <td>NaN</td>\n",
       "      <td>1.23</td>\n",
       "      <td>2.59</td>\n",
       "      <td>A</td>\n",
       "    </tr>\n",
       "    <tr>\n",
       "      <th>2</th>\n",
       "      <td>3</td>\n",
       "      <td>Prague17</td>\n",
       "      <td>Michon Jerome</td>\n",
       "      <td>MAM</td>\n",
       "      <td>82.7</td>\n",
       "      <td>13.520436</td>\n",
       "      <td>NaN</td>\n",
       "      <td>1.30</td>\n",
       "      <td>2.66</td>\n",
       "      <td>A</td>\n",
       "    </tr>\n",
       "    <tr>\n",
       "      <th>3</th>\n",
       "      <td>4</td>\n",
       "      <td>Prague17</td>\n",
       "      <td>Daniel Or lek</td>\n",
       "      <td>M45</td>\n",
       "      <td>137.5</td>\n",
       "      <td>12.258544</td>\n",
       "      <td>NaN</td>\n",
       "      <td>1.32</td>\n",
       "      <td>2.68</td>\n",
       "      <td>A</td>\n",
       "    </tr>\n",
       "    <tr>\n",
       "      <th>4</th>\n",
       "      <td>5</td>\n",
       "      <td>Prague17</td>\n",
       "      <td>Luk ? Mr zek</td>\n",
       "      <td>MAM</td>\n",
       "      <td>84.6</td>\n",
       "      <td>13.945055</td>\n",
       "      <td>NaN</td>\n",
       "      <td>1.36</td>\n",
       "      <td>2.74</td>\n",
       "      <td>A</td>\n",
       "    </tr>\n",
       "  </tbody>\n",
       "</table>\n",
       "</div>"
      ],
      "text/plain": [
       "   id  Marathon           Name Category  km4week    sp4week CrossTraining  \\\n",
       "0   1  Prague17   Blair MORGAN      MAM    132.8  14.434783           NaN   \n",
       "1   2  Prague17  Robert Heczko      MAM     68.6  13.674419           NaN   \n",
       "2   3  Prague17  Michon Jerome      MAM     82.7  13.520436           NaN   \n",
       "3   4  Prague17  Daniel Or lek      M45    137.5  12.258544           NaN   \n",
       "4   5  Prague17   Luk ? Mr zek      MAM     84.6  13.945055           NaN   \n",
       "\n",
       "  Wall21  MarathonTime CATEGORY  \n",
       "0   1.16          2.37        A  \n",
       "1   1.23          2.59        A  \n",
       "2   1.30          2.66        A  \n",
       "3   1.32          2.68        A  \n",
       "4   1.36          2.74        A  "
      ]
     },
     "execution_count": 16,
     "metadata": {},
     "output_type": "execute_result"
    }
   ],
   "source": [
    "df.head()"
   ]
  },
  {
   "cell_type": "code",
   "execution_count": 17,
   "metadata": {},
   "outputs": [
    {
     "data": {
      "text/plain": [
       "25    NaN\n",
       "34    NaN\n",
       "51    NaN\n",
       "53    NaN\n",
       "73    NaN\n",
       "80    NaN\n",
       "Name: Category, dtype: object"
      ]
     },
     "execution_count": 17,
     "metadata": {},
     "output_type": "execute_result"
    }
   ],
   "source": [
    "df[df.Category.isnull()].Category"
   ]
  },
  {
   "cell_type": "code",
   "execution_count": 18,
   "metadata": {},
   "outputs": [],
   "source": [
    "##Filling the NaN From Category Column with UNKNOWN"
   ]
  },
  {
   "cell_type": "code",
   "execution_count": 19,
   "metadata": {},
   "outputs": [],
   "source": [
    "df['Category'].fillna(value = \"UNKNOWN\",inplace = True)"
   ]
  },
  {
   "cell_type": "code",
   "execution_count": 20,
   "metadata": {},
   "outputs": [
    {
     "data": {
      "text/plain": [
       "Series([], Name: Category, dtype: object)"
      ]
     },
     "execution_count": 20,
     "metadata": {},
     "output_type": "execute_result"
    }
   ],
   "source": [
    "df[df.Category.isnull()].Category"
   ]
  },
  {
   "cell_type": "code",
   "execution_count": 21,
   "metadata": {},
   "outputs": [
    {
     "data": {
      "text/plain": [
       "0     NaN\n",
       "1     NaN\n",
       "2     NaN\n",
       "3     NaN\n",
       "4     NaN\n",
       "5     NaN\n",
       "6     NaN\n",
       "7     NaN\n",
       "9     NaN\n",
       "10    NaN\n",
       "11    NaN\n",
       "13    NaN\n",
       "14    NaN\n",
       "15    NaN\n",
       "17    NaN\n",
       "18    NaN\n",
       "19    NaN\n",
       "20    NaN\n",
       "21    NaN\n",
       "22    NaN\n",
       "23    NaN\n",
       "24    NaN\n",
       "26    NaN\n",
       "27    NaN\n",
       "28    NaN\n",
       "29    NaN\n",
       "31    NaN\n",
       "32    NaN\n",
       "33    NaN\n",
       "34    NaN\n",
       "     ... \n",
       "50    NaN\n",
       "51    NaN\n",
       "52    NaN\n",
       "53    NaN\n",
       "54    NaN\n",
       "55    NaN\n",
       "56    NaN\n",
       "57    NaN\n",
       "58    NaN\n",
       "59    NaN\n",
       "60    NaN\n",
       "61    NaN\n",
       "62    NaN\n",
       "64    NaN\n",
       "65    NaN\n",
       "67    NaN\n",
       "68    NaN\n",
       "69    NaN\n",
       "70    NaN\n",
       "72    NaN\n",
       "73    NaN\n",
       "74    NaN\n",
       "77    NaN\n",
       "78    NaN\n",
       "79    NaN\n",
       "80    NaN\n",
       "81    NaN\n",
       "82    NaN\n",
       "84    NaN\n",
       "85    NaN\n",
       "Name: CrossTraining, Length: 74, dtype: object"
      ]
     },
     "execution_count": 21,
     "metadata": {},
     "output_type": "execute_result"
    }
   ],
   "source": [
    "df[df.CrossTraining.isnull()].CrossTraining"
   ]
  },
  {
   "cell_type": "code",
   "execution_count": 22,
   "metadata": {},
   "outputs": [],
   "source": [
    "##Filling the NaN From CrossTraining Column with the value as UNKNOWN"
   ]
  },
  {
   "cell_type": "code",
   "execution_count": 23,
   "metadata": {},
   "outputs": [],
   "source": [
    "df['CrossTraining'].fillna(value = \"UNKNOWN\",inplace = True)"
   ]
  },
  {
   "cell_type": "code",
   "execution_count": 24,
   "metadata": {},
   "outputs": [
    {
     "data": {
      "text/plain": [
       "Series([], Name: CrossTraining, dtype: object)"
      ]
     },
     "execution_count": 24,
     "metadata": {},
     "output_type": "execute_result"
    }
   ],
   "source": [
    "df[df.CrossTraining.isnull()].CrossTraining"
   ]
  },
  {
   "cell_type": "code",
   "execution_count": 25,
   "metadata": {},
   "outputs": [
    {
     "data": {
      "text/html": [
       "<div>\n",
       "<style scoped>\n",
       "    .dataframe tbody tr th:only-of-type {\n",
       "        vertical-align: middle;\n",
       "    }\n",
       "\n",
       "    .dataframe tbody tr th {\n",
       "        vertical-align: top;\n",
       "    }\n",
       "\n",
       "    .dataframe thead th {\n",
       "        text-align: right;\n",
       "    }\n",
       "</style>\n",
       "<table border=\"1\" class=\"dataframe\">\n",
       "  <thead>\n",
       "    <tr style=\"text-align: right;\">\n",
       "      <th></th>\n",
       "      <th>id</th>\n",
       "      <th>Marathon</th>\n",
       "      <th>Name</th>\n",
       "      <th>Category</th>\n",
       "      <th>km4week</th>\n",
       "      <th>sp4week</th>\n",
       "      <th>CrossTraining</th>\n",
       "      <th>Wall21</th>\n",
       "      <th>MarathonTime</th>\n",
       "      <th>CATEGORY</th>\n",
       "    </tr>\n",
       "  </thead>\n",
       "  <tbody>\n",
       "    <tr>\n",
       "      <th>0</th>\n",
       "      <td>1</td>\n",
       "      <td>Prague17</td>\n",
       "      <td>Blair MORGAN</td>\n",
       "      <td>MAM</td>\n",
       "      <td>132.8</td>\n",
       "      <td>14.434783</td>\n",
       "      <td>UNKNOWN</td>\n",
       "      <td>1.16</td>\n",
       "      <td>2.37</td>\n",
       "      <td>A</td>\n",
       "    </tr>\n",
       "    <tr>\n",
       "      <th>1</th>\n",
       "      <td>2</td>\n",
       "      <td>Prague17</td>\n",
       "      <td>Robert Heczko</td>\n",
       "      <td>MAM</td>\n",
       "      <td>68.6</td>\n",
       "      <td>13.674419</td>\n",
       "      <td>UNKNOWN</td>\n",
       "      <td>1.23</td>\n",
       "      <td>2.59</td>\n",
       "      <td>A</td>\n",
       "    </tr>\n",
       "    <tr>\n",
       "      <th>2</th>\n",
       "      <td>3</td>\n",
       "      <td>Prague17</td>\n",
       "      <td>Michon Jerome</td>\n",
       "      <td>MAM</td>\n",
       "      <td>82.7</td>\n",
       "      <td>13.520436</td>\n",
       "      <td>UNKNOWN</td>\n",
       "      <td>1.30</td>\n",
       "      <td>2.66</td>\n",
       "      <td>A</td>\n",
       "    </tr>\n",
       "    <tr>\n",
       "      <th>3</th>\n",
       "      <td>4</td>\n",
       "      <td>Prague17</td>\n",
       "      <td>Daniel Or lek</td>\n",
       "      <td>M45</td>\n",
       "      <td>137.5</td>\n",
       "      <td>12.258544</td>\n",
       "      <td>UNKNOWN</td>\n",
       "      <td>1.32</td>\n",
       "      <td>2.68</td>\n",
       "      <td>A</td>\n",
       "    </tr>\n",
       "    <tr>\n",
       "      <th>4</th>\n",
       "      <td>5</td>\n",
       "      <td>Prague17</td>\n",
       "      <td>Luk ? Mr zek</td>\n",
       "      <td>MAM</td>\n",
       "      <td>84.6</td>\n",
       "      <td>13.945055</td>\n",
       "      <td>UNKNOWN</td>\n",
       "      <td>1.36</td>\n",
       "      <td>2.74</td>\n",
       "      <td>A</td>\n",
       "    </tr>\n",
       "  </tbody>\n",
       "</table>\n",
       "</div>"
      ],
      "text/plain": [
       "   id  Marathon           Name Category  km4week    sp4week CrossTraining  \\\n",
       "0   1  Prague17   Blair MORGAN      MAM    132.8  14.434783       UNKNOWN   \n",
       "1   2  Prague17  Robert Heczko      MAM     68.6  13.674419       UNKNOWN   \n",
       "2   3  Prague17  Michon Jerome      MAM     82.7  13.520436       UNKNOWN   \n",
       "3   4  Prague17  Daniel Or lek      M45    137.5  12.258544       UNKNOWN   \n",
       "4   5  Prague17   Luk ? Mr zek      MAM     84.6  13.945055       UNKNOWN   \n",
       "\n",
       "  Wall21  MarathonTime CATEGORY  \n",
       "0   1.16          2.37        A  \n",
       "1   1.23          2.59        A  \n",
       "2   1.30          2.66        A  \n",
       "3   1.32          2.68        A  \n",
       "4   1.36          2.74        A  "
      ]
     },
     "execution_count": 25,
     "metadata": {},
     "output_type": "execute_result"
    }
   ],
   "source": [
    "df.head()"
   ]
  },
  {
   "cell_type": "code",
   "execution_count": 26,
   "metadata": {},
   "outputs": [
    {
     "data": {
      "text/plain": [
       "id               0\n",
       "Marathon         0\n",
       "Name             0\n",
       "Category         0\n",
       "km4week          0\n",
       "sp4week          0\n",
       "CrossTraining    0\n",
       "Wall21           0\n",
       "MarathonTime     0\n",
       "CATEGORY         0\n",
       "dtype: int64"
      ]
     },
     "execution_count": 26,
     "metadata": {},
     "output_type": "execute_result"
    }
   ],
   "source": [
    "df.isna().sum()"
   ]
  },
  {
   "cell_type": "code",
   "execution_count": 27,
   "metadata": {},
   "outputs": [
    {
     "data": {
      "text/html": [
       "<div>\n",
       "<style scoped>\n",
       "    .dataframe tbody tr th:only-of-type {\n",
       "        vertical-align: middle;\n",
       "    }\n",
       "\n",
       "    .dataframe tbody tr th {\n",
       "        vertical-align: top;\n",
       "    }\n",
       "\n",
       "    .dataframe thead th {\n",
       "        text-align: right;\n",
       "    }\n",
       "</style>\n",
       "<table border=\"1\" class=\"dataframe\">\n",
       "  <thead>\n",
       "    <tr style=\"text-align: right;\">\n",
       "      <th></th>\n",
       "      <th>id</th>\n",
       "      <th>km4week</th>\n",
       "      <th>sp4week</th>\n",
       "      <th>MarathonTime</th>\n",
       "    </tr>\n",
       "  </thead>\n",
       "  <tbody>\n",
       "    <tr>\n",
       "      <th>id</th>\n",
       "      <td>1.000000</td>\n",
       "      <td>-0.599675</td>\n",
       "      <td>0.162553</td>\n",
       "      <td>0.991548</td>\n",
       "    </tr>\n",
       "    <tr>\n",
       "      <th>km4week</th>\n",
       "      <td>-0.599675</td>\n",
       "      <td>1.000000</td>\n",
       "      <td>-0.107429</td>\n",
       "      <td>-0.606782</td>\n",
       "    </tr>\n",
       "    <tr>\n",
       "      <th>sp4week</th>\n",
       "      <td>0.162553</td>\n",
       "      <td>-0.107429</td>\n",
       "      <td>1.000000</td>\n",
       "      <td>0.172294</td>\n",
       "    </tr>\n",
       "    <tr>\n",
       "      <th>MarathonTime</th>\n",
       "      <td>0.991548</td>\n",
       "      <td>-0.606782</td>\n",
       "      <td>0.172294</td>\n",
       "      <td>1.000000</td>\n",
       "    </tr>\n",
       "  </tbody>\n",
       "</table>\n",
       "</div>"
      ],
      "text/plain": [
       "                    id   km4week   sp4week  MarathonTime\n",
       "id            1.000000 -0.599675  0.162553      0.991548\n",
       "km4week      -0.599675  1.000000 -0.107429     -0.606782\n",
       "sp4week       0.162553 -0.107429  1.000000      0.172294\n",
       "MarathonTime  0.991548 -0.606782  0.172294      1.000000"
      ]
     },
     "execution_count": 27,
     "metadata": {},
     "output_type": "execute_result"
    }
   ],
   "source": [
    "df.corr()"
   ]
  },
  {
   "cell_type": "code",
   "execution_count": 28,
   "metadata": {},
   "outputs": [],
   "source": [
    "##Handling the String data of the Column Category using One hot Encoder"
   ]
  },
  {
   "cell_type": "code",
   "execution_count": 29,
   "metadata": {},
   "outputs": [
    {
     "data": {
      "text/plain": [
       "array(['MAM', 'M45', 'M40', 'M50', 'M55', 'UNKNOWN', 'WAM'], dtype=object)"
      ]
     },
     "execution_count": 29,
     "metadata": {},
     "output_type": "execute_result"
    }
   ],
   "source": [
    "df.Category.unique()"
   ]
  },
  {
   "cell_type": "code",
   "execution_count": 30,
   "metadata": {},
   "outputs": [
    {
     "data": {
      "text/html": [
       "<div>\n",
       "<style scoped>\n",
       "    .dataframe tbody tr th:only-of-type {\n",
       "        vertical-align: middle;\n",
       "    }\n",
       "\n",
       "    .dataframe tbody tr th {\n",
       "        vertical-align: top;\n",
       "    }\n",
       "\n",
       "    .dataframe thead th {\n",
       "        text-align: right;\n",
       "    }\n",
       "</style>\n",
       "<table border=\"1\" class=\"dataframe\">\n",
       "  <thead>\n",
       "    <tr style=\"text-align: right;\">\n",
       "      <th></th>\n",
       "      <th>Category_M40</th>\n",
       "      <th>Category_M45</th>\n",
       "      <th>Category_M50</th>\n",
       "      <th>Category_M55</th>\n",
       "      <th>Category_MAM</th>\n",
       "      <th>Category_UNKNOWN</th>\n",
       "      <th>Category_WAM</th>\n",
       "    </tr>\n",
       "  </thead>\n",
       "  <tbody>\n",
       "    <tr>\n",
       "      <th>0</th>\n",
       "      <td>0</td>\n",
       "      <td>0</td>\n",
       "      <td>0</td>\n",
       "      <td>0</td>\n",
       "      <td>1</td>\n",
       "      <td>0</td>\n",
       "      <td>0</td>\n",
       "    </tr>\n",
       "    <tr>\n",
       "      <th>1</th>\n",
       "      <td>0</td>\n",
       "      <td>0</td>\n",
       "      <td>0</td>\n",
       "      <td>0</td>\n",
       "      <td>1</td>\n",
       "      <td>0</td>\n",
       "      <td>0</td>\n",
       "    </tr>\n",
       "    <tr>\n",
       "      <th>2</th>\n",
       "      <td>0</td>\n",
       "      <td>0</td>\n",
       "      <td>0</td>\n",
       "      <td>0</td>\n",
       "      <td>1</td>\n",
       "      <td>0</td>\n",
       "      <td>0</td>\n",
       "    </tr>\n",
       "    <tr>\n",
       "      <th>3</th>\n",
       "      <td>0</td>\n",
       "      <td>1</td>\n",
       "      <td>0</td>\n",
       "      <td>0</td>\n",
       "      <td>0</td>\n",
       "      <td>0</td>\n",
       "      <td>0</td>\n",
       "    </tr>\n",
       "    <tr>\n",
       "      <th>4</th>\n",
       "      <td>0</td>\n",
       "      <td>0</td>\n",
       "      <td>0</td>\n",
       "      <td>0</td>\n",
       "      <td>1</td>\n",
       "      <td>0</td>\n",
       "      <td>0</td>\n",
       "    </tr>\n",
       "    <tr>\n",
       "      <th>5</th>\n",
       "      <td>1</td>\n",
       "      <td>0</td>\n",
       "      <td>0</td>\n",
       "      <td>0</td>\n",
       "      <td>0</td>\n",
       "      <td>0</td>\n",
       "      <td>0</td>\n",
       "    </tr>\n",
       "    <tr>\n",
       "      <th>6</th>\n",
       "      <td>1</td>\n",
       "      <td>0</td>\n",
       "      <td>0</td>\n",
       "      <td>0</td>\n",
       "      <td>0</td>\n",
       "      <td>0</td>\n",
       "      <td>0</td>\n",
       "    </tr>\n",
       "    <tr>\n",
       "      <th>7</th>\n",
       "      <td>0</td>\n",
       "      <td>1</td>\n",
       "      <td>0</td>\n",
       "      <td>0</td>\n",
       "      <td>0</td>\n",
       "      <td>0</td>\n",
       "      <td>0</td>\n",
       "    </tr>\n",
       "    <tr>\n",
       "      <th>8</th>\n",
       "      <td>0</td>\n",
       "      <td>0</td>\n",
       "      <td>0</td>\n",
       "      <td>0</td>\n",
       "      <td>1</td>\n",
       "      <td>0</td>\n",
       "      <td>0</td>\n",
       "    </tr>\n",
       "    <tr>\n",
       "      <th>9</th>\n",
       "      <td>0</td>\n",
       "      <td>1</td>\n",
       "      <td>0</td>\n",
       "      <td>0</td>\n",
       "      <td>0</td>\n",
       "      <td>0</td>\n",
       "      <td>0</td>\n",
       "    </tr>\n",
       "    <tr>\n",
       "      <th>10</th>\n",
       "      <td>0</td>\n",
       "      <td>0</td>\n",
       "      <td>0</td>\n",
       "      <td>0</td>\n",
       "      <td>1</td>\n",
       "      <td>0</td>\n",
       "      <td>0</td>\n",
       "    </tr>\n",
       "    <tr>\n",
       "      <th>11</th>\n",
       "      <td>0</td>\n",
       "      <td>0</td>\n",
       "      <td>1</td>\n",
       "      <td>0</td>\n",
       "      <td>0</td>\n",
       "      <td>0</td>\n",
       "      <td>0</td>\n",
       "    </tr>\n",
       "    <tr>\n",
       "      <th>12</th>\n",
       "      <td>0</td>\n",
       "      <td>1</td>\n",
       "      <td>0</td>\n",
       "      <td>0</td>\n",
       "      <td>0</td>\n",
       "      <td>0</td>\n",
       "      <td>0</td>\n",
       "    </tr>\n",
       "    <tr>\n",
       "      <th>13</th>\n",
       "      <td>1</td>\n",
       "      <td>0</td>\n",
       "      <td>0</td>\n",
       "      <td>0</td>\n",
       "      <td>0</td>\n",
       "      <td>0</td>\n",
       "      <td>0</td>\n",
       "    </tr>\n",
       "    <tr>\n",
       "      <th>14</th>\n",
       "      <td>0</td>\n",
       "      <td>0</td>\n",
       "      <td>0</td>\n",
       "      <td>0</td>\n",
       "      <td>1</td>\n",
       "      <td>0</td>\n",
       "      <td>0</td>\n",
       "    </tr>\n",
       "    <tr>\n",
       "      <th>15</th>\n",
       "      <td>0</td>\n",
       "      <td>0</td>\n",
       "      <td>0</td>\n",
       "      <td>0</td>\n",
       "      <td>1</td>\n",
       "      <td>0</td>\n",
       "      <td>0</td>\n",
       "    </tr>\n",
       "    <tr>\n",
       "      <th>16</th>\n",
       "      <td>0</td>\n",
       "      <td>0</td>\n",
       "      <td>0</td>\n",
       "      <td>1</td>\n",
       "      <td>0</td>\n",
       "      <td>0</td>\n",
       "      <td>0</td>\n",
       "    </tr>\n",
       "    <tr>\n",
       "      <th>17</th>\n",
       "      <td>1</td>\n",
       "      <td>0</td>\n",
       "      <td>0</td>\n",
       "      <td>0</td>\n",
       "      <td>0</td>\n",
       "      <td>0</td>\n",
       "      <td>0</td>\n",
       "    </tr>\n",
       "    <tr>\n",
       "      <th>18</th>\n",
       "      <td>0</td>\n",
       "      <td>0</td>\n",
       "      <td>0</td>\n",
       "      <td>0</td>\n",
       "      <td>1</td>\n",
       "      <td>0</td>\n",
       "      <td>0</td>\n",
       "    </tr>\n",
       "    <tr>\n",
       "      <th>19</th>\n",
       "      <td>0</td>\n",
       "      <td>0</td>\n",
       "      <td>0</td>\n",
       "      <td>0</td>\n",
       "      <td>1</td>\n",
       "      <td>0</td>\n",
       "      <td>0</td>\n",
       "    </tr>\n",
       "    <tr>\n",
       "      <th>20</th>\n",
       "      <td>0</td>\n",
       "      <td>0</td>\n",
       "      <td>0</td>\n",
       "      <td>0</td>\n",
       "      <td>1</td>\n",
       "      <td>0</td>\n",
       "      <td>0</td>\n",
       "    </tr>\n",
       "    <tr>\n",
       "      <th>21</th>\n",
       "      <td>1</td>\n",
       "      <td>0</td>\n",
       "      <td>0</td>\n",
       "      <td>0</td>\n",
       "      <td>0</td>\n",
       "      <td>0</td>\n",
       "      <td>0</td>\n",
       "    </tr>\n",
       "    <tr>\n",
       "      <th>22</th>\n",
       "      <td>1</td>\n",
       "      <td>0</td>\n",
       "      <td>0</td>\n",
       "      <td>0</td>\n",
       "      <td>0</td>\n",
       "      <td>0</td>\n",
       "      <td>0</td>\n",
       "    </tr>\n",
       "    <tr>\n",
       "      <th>23</th>\n",
       "      <td>0</td>\n",
       "      <td>1</td>\n",
       "      <td>0</td>\n",
       "      <td>0</td>\n",
       "      <td>0</td>\n",
       "      <td>0</td>\n",
       "      <td>0</td>\n",
       "    </tr>\n",
       "    <tr>\n",
       "      <th>24</th>\n",
       "      <td>0</td>\n",
       "      <td>0</td>\n",
       "      <td>0</td>\n",
       "      <td>0</td>\n",
       "      <td>1</td>\n",
       "      <td>0</td>\n",
       "      <td>0</td>\n",
       "    </tr>\n",
       "    <tr>\n",
       "      <th>25</th>\n",
       "      <td>0</td>\n",
       "      <td>0</td>\n",
       "      <td>0</td>\n",
       "      <td>0</td>\n",
       "      <td>0</td>\n",
       "      <td>1</td>\n",
       "      <td>0</td>\n",
       "    </tr>\n",
       "    <tr>\n",
       "      <th>26</th>\n",
       "      <td>0</td>\n",
       "      <td>0</td>\n",
       "      <td>0</td>\n",
       "      <td>0</td>\n",
       "      <td>0</td>\n",
       "      <td>0</td>\n",
       "      <td>1</td>\n",
       "    </tr>\n",
       "    <tr>\n",
       "      <th>27</th>\n",
       "      <td>0</td>\n",
       "      <td>0</td>\n",
       "      <td>0</td>\n",
       "      <td>0</td>\n",
       "      <td>1</td>\n",
       "      <td>0</td>\n",
       "      <td>0</td>\n",
       "    </tr>\n",
       "    <tr>\n",
       "      <th>28</th>\n",
       "      <td>0</td>\n",
       "      <td>1</td>\n",
       "      <td>0</td>\n",
       "      <td>0</td>\n",
       "      <td>0</td>\n",
       "      <td>0</td>\n",
       "      <td>0</td>\n",
       "    </tr>\n",
       "    <tr>\n",
       "      <th>29</th>\n",
       "      <td>0</td>\n",
       "      <td>0</td>\n",
       "      <td>1</td>\n",
       "      <td>0</td>\n",
       "      <td>0</td>\n",
       "      <td>0</td>\n",
       "      <td>0</td>\n",
       "    </tr>\n",
       "    <tr>\n",
       "      <th>...</th>\n",
       "      <td>...</td>\n",
       "      <td>...</td>\n",
       "      <td>...</td>\n",
       "      <td>...</td>\n",
       "      <td>...</td>\n",
       "      <td>...</td>\n",
       "      <td>...</td>\n",
       "    </tr>\n",
       "    <tr>\n",
       "      <th>57</th>\n",
       "      <td>0</td>\n",
       "      <td>0</td>\n",
       "      <td>0</td>\n",
       "      <td>0</td>\n",
       "      <td>1</td>\n",
       "      <td>0</td>\n",
       "      <td>0</td>\n",
       "    </tr>\n",
       "    <tr>\n",
       "      <th>58</th>\n",
       "      <td>0</td>\n",
       "      <td>0</td>\n",
       "      <td>0</td>\n",
       "      <td>0</td>\n",
       "      <td>1</td>\n",
       "      <td>0</td>\n",
       "      <td>0</td>\n",
       "    </tr>\n",
       "    <tr>\n",
       "      <th>59</th>\n",
       "      <td>1</td>\n",
       "      <td>0</td>\n",
       "      <td>0</td>\n",
       "      <td>0</td>\n",
       "      <td>0</td>\n",
       "      <td>0</td>\n",
       "      <td>0</td>\n",
       "    </tr>\n",
       "    <tr>\n",
       "      <th>60</th>\n",
       "      <td>1</td>\n",
       "      <td>0</td>\n",
       "      <td>0</td>\n",
       "      <td>0</td>\n",
       "      <td>0</td>\n",
       "      <td>0</td>\n",
       "      <td>0</td>\n",
       "    </tr>\n",
       "    <tr>\n",
       "      <th>61</th>\n",
       "      <td>0</td>\n",
       "      <td>0</td>\n",
       "      <td>0</td>\n",
       "      <td>0</td>\n",
       "      <td>1</td>\n",
       "      <td>0</td>\n",
       "      <td>0</td>\n",
       "    </tr>\n",
       "    <tr>\n",
       "      <th>62</th>\n",
       "      <td>0</td>\n",
       "      <td>1</td>\n",
       "      <td>0</td>\n",
       "      <td>0</td>\n",
       "      <td>0</td>\n",
       "      <td>0</td>\n",
       "      <td>0</td>\n",
       "    </tr>\n",
       "    <tr>\n",
       "      <th>63</th>\n",
       "      <td>0</td>\n",
       "      <td>0</td>\n",
       "      <td>0</td>\n",
       "      <td>0</td>\n",
       "      <td>1</td>\n",
       "      <td>0</td>\n",
       "      <td>0</td>\n",
       "    </tr>\n",
       "    <tr>\n",
       "      <th>64</th>\n",
       "      <td>1</td>\n",
       "      <td>0</td>\n",
       "      <td>0</td>\n",
       "      <td>0</td>\n",
       "      <td>0</td>\n",
       "      <td>0</td>\n",
       "      <td>0</td>\n",
       "    </tr>\n",
       "    <tr>\n",
       "      <th>65</th>\n",
       "      <td>0</td>\n",
       "      <td>1</td>\n",
       "      <td>0</td>\n",
       "      <td>0</td>\n",
       "      <td>0</td>\n",
       "      <td>0</td>\n",
       "      <td>0</td>\n",
       "    </tr>\n",
       "    <tr>\n",
       "      <th>66</th>\n",
       "      <td>0</td>\n",
       "      <td>0</td>\n",
       "      <td>0</td>\n",
       "      <td>0</td>\n",
       "      <td>1</td>\n",
       "      <td>0</td>\n",
       "      <td>0</td>\n",
       "    </tr>\n",
       "    <tr>\n",
       "      <th>67</th>\n",
       "      <td>0</td>\n",
       "      <td>0</td>\n",
       "      <td>0</td>\n",
       "      <td>0</td>\n",
       "      <td>1</td>\n",
       "      <td>0</td>\n",
       "      <td>0</td>\n",
       "    </tr>\n",
       "    <tr>\n",
       "      <th>68</th>\n",
       "      <td>0</td>\n",
       "      <td>0</td>\n",
       "      <td>0</td>\n",
       "      <td>0</td>\n",
       "      <td>1</td>\n",
       "      <td>0</td>\n",
       "      <td>0</td>\n",
       "    </tr>\n",
       "    <tr>\n",
       "      <th>69</th>\n",
       "      <td>0</td>\n",
       "      <td>0</td>\n",
       "      <td>0</td>\n",
       "      <td>0</td>\n",
       "      <td>1</td>\n",
       "      <td>0</td>\n",
       "      <td>0</td>\n",
       "    </tr>\n",
       "    <tr>\n",
       "      <th>70</th>\n",
       "      <td>0</td>\n",
       "      <td>1</td>\n",
       "      <td>0</td>\n",
       "      <td>0</td>\n",
       "      <td>0</td>\n",
       "      <td>0</td>\n",
       "      <td>0</td>\n",
       "    </tr>\n",
       "    <tr>\n",
       "      <th>71</th>\n",
       "      <td>0</td>\n",
       "      <td>0</td>\n",
       "      <td>1</td>\n",
       "      <td>0</td>\n",
       "      <td>0</td>\n",
       "      <td>0</td>\n",
       "      <td>0</td>\n",
       "    </tr>\n",
       "    <tr>\n",
       "      <th>72</th>\n",
       "      <td>0</td>\n",
       "      <td>0</td>\n",
       "      <td>0</td>\n",
       "      <td>0</td>\n",
       "      <td>0</td>\n",
       "      <td>0</td>\n",
       "      <td>1</td>\n",
       "    </tr>\n",
       "    <tr>\n",
       "      <th>73</th>\n",
       "      <td>0</td>\n",
       "      <td>0</td>\n",
       "      <td>0</td>\n",
       "      <td>0</td>\n",
       "      <td>0</td>\n",
       "      <td>1</td>\n",
       "      <td>0</td>\n",
       "    </tr>\n",
       "    <tr>\n",
       "      <th>74</th>\n",
       "      <td>0</td>\n",
       "      <td>0</td>\n",
       "      <td>0</td>\n",
       "      <td>0</td>\n",
       "      <td>1</td>\n",
       "      <td>0</td>\n",
       "      <td>0</td>\n",
       "    </tr>\n",
       "    <tr>\n",
       "      <th>75</th>\n",
       "      <td>0</td>\n",
       "      <td>0</td>\n",
       "      <td>0</td>\n",
       "      <td>0</td>\n",
       "      <td>1</td>\n",
       "      <td>0</td>\n",
       "      <td>0</td>\n",
       "    </tr>\n",
       "    <tr>\n",
       "      <th>76</th>\n",
       "      <td>0</td>\n",
       "      <td>0</td>\n",
       "      <td>0</td>\n",
       "      <td>0</td>\n",
       "      <td>1</td>\n",
       "      <td>0</td>\n",
       "      <td>0</td>\n",
       "    </tr>\n",
       "    <tr>\n",
       "      <th>77</th>\n",
       "      <td>0</td>\n",
       "      <td>0</td>\n",
       "      <td>0</td>\n",
       "      <td>0</td>\n",
       "      <td>1</td>\n",
       "      <td>0</td>\n",
       "      <td>0</td>\n",
       "    </tr>\n",
       "    <tr>\n",
       "      <th>78</th>\n",
       "      <td>0</td>\n",
       "      <td>0</td>\n",
       "      <td>0</td>\n",
       "      <td>0</td>\n",
       "      <td>1</td>\n",
       "      <td>0</td>\n",
       "      <td>0</td>\n",
       "    </tr>\n",
       "    <tr>\n",
       "      <th>79</th>\n",
       "      <td>0</td>\n",
       "      <td>0</td>\n",
       "      <td>0</td>\n",
       "      <td>0</td>\n",
       "      <td>1</td>\n",
       "      <td>0</td>\n",
       "      <td>0</td>\n",
       "    </tr>\n",
       "    <tr>\n",
       "      <th>80</th>\n",
       "      <td>0</td>\n",
       "      <td>0</td>\n",
       "      <td>0</td>\n",
       "      <td>0</td>\n",
       "      <td>0</td>\n",
       "      <td>1</td>\n",
       "      <td>0</td>\n",
       "    </tr>\n",
       "    <tr>\n",
       "      <th>81</th>\n",
       "      <td>0</td>\n",
       "      <td>0</td>\n",
       "      <td>0</td>\n",
       "      <td>0</td>\n",
       "      <td>1</td>\n",
       "      <td>0</td>\n",
       "      <td>0</td>\n",
       "    </tr>\n",
       "    <tr>\n",
       "      <th>82</th>\n",
       "      <td>0</td>\n",
       "      <td>0</td>\n",
       "      <td>0</td>\n",
       "      <td>1</td>\n",
       "      <td>0</td>\n",
       "      <td>0</td>\n",
       "      <td>0</td>\n",
       "    </tr>\n",
       "    <tr>\n",
       "      <th>83</th>\n",
       "      <td>1</td>\n",
       "      <td>0</td>\n",
       "      <td>0</td>\n",
       "      <td>0</td>\n",
       "      <td>0</td>\n",
       "      <td>0</td>\n",
       "      <td>0</td>\n",
       "    </tr>\n",
       "    <tr>\n",
       "      <th>84</th>\n",
       "      <td>1</td>\n",
       "      <td>0</td>\n",
       "      <td>0</td>\n",
       "      <td>0</td>\n",
       "      <td>0</td>\n",
       "      <td>0</td>\n",
       "      <td>0</td>\n",
       "    </tr>\n",
       "    <tr>\n",
       "      <th>85</th>\n",
       "      <td>0</td>\n",
       "      <td>1</td>\n",
       "      <td>0</td>\n",
       "      <td>0</td>\n",
       "      <td>0</td>\n",
       "      <td>0</td>\n",
       "      <td>0</td>\n",
       "    </tr>\n",
       "    <tr>\n",
       "      <th>86</th>\n",
       "      <td>1</td>\n",
       "      <td>0</td>\n",
       "      <td>0</td>\n",
       "      <td>0</td>\n",
       "      <td>0</td>\n",
       "      <td>0</td>\n",
       "      <td>0</td>\n",
       "    </tr>\n",
       "  </tbody>\n",
       "</table>\n",
       "<p>87 rows × 7 columns</p>\n",
       "</div>"
      ],
      "text/plain": [
       "    Category_M40  Category_M45  Category_M50  Category_M55  Category_MAM  \\\n",
       "0              0             0             0             0             1   \n",
       "1              0             0             0             0             1   \n",
       "2              0             0             0             0             1   \n",
       "3              0             1             0             0             0   \n",
       "4              0             0             0             0             1   \n",
       "5              1             0             0             0             0   \n",
       "6              1             0             0             0             0   \n",
       "7              0             1             0             0             0   \n",
       "8              0             0             0             0             1   \n",
       "9              0             1             0             0             0   \n",
       "10             0             0             0             0             1   \n",
       "11             0             0             1             0             0   \n",
       "12             0             1             0             0             0   \n",
       "13             1             0             0             0             0   \n",
       "14             0             0             0             0             1   \n",
       "15             0             0             0             0             1   \n",
       "16             0             0             0             1             0   \n",
       "17             1             0             0             0             0   \n",
       "18             0             0             0             0             1   \n",
       "19             0             0             0             0             1   \n",
       "20             0             0             0             0             1   \n",
       "21             1             0             0             0             0   \n",
       "22             1             0             0             0             0   \n",
       "23             0             1             0             0             0   \n",
       "24             0             0             0             0             1   \n",
       "25             0             0             0             0             0   \n",
       "26             0             0             0             0             0   \n",
       "27             0             0             0             0             1   \n",
       "28             0             1             0             0             0   \n",
       "29             0             0             1             0             0   \n",
       "..           ...           ...           ...           ...           ...   \n",
       "57             0             0             0             0             1   \n",
       "58             0             0             0             0             1   \n",
       "59             1             0             0             0             0   \n",
       "60             1             0             0             0             0   \n",
       "61             0             0             0             0             1   \n",
       "62             0             1             0             0             0   \n",
       "63             0             0             0             0             1   \n",
       "64             1             0             0             0             0   \n",
       "65             0             1             0             0             0   \n",
       "66             0             0             0             0             1   \n",
       "67             0             0             0             0             1   \n",
       "68             0             0             0             0             1   \n",
       "69             0             0             0             0             1   \n",
       "70             0             1             0             0             0   \n",
       "71             0             0             1             0             0   \n",
       "72             0             0             0             0             0   \n",
       "73             0             0             0             0             0   \n",
       "74             0             0             0             0             1   \n",
       "75             0             0             0             0             1   \n",
       "76             0             0             0             0             1   \n",
       "77             0             0             0             0             1   \n",
       "78             0             0             0             0             1   \n",
       "79             0             0             0             0             1   \n",
       "80             0             0             0             0             0   \n",
       "81             0             0             0             0             1   \n",
       "82             0             0             0             1             0   \n",
       "83             1             0             0             0             0   \n",
       "84             1             0             0             0             0   \n",
       "85             0             1             0             0             0   \n",
       "86             1             0             0             0             0   \n",
       "\n",
       "    Category_UNKNOWN  Category_WAM  \n",
       "0                  0             0  \n",
       "1                  0             0  \n",
       "2                  0             0  \n",
       "3                  0             0  \n",
       "4                  0             0  \n",
       "5                  0             0  \n",
       "6                  0             0  \n",
       "7                  0             0  \n",
       "8                  0             0  \n",
       "9                  0             0  \n",
       "10                 0             0  \n",
       "11                 0             0  \n",
       "12                 0             0  \n",
       "13                 0             0  \n",
       "14                 0             0  \n",
       "15                 0             0  \n",
       "16                 0             0  \n",
       "17                 0             0  \n",
       "18                 0             0  \n",
       "19                 0             0  \n",
       "20                 0             0  \n",
       "21                 0             0  \n",
       "22                 0             0  \n",
       "23                 0             0  \n",
       "24                 0             0  \n",
       "25                 1             0  \n",
       "26                 0             1  \n",
       "27                 0             0  \n",
       "28                 0             0  \n",
       "29                 0             0  \n",
       "..               ...           ...  \n",
       "57                 0             0  \n",
       "58                 0             0  \n",
       "59                 0             0  \n",
       "60                 0             0  \n",
       "61                 0             0  \n",
       "62                 0             0  \n",
       "63                 0             0  \n",
       "64                 0             0  \n",
       "65                 0             0  \n",
       "66                 0             0  \n",
       "67                 0             0  \n",
       "68                 0             0  \n",
       "69                 0             0  \n",
       "70                 0             0  \n",
       "71                 0             0  \n",
       "72                 0             1  \n",
       "73                 1             0  \n",
       "74                 0             0  \n",
       "75                 0             0  \n",
       "76                 0             0  \n",
       "77                 0             0  \n",
       "78                 0             0  \n",
       "79                 0             0  \n",
       "80                 1             0  \n",
       "81                 0             0  \n",
       "82                 0             0  \n",
       "83                 0             0  \n",
       "84                 0             0  \n",
       "85                 0             0  \n",
       "86                 0             0  \n",
       "\n",
       "[87 rows x 7 columns]"
      ]
     },
     "execution_count": 30,
     "metadata": {},
     "output_type": "execute_result"
    }
   ],
   "source": [
    "pd.get_dummies(df.Category,prefix = \"Category\")"
   ]
  },
  {
   "cell_type": "code",
   "execution_count": 31,
   "metadata": {},
   "outputs": [],
   "source": [
    "Category_dummies = pd.get_dummies(df.Category,prefix = \"Category\").iloc[:,0:]"
   ]
  },
  {
   "cell_type": "code",
   "execution_count": 32,
   "metadata": {},
   "outputs": [
    {
     "data": {
      "text/html": [
       "<div>\n",
       "<style scoped>\n",
       "    .dataframe tbody tr th:only-of-type {\n",
       "        vertical-align: middle;\n",
       "    }\n",
       "\n",
       "    .dataframe tbody tr th {\n",
       "        vertical-align: top;\n",
       "    }\n",
       "\n",
       "    .dataframe thead th {\n",
       "        text-align: right;\n",
       "    }\n",
       "</style>\n",
       "<table border=\"1\" class=\"dataframe\">\n",
       "  <thead>\n",
       "    <tr style=\"text-align: right;\">\n",
       "      <th></th>\n",
       "      <th>id</th>\n",
       "      <th>Marathon</th>\n",
       "      <th>Name</th>\n",
       "      <th>Category</th>\n",
       "      <th>km4week</th>\n",
       "      <th>sp4week</th>\n",
       "      <th>CrossTraining</th>\n",
       "      <th>Wall21</th>\n",
       "      <th>MarathonTime</th>\n",
       "      <th>CATEGORY</th>\n",
       "      <th>Category_M40</th>\n",
       "      <th>Category_M45</th>\n",
       "      <th>Category_M50</th>\n",
       "      <th>Category_M55</th>\n",
       "      <th>Category_MAM</th>\n",
       "      <th>Category_UNKNOWN</th>\n",
       "      <th>Category_WAM</th>\n",
       "    </tr>\n",
       "  </thead>\n",
       "  <tbody>\n",
       "    <tr>\n",
       "      <th>0</th>\n",
       "      <td>1</td>\n",
       "      <td>Prague17</td>\n",
       "      <td>Blair MORGAN</td>\n",
       "      <td>MAM</td>\n",
       "      <td>132.8</td>\n",
       "      <td>14.434783</td>\n",
       "      <td>UNKNOWN</td>\n",
       "      <td>1.16</td>\n",
       "      <td>2.37</td>\n",
       "      <td>A</td>\n",
       "      <td>0</td>\n",
       "      <td>0</td>\n",
       "      <td>0</td>\n",
       "      <td>0</td>\n",
       "      <td>1</td>\n",
       "      <td>0</td>\n",
       "      <td>0</td>\n",
       "    </tr>\n",
       "    <tr>\n",
       "      <th>1</th>\n",
       "      <td>2</td>\n",
       "      <td>Prague17</td>\n",
       "      <td>Robert Heczko</td>\n",
       "      <td>MAM</td>\n",
       "      <td>68.6</td>\n",
       "      <td>13.674419</td>\n",
       "      <td>UNKNOWN</td>\n",
       "      <td>1.23</td>\n",
       "      <td>2.59</td>\n",
       "      <td>A</td>\n",
       "      <td>0</td>\n",
       "      <td>0</td>\n",
       "      <td>0</td>\n",
       "      <td>0</td>\n",
       "      <td>1</td>\n",
       "      <td>0</td>\n",
       "      <td>0</td>\n",
       "    </tr>\n",
       "    <tr>\n",
       "      <th>2</th>\n",
       "      <td>3</td>\n",
       "      <td>Prague17</td>\n",
       "      <td>Michon Jerome</td>\n",
       "      <td>MAM</td>\n",
       "      <td>82.7</td>\n",
       "      <td>13.520436</td>\n",
       "      <td>UNKNOWN</td>\n",
       "      <td>1.30</td>\n",
       "      <td>2.66</td>\n",
       "      <td>A</td>\n",
       "      <td>0</td>\n",
       "      <td>0</td>\n",
       "      <td>0</td>\n",
       "      <td>0</td>\n",
       "      <td>1</td>\n",
       "      <td>0</td>\n",
       "      <td>0</td>\n",
       "    </tr>\n",
       "    <tr>\n",
       "      <th>3</th>\n",
       "      <td>4</td>\n",
       "      <td>Prague17</td>\n",
       "      <td>Daniel Or lek</td>\n",
       "      <td>M45</td>\n",
       "      <td>137.5</td>\n",
       "      <td>12.258544</td>\n",
       "      <td>UNKNOWN</td>\n",
       "      <td>1.32</td>\n",
       "      <td>2.68</td>\n",
       "      <td>A</td>\n",
       "      <td>0</td>\n",
       "      <td>1</td>\n",
       "      <td>0</td>\n",
       "      <td>0</td>\n",
       "      <td>0</td>\n",
       "      <td>0</td>\n",
       "      <td>0</td>\n",
       "    </tr>\n",
       "    <tr>\n",
       "      <th>4</th>\n",
       "      <td>5</td>\n",
       "      <td>Prague17</td>\n",
       "      <td>Luk ? Mr zek</td>\n",
       "      <td>MAM</td>\n",
       "      <td>84.6</td>\n",
       "      <td>13.945055</td>\n",
       "      <td>UNKNOWN</td>\n",
       "      <td>1.36</td>\n",
       "      <td>2.74</td>\n",
       "      <td>A</td>\n",
       "      <td>0</td>\n",
       "      <td>0</td>\n",
       "      <td>0</td>\n",
       "      <td>0</td>\n",
       "      <td>1</td>\n",
       "      <td>0</td>\n",
       "      <td>0</td>\n",
       "    </tr>\n",
       "  </tbody>\n",
       "</table>\n",
       "</div>"
      ],
      "text/plain": [
       "   id  Marathon           Name Category  km4week    sp4week CrossTraining  \\\n",
       "0   1  Prague17   Blair MORGAN      MAM    132.8  14.434783       UNKNOWN   \n",
       "1   2  Prague17  Robert Heczko      MAM     68.6  13.674419       UNKNOWN   \n",
       "2   3  Prague17  Michon Jerome      MAM     82.7  13.520436       UNKNOWN   \n",
       "3   4  Prague17  Daniel Or lek      M45    137.5  12.258544       UNKNOWN   \n",
       "4   5  Prague17   Luk ? Mr zek      MAM     84.6  13.945055       UNKNOWN   \n",
       "\n",
       "  Wall21  MarathonTime CATEGORY  Category_M40  Category_M45  Category_M50  \\\n",
       "0   1.16          2.37        A             0             0             0   \n",
       "1   1.23          2.59        A             0             0             0   \n",
       "2   1.30          2.66        A             0             0             0   \n",
       "3   1.32          2.68        A             0             1             0   \n",
       "4   1.36          2.74        A             0             0             0   \n",
       "\n",
       "   Category_M55  Category_MAM  Category_UNKNOWN  Category_WAM  \n",
       "0             0             1                 0             0  \n",
       "1             0             1                 0             0  \n",
       "2             0             1                 0             0  \n",
       "3             0             0                 0             0  \n",
       "4             0             1                 0             0  "
      ]
     },
     "execution_count": 32,
     "metadata": {},
     "output_type": "execute_result"
    }
   ],
   "source": [
    "df = pd.concat([df,Category_dummies],axis = 1)\n",
    "df.head()"
   ]
  },
  {
   "cell_type": "code",
   "execution_count": 33,
   "metadata": {},
   "outputs": [
    {
     "data": {
      "text/plain": [
       "Index([u'id', u'Marathon', u'Name', u'Category', u'km4week', u'sp4week',\n",
       "       u'CrossTraining', u'Wall21', u'MarathonTime', u'CATEGORY',\n",
       "       u'Category_M40', u'Category_M45', u'Category_M50', u'Category_M55',\n",
       "       u'Category_MAM', u'Category_UNKNOWN', u'Category_WAM'],\n",
       "      dtype='object')"
      ]
     },
     "execution_count": 33,
     "metadata": {},
     "output_type": "execute_result"
    }
   ],
   "source": [
    "df.columns"
   ]
  },
  {
   "cell_type": "code",
   "execution_count": 34,
   "metadata": {},
   "outputs": [],
   "source": [
    "##df['NewCategory']=df['Category_M40']+df['Category_M45']+df['Category_M50']+df['Category_M55']+df['Category_MAM']+df['Category_UNKNOWN']+df['Category_WAM']"
   ]
  },
  {
   "cell_type": "code",
   "execution_count": 35,
   "metadata": {},
   "outputs": [],
   "source": [
    "##df=df.drop('NewCategory',axis=1)"
   ]
  },
  {
   "cell_type": "code",
   "execution_count": 36,
   "metadata": {},
   "outputs": [
    {
     "data": {
      "text/html": [
       "<div>\n",
       "<style scoped>\n",
       "    .dataframe tbody tr th:only-of-type {\n",
       "        vertical-align: middle;\n",
       "    }\n",
       "\n",
       "    .dataframe tbody tr th {\n",
       "        vertical-align: top;\n",
       "    }\n",
       "\n",
       "    .dataframe thead th {\n",
       "        text-align: right;\n",
       "    }\n",
       "</style>\n",
       "<table border=\"1\" class=\"dataframe\">\n",
       "  <thead>\n",
       "    <tr style=\"text-align: right;\">\n",
       "      <th></th>\n",
       "      <th>id</th>\n",
       "      <th>Marathon</th>\n",
       "      <th>Name</th>\n",
       "      <th>Category</th>\n",
       "      <th>km4week</th>\n",
       "      <th>sp4week</th>\n",
       "      <th>CrossTraining</th>\n",
       "      <th>Wall21</th>\n",
       "      <th>MarathonTime</th>\n",
       "      <th>CATEGORY</th>\n",
       "      <th>Category_M40</th>\n",
       "      <th>Category_M45</th>\n",
       "      <th>Category_M50</th>\n",
       "      <th>Category_M55</th>\n",
       "      <th>Category_MAM</th>\n",
       "      <th>Category_UNKNOWN</th>\n",
       "      <th>Category_WAM</th>\n",
       "    </tr>\n",
       "  </thead>\n",
       "  <tbody>\n",
       "    <tr>\n",
       "      <th>0</th>\n",
       "      <td>1</td>\n",
       "      <td>Prague17</td>\n",
       "      <td>Blair MORGAN</td>\n",
       "      <td>MAM</td>\n",
       "      <td>132.8</td>\n",
       "      <td>14.434783</td>\n",
       "      <td>UNKNOWN</td>\n",
       "      <td>1.16</td>\n",
       "      <td>2.37</td>\n",
       "      <td>A</td>\n",
       "      <td>0</td>\n",
       "      <td>0</td>\n",
       "      <td>0</td>\n",
       "      <td>0</td>\n",
       "      <td>1</td>\n",
       "      <td>0</td>\n",
       "      <td>0</td>\n",
       "    </tr>\n",
       "    <tr>\n",
       "      <th>1</th>\n",
       "      <td>2</td>\n",
       "      <td>Prague17</td>\n",
       "      <td>Robert Heczko</td>\n",
       "      <td>MAM</td>\n",
       "      <td>68.6</td>\n",
       "      <td>13.674419</td>\n",
       "      <td>UNKNOWN</td>\n",
       "      <td>1.23</td>\n",
       "      <td>2.59</td>\n",
       "      <td>A</td>\n",
       "      <td>0</td>\n",
       "      <td>0</td>\n",
       "      <td>0</td>\n",
       "      <td>0</td>\n",
       "      <td>1</td>\n",
       "      <td>0</td>\n",
       "      <td>0</td>\n",
       "    </tr>\n",
       "    <tr>\n",
       "      <th>2</th>\n",
       "      <td>3</td>\n",
       "      <td>Prague17</td>\n",
       "      <td>Michon Jerome</td>\n",
       "      <td>MAM</td>\n",
       "      <td>82.7</td>\n",
       "      <td>13.520436</td>\n",
       "      <td>UNKNOWN</td>\n",
       "      <td>1.30</td>\n",
       "      <td>2.66</td>\n",
       "      <td>A</td>\n",
       "      <td>0</td>\n",
       "      <td>0</td>\n",
       "      <td>0</td>\n",
       "      <td>0</td>\n",
       "      <td>1</td>\n",
       "      <td>0</td>\n",
       "      <td>0</td>\n",
       "    </tr>\n",
       "    <tr>\n",
       "      <th>3</th>\n",
       "      <td>4</td>\n",
       "      <td>Prague17</td>\n",
       "      <td>Daniel Or lek</td>\n",
       "      <td>M45</td>\n",
       "      <td>137.5</td>\n",
       "      <td>12.258544</td>\n",
       "      <td>UNKNOWN</td>\n",
       "      <td>1.32</td>\n",
       "      <td>2.68</td>\n",
       "      <td>A</td>\n",
       "      <td>0</td>\n",
       "      <td>1</td>\n",
       "      <td>0</td>\n",
       "      <td>0</td>\n",
       "      <td>0</td>\n",
       "      <td>0</td>\n",
       "      <td>0</td>\n",
       "    </tr>\n",
       "    <tr>\n",
       "      <th>4</th>\n",
       "      <td>5</td>\n",
       "      <td>Prague17</td>\n",
       "      <td>Luk ? Mr zek</td>\n",
       "      <td>MAM</td>\n",
       "      <td>84.6</td>\n",
       "      <td>13.945055</td>\n",
       "      <td>UNKNOWN</td>\n",
       "      <td>1.36</td>\n",
       "      <td>2.74</td>\n",
       "      <td>A</td>\n",
       "      <td>0</td>\n",
       "      <td>0</td>\n",
       "      <td>0</td>\n",
       "      <td>0</td>\n",
       "      <td>1</td>\n",
       "      <td>0</td>\n",
       "      <td>0</td>\n",
       "    </tr>\n",
       "  </tbody>\n",
       "</table>\n",
       "</div>"
      ],
      "text/plain": [
       "   id  Marathon           Name Category  km4week    sp4week CrossTraining  \\\n",
       "0   1  Prague17   Blair MORGAN      MAM    132.8  14.434783       UNKNOWN   \n",
       "1   2  Prague17  Robert Heczko      MAM     68.6  13.674419       UNKNOWN   \n",
       "2   3  Prague17  Michon Jerome      MAM     82.7  13.520436       UNKNOWN   \n",
       "3   4  Prague17  Daniel Or lek      M45    137.5  12.258544       UNKNOWN   \n",
       "4   5  Prague17   Luk ? Mr zek      MAM     84.6  13.945055       UNKNOWN   \n",
       "\n",
       "  Wall21  MarathonTime CATEGORY  Category_M40  Category_M45  Category_M50  \\\n",
       "0   1.16          2.37        A             0             0             0   \n",
       "1   1.23          2.59        A             0             0             0   \n",
       "2   1.30          2.66        A             0             0             0   \n",
       "3   1.32          2.68        A             0             1             0   \n",
       "4   1.36          2.74        A             0             0             0   \n",
       "\n",
       "   Category_M55  Category_MAM  Category_UNKNOWN  Category_WAM  \n",
       "0             0             1                 0             0  \n",
       "1             0             1                 0             0  \n",
       "2             0             1                 0             0  \n",
       "3             0             0                 0             0  \n",
       "4             0             1                 0             0  "
      ]
     },
     "execution_count": 36,
     "metadata": {},
     "output_type": "execute_result"
    }
   ],
   "source": [
    "df.head()"
   ]
  },
  {
   "cell_type": "code",
   "execution_count": 37,
   "metadata": {},
   "outputs": [
    {
     "data": {
      "text/plain": [
       "Index([u'id', u'Marathon', u'Name', u'Category', u'km4week', u'sp4week',\n",
       "       u'CrossTraining', u'Wall21', u'MarathonTime', u'CATEGORY',\n",
       "       u'Category_M40', u'Category_M45', u'Category_M50', u'Category_M55',\n",
       "       u'Category_MAM', u'Category_UNKNOWN', u'Category_WAM'],\n",
       "      dtype='object')"
      ]
     },
     "execution_count": 37,
     "metadata": {},
     "output_type": "execute_result"
    }
   ],
   "source": [
    "df.columns"
   ]
  },
  {
   "cell_type": "code",
   "execution_count": 38,
   "metadata": {},
   "outputs": [
    {
     "data": {
      "text/plain": [
       "id                  0\n",
       "Marathon            0\n",
       "Name                0\n",
       "Category            0\n",
       "km4week             0\n",
       "sp4week             0\n",
       "CrossTraining       0\n",
       "Wall21              0\n",
       "MarathonTime        0\n",
       "CATEGORY            0\n",
       "Category_M40        0\n",
       "Category_M45        0\n",
       "Category_M50        0\n",
       "Category_M55        0\n",
       "Category_MAM        0\n",
       "Category_UNKNOWN    0\n",
       "Category_WAM        0\n",
       "dtype: int64"
      ]
     },
     "execution_count": 38,
     "metadata": {},
     "output_type": "execute_result"
    }
   ],
   "source": [
    "df.isna().sum()"
   ]
  },
  {
   "cell_type": "code",
   "execution_count": 39,
   "metadata": {},
   "outputs": [],
   "source": [
    "##Handling the String data of the Column CrossTraining using One hot Encoder"
   ]
  },
  {
   "cell_type": "code",
   "execution_count": 40,
   "metadata": {},
   "outputs": [
    {
     "data": {
      "text/plain": [
       "array(['UNKNOWN', 'ciclista 1h', 'ciclista 4h', 'ciclista 13h',\n",
       "       'ciclista 5h', 'ciclista 3h'], dtype=object)"
      ]
     },
     "execution_count": 40,
     "metadata": {},
     "output_type": "execute_result"
    }
   ],
   "source": [
    "df.CrossTraining.unique()"
   ]
  },
  {
   "cell_type": "code",
   "execution_count": 41,
   "metadata": {},
   "outputs": [
    {
     "data": {
      "text/html": [
       "<div>\n",
       "<style scoped>\n",
       "    .dataframe tbody tr th:only-of-type {\n",
       "        vertical-align: middle;\n",
       "    }\n",
       "\n",
       "    .dataframe tbody tr th {\n",
       "        vertical-align: top;\n",
       "    }\n",
       "\n",
       "    .dataframe thead th {\n",
       "        text-align: right;\n",
       "    }\n",
       "</style>\n",
       "<table border=\"1\" class=\"dataframe\">\n",
       "  <thead>\n",
       "    <tr style=\"text-align: right;\">\n",
       "      <th></th>\n",
       "      <th>CrossTraining_UNKNOWN</th>\n",
       "      <th>CrossTraining_ciclista 13h</th>\n",
       "      <th>CrossTraining_ciclista 1h</th>\n",
       "      <th>CrossTraining_ciclista 3h</th>\n",
       "      <th>CrossTraining_ciclista 4h</th>\n",
       "      <th>CrossTraining_ciclista 5h</th>\n",
       "    </tr>\n",
       "  </thead>\n",
       "  <tbody>\n",
       "    <tr>\n",
       "      <th>0</th>\n",
       "      <td>1</td>\n",
       "      <td>0</td>\n",
       "      <td>0</td>\n",
       "      <td>0</td>\n",
       "      <td>0</td>\n",
       "      <td>0</td>\n",
       "    </tr>\n",
       "    <tr>\n",
       "      <th>1</th>\n",
       "      <td>1</td>\n",
       "      <td>0</td>\n",
       "      <td>0</td>\n",
       "      <td>0</td>\n",
       "      <td>0</td>\n",
       "      <td>0</td>\n",
       "    </tr>\n",
       "    <tr>\n",
       "      <th>2</th>\n",
       "      <td>1</td>\n",
       "      <td>0</td>\n",
       "      <td>0</td>\n",
       "      <td>0</td>\n",
       "      <td>0</td>\n",
       "      <td>0</td>\n",
       "    </tr>\n",
       "    <tr>\n",
       "      <th>3</th>\n",
       "      <td>1</td>\n",
       "      <td>0</td>\n",
       "      <td>0</td>\n",
       "      <td>0</td>\n",
       "      <td>0</td>\n",
       "      <td>0</td>\n",
       "    </tr>\n",
       "    <tr>\n",
       "      <th>4</th>\n",
       "      <td>1</td>\n",
       "      <td>0</td>\n",
       "      <td>0</td>\n",
       "      <td>0</td>\n",
       "      <td>0</td>\n",
       "      <td>0</td>\n",
       "    </tr>\n",
       "    <tr>\n",
       "      <th>5</th>\n",
       "      <td>1</td>\n",
       "      <td>0</td>\n",
       "      <td>0</td>\n",
       "      <td>0</td>\n",
       "      <td>0</td>\n",
       "      <td>0</td>\n",
       "    </tr>\n",
       "    <tr>\n",
       "      <th>6</th>\n",
       "      <td>1</td>\n",
       "      <td>0</td>\n",
       "      <td>0</td>\n",
       "      <td>0</td>\n",
       "      <td>0</td>\n",
       "      <td>0</td>\n",
       "    </tr>\n",
       "    <tr>\n",
       "      <th>7</th>\n",
       "      <td>1</td>\n",
       "      <td>0</td>\n",
       "      <td>0</td>\n",
       "      <td>0</td>\n",
       "      <td>0</td>\n",
       "      <td>0</td>\n",
       "    </tr>\n",
       "    <tr>\n",
       "      <th>8</th>\n",
       "      <td>0</td>\n",
       "      <td>0</td>\n",
       "      <td>1</td>\n",
       "      <td>0</td>\n",
       "      <td>0</td>\n",
       "      <td>0</td>\n",
       "    </tr>\n",
       "    <tr>\n",
       "      <th>9</th>\n",
       "      <td>1</td>\n",
       "      <td>0</td>\n",
       "      <td>0</td>\n",
       "      <td>0</td>\n",
       "      <td>0</td>\n",
       "      <td>0</td>\n",
       "    </tr>\n",
       "    <tr>\n",
       "      <th>10</th>\n",
       "      <td>1</td>\n",
       "      <td>0</td>\n",
       "      <td>0</td>\n",
       "      <td>0</td>\n",
       "      <td>0</td>\n",
       "      <td>0</td>\n",
       "    </tr>\n",
       "    <tr>\n",
       "      <th>11</th>\n",
       "      <td>1</td>\n",
       "      <td>0</td>\n",
       "      <td>0</td>\n",
       "      <td>0</td>\n",
       "      <td>0</td>\n",
       "      <td>0</td>\n",
       "    </tr>\n",
       "    <tr>\n",
       "      <th>12</th>\n",
       "      <td>0</td>\n",
       "      <td>0</td>\n",
       "      <td>0</td>\n",
       "      <td>0</td>\n",
       "      <td>1</td>\n",
       "      <td>0</td>\n",
       "    </tr>\n",
       "    <tr>\n",
       "      <th>13</th>\n",
       "      <td>1</td>\n",
       "      <td>0</td>\n",
       "      <td>0</td>\n",
       "      <td>0</td>\n",
       "      <td>0</td>\n",
       "      <td>0</td>\n",
       "    </tr>\n",
       "    <tr>\n",
       "      <th>14</th>\n",
       "      <td>1</td>\n",
       "      <td>0</td>\n",
       "      <td>0</td>\n",
       "      <td>0</td>\n",
       "      <td>0</td>\n",
       "      <td>0</td>\n",
       "    </tr>\n",
       "    <tr>\n",
       "      <th>15</th>\n",
       "      <td>1</td>\n",
       "      <td>0</td>\n",
       "      <td>0</td>\n",
       "      <td>0</td>\n",
       "      <td>0</td>\n",
       "      <td>0</td>\n",
       "    </tr>\n",
       "    <tr>\n",
       "      <th>16</th>\n",
       "      <td>0</td>\n",
       "      <td>1</td>\n",
       "      <td>0</td>\n",
       "      <td>0</td>\n",
       "      <td>0</td>\n",
       "      <td>0</td>\n",
       "    </tr>\n",
       "    <tr>\n",
       "      <th>17</th>\n",
       "      <td>1</td>\n",
       "      <td>0</td>\n",
       "      <td>0</td>\n",
       "      <td>0</td>\n",
       "      <td>0</td>\n",
       "      <td>0</td>\n",
       "    </tr>\n",
       "    <tr>\n",
       "      <th>18</th>\n",
       "      <td>1</td>\n",
       "      <td>0</td>\n",
       "      <td>0</td>\n",
       "      <td>0</td>\n",
       "      <td>0</td>\n",
       "      <td>0</td>\n",
       "    </tr>\n",
       "    <tr>\n",
       "      <th>19</th>\n",
       "      <td>1</td>\n",
       "      <td>0</td>\n",
       "      <td>0</td>\n",
       "      <td>0</td>\n",
       "      <td>0</td>\n",
       "      <td>0</td>\n",
       "    </tr>\n",
       "    <tr>\n",
       "      <th>20</th>\n",
       "      <td>1</td>\n",
       "      <td>0</td>\n",
       "      <td>0</td>\n",
       "      <td>0</td>\n",
       "      <td>0</td>\n",
       "      <td>0</td>\n",
       "    </tr>\n",
       "    <tr>\n",
       "      <th>21</th>\n",
       "      <td>1</td>\n",
       "      <td>0</td>\n",
       "      <td>0</td>\n",
       "      <td>0</td>\n",
       "      <td>0</td>\n",
       "      <td>0</td>\n",
       "    </tr>\n",
       "    <tr>\n",
       "      <th>22</th>\n",
       "      <td>1</td>\n",
       "      <td>0</td>\n",
       "      <td>0</td>\n",
       "      <td>0</td>\n",
       "      <td>0</td>\n",
       "      <td>0</td>\n",
       "    </tr>\n",
       "    <tr>\n",
       "      <th>23</th>\n",
       "      <td>1</td>\n",
       "      <td>0</td>\n",
       "      <td>0</td>\n",
       "      <td>0</td>\n",
       "      <td>0</td>\n",
       "      <td>0</td>\n",
       "    </tr>\n",
       "    <tr>\n",
       "      <th>24</th>\n",
       "      <td>1</td>\n",
       "      <td>0</td>\n",
       "      <td>0</td>\n",
       "      <td>0</td>\n",
       "      <td>0</td>\n",
       "      <td>0</td>\n",
       "    </tr>\n",
       "    <tr>\n",
       "      <th>25</th>\n",
       "      <td>0</td>\n",
       "      <td>0</td>\n",
       "      <td>0</td>\n",
       "      <td>0</td>\n",
       "      <td>0</td>\n",
       "      <td>1</td>\n",
       "    </tr>\n",
       "    <tr>\n",
       "      <th>26</th>\n",
       "      <td>1</td>\n",
       "      <td>0</td>\n",
       "      <td>0</td>\n",
       "      <td>0</td>\n",
       "      <td>0</td>\n",
       "      <td>0</td>\n",
       "    </tr>\n",
       "    <tr>\n",
       "      <th>27</th>\n",
       "      <td>1</td>\n",
       "      <td>0</td>\n",
       "      <td>0</td>\n",
       "      <td>0</td>\n",
       "      <td>0</td>\n",
       "      <td>0</td>\n",
       "    </tr>\n",
       "    <tr>\n",
       "      <th>28</th>\n",
       "      <td>1</td>\n",
       "      <td>0</td>\n",
       "      <td>0</td>\n",
       "      <td>0</td>\n",
       "      <td>0</td>\n",
       "      <td>0</td>\n",
       "    </tr>\n",
       "    <tr>\n",
       "      <th>29</th>\n",
       "      <td>1</td>\n",
       "      <td>0</td>\n",
       "      <td>0</td>\n",
       "      <td>0</td>\n",
       "      <td>0</td>\n",
       "      <td>0</td>\n",
       "    </tr>\n",
       "    <tr>\n",
       "      <th>...</th>\n",
       "      <td>...</td>\n",
       "      <td>...</td>\n",
       "      <td>...</td>\n",
       "      <td>...</td>\n",
       "      <td>...</td>\n",
       "      <td>...</td>\n",
       "    </tr>\n",
       "    <tr>\n",
       "      <th>57</th>\n",
       "      <td>1</td>\n",
       "      <td>0</td>\n",
       "      <td>0</td>\n",
       "      <td>0</td>\n",
       "      <td>0</td>\n",
       "      <td>0</td>\n",
       "    </tr>\n",
       "    <tr>\n",
       "      <th>58</th>\n",
       "      <td>1</td>\n",
       "      <td>0</td>\n",
       "      <td>0</td>\n",
       "      <td>0</td>\n",
       "      <td>0</td>\n",
       "      <td>0</td>\n",
       "    </tr>\n",
       "    <tr>\n",
       "      <th>59</th>\n",
       "      <td>1</td>\n",
       "      <td>0</td>\n",
       "      <td>0</td>\n",
       "      <td>0</td>\n",
       "      <td>0</td>\n",
       "      <td>0</td>\n",
       "    </tr>\n",
       "    <tr>\n",
       "      <th>60</th>\n",
       "      <td>1</td>\n",
       "      <td>0</td>\n",
       "      <td>0</td>\n",
       "      <td>0</td>\n",
       "      <td>0</td>\n",
       "      <td>0</td>\n",
       "    </tr>\n",
       "    <tr>\n",
       "      <th>61</th>\n",
       "      <td>1</td>\n",
       "      <td>0</td>\n",
       "      <td>0</td>\n",
       "      <td>0</td>\n",
       "      <td>0</td>\n",
       "      <td>0</td>\n",
       "    </tr>\n",
       "    <tr>\n",
       "      <th>62</th>\n",
       "      <td>1</td>\n",
       "      <td>0</td>\n",
       "      <td>0</td>\n",
       "      <td>0</td>\n",
       "      <td>0</td>\n",
       "      <td>0</td>\n",
       "    </tr>\n",
       "    <tr>\n",
       "      <th>63</th>\n",
       "      <td>0</td>\n",
       "      <td>0</td>\n",
       "      <td>0</td>\n",
       "      <td>0</td>\n",
       "      <td>0</td>\n",
       "      <td>1</td>\n",
       "    </tr>\n",
       "    <tr>\n",
       "      <th>64</th>\n",
       "      <td>1</td>\n",
       "      <td>0</td>\n",
       "      <td>0</td>\n",
       "      <td>0</td>\n",
       "      <td>0</td>\n",
       "      <td>0</td>\n",
       "    </tr>\n",
       "    <tr>\n",
       "      <th>65</th>\n",
       "      <td>1</td>\n",
       "      <td>0</td>\n",
       "      <td>0</td>\n",
       "      <td>0</td>\n",
       "      <td>0</td>\n",
       "      <td>0</td>\n",
       "    </tr>\n",
       "    <tr>\n",
       "      <th>66</th>\n",
       "      <td>0</td>\n",
       "      <td>0</td>\n",
       "      <td>0</td>\n",
       "      <td>1</td>\n",
       "      <td>0</td>\n",
       "      <td>0</td>\n",
       "    </tr>\n",
       "    <tr>\n",
       "      <th>67</th>\n",
       "      <td>1</td>\n",
       "      <td>0</td>\n",
       "      <td>0</td>\n",
       "      <td>0</td>\n",
       "      <td>0</td>\n",
       "      <td>0</td>\n",
       "    </tr>\n",
       "    <tr>\n",
       "      <th>68</th>\n",
       "      <td>1</td>\n",
       "      <td>0</td>\n",
       "      <td>0</td>\n",
       "      <td>0</td>\n",
       "      <td>0</td>\n",
       "      <td>0</td>\n",
       "    </tr>\n",
       "    <tr>\n",
       "      <th>69</th>\n",
       "      <td>1</td>\n",
       "      <td>0</td>\n",
       "      <td>0</td>\n",
       "      <td>0</td>\n",
       "      <td>0</td>\n",
       "      <td>0</td>\n",
       "    </tr>\n",
       "    <tr>\n",
       "      <th>70</th>\n",
       "      <td>1</td>\n",
       "      <td>0</td>\n",
       "      <td>0</td>\n",
       "      <td>0</td>\n",
       "      <td>0</td>\n",
       "      <td>0</td>\n",
       "    </tr>\n",
       "    <tr>\n",
       "      <th>71</th>\n",
       "      <td>0</td>\n",
       "      <td>0</td>\n",
       "      <td>0</td>\n",
       "      <td>1</td>\n",
       "      <td>0</td>\n",
       "      <td>0</td>\n",
       "    </tr>\n",
       "    <tr>\n",
       "      <th>72</th>\n",
       "      <td>1</td>\n",
       "      <td>0</td>\n",
       "      <td>0</td>\n",
       "      <td>0</td>\n",
       "      <td>0</td>\n",
       "      <td>0</td>\n",
       "    </tr>\n",
       "    <tr>\n",
       "      <th>73</th>\n",
       "      <td>1</td>\n",
       "      <td>0</td>\n",
       "      <td>0</td>\n",
       "      <td>0</td>\n",
       "      <td>0</td>\n",
       "      <td>0</td>\n",
       "    </tr>\n",
       "    <tr>\n",
       "      <th>74</th>\n",
       "      <td>1</td>\n",
       "      <td>0</td>\n",
       "      <td>0</td>\n",
       "      <td>0</td>\n",
       "      <td>0</td>\n",
       "      <td>0</td>\n",
       "    </tr>\n",
       "    <tr>\n",
       "      <th>75</th>\n",
       "      <td>0</td>\n",
       "      <td>0</td>\n",
       "      <td>0</td>\n",
       "      <td>0</td>\n",
       "      <td>1</td>\n",
       "      <td>0</td>\n",
       "    </tr>\n",
       "    <tr>\n",
       "      <th>76</th>\n",
       "      <td>0</td>\n",
       "      <td>0</td>\n",
       "      <td>0</td>\n",
       "      <td>0</td>\n",
       "      <td>0</td>\n",
       "      <td>1</td>\n",
       "    </tr>\n",
       "    <tr>\n",
       "      <th>77</th>\n",
       "      <td>1</td>\n",
       "      <td>0</td>\n",
       "      <td>0</td>\n",
       "      <td>0</td>\n",
       "      <td>0</td>\n",
       "      <td>0</td>\n",
       "    </tr>\n",
       "    <tr>\n",
       "      <th>78</th>\n",
       "      <td>1</td>\n",
       "      <td>0</td>\n",
       "      <td>0</td>\n",
       "      <td>0</td>\n",
       "      <td>0</td>\n",
       "      <td>0</td>\n",
       "    </tr>\n",
       "    <tr>\n",
       "      <th>79</th>\n",
       "      <td>1</td>\n",
       "      <td>0</td>\n",
       "      <td>0</td>\n",
       "      <td>0</td>\n",
       "      <td>0</td>\n",
       "      <td>0</td>\n",
       "    </tr>\n",
       "    <tr>\n",
       "      <th>80</th>\n",
       "      <td>1</td>\n",
       "      <td>0</td>\n",
       "      <td>0</td>\n",
       "      <td>0</td>\n",
       "      <td>0</td>\n",
       "      <td>0</td>\n",
       "    </tr>\n",
       "    <tr>\n",
       "      <th>81</th>\n",
       "      <td>1</td>\n",
       "      <td>0</td>\n",
       "      <td>0</td>\n",
       "      <td>0</td>\n",
       "      <td>0</td>\n",
       "      <td>0</td>\n",
       "    </tr>\n",
       "    <tr>\n",
       "      <th>82</th>\n",
       "      <td>1</td>\n",
       "      <td>0</td>\n",
       "      <td>0</td>\n",
       "      <td>0</td>\n",
       "      <td>0</td>\n",
       "      <td>0</td>\n",
       "    </tr>\n",
       "    <tr>\n",
       "      <th>83</th>\n",
       "      <td>0</td>\n",
       "      <td>0</td>\n",
       "      <td>0</td>\n",
       "      <td>1</td>\n",
       "      <td>0</td>\n",
       "      <td>0</td>\n",
       "    </tr>\n",
       "    <tr>\n",
       "      <th>84</th>\n",
       "      <td>1</td>\n",
       "      <td>0</td>\n",
       "      <td>0</td>\n",
       "      <td>0</td>\n",
       "      <td>0</td>\n",
       "      <td>0</td>\n",
       "    </tr>\n",
       "    <tr>\n",
       "      <th>85</th>\n",
       "      <td>1</td>\n",
       "      <td>0</td>\n",
       "      <td>0</td>\n",
       "      <td>0</td>\n",
       "      <td>0</td>\n",
       "      <td>0</td>\n",
       "    </tr>\n",
       "    <tr>\n",
       "      <th>86</th>\n",
       "      <td>0</td>\n",
       "      <td>0</td>\n",
       "      <td>0</td>\n",
       "      <td>0</td>\n",
       "      <td>0</td>\n",
       "      <td>1</td>\n",
       "    </tr>\n",
       "  </tbody>\n",
       "</table>\n",
       "<p>87 rows × 6 columns</p>\n",
       "</div>"
      ],
      "text/plain": [
       "    CrossTraining_UNKNOWN  CrossTraining_ciclista 13h  \\\n",
       "0                       1                           0   \n",
       "1                       1                           0   \n",
       "2                       1                           0   \n",
       "3                       1                           0   \n",
       "4                       1                           0   \n",
       "5                       1                           0   \n",
       "6                       1                           0   \n",
       "7                       1                           0   \n",
       "8                       0                           0   \n",
       "9                       1                           0   \n",
       "10                      1                           0   \n",
       "11                      1                           0   \n",
       "12                      0                           0   \n",
       "13                      1                           0   \n",
       "14                      1                           0   \n",
       "15                      1                           0   \n",
       "16                      0                           1   \n",
       "17                      1                           0   \n",
       "18                      1                           0   \n",
       "19                      1                           0   \n",
       "20                      1                           0   \n",
       "21                      1                           0   \n",
       "22                      1                           0   \n",
       "23                      1                           0   \n",
       "24                      1                           0   \n",
       "25                      0                           0   \n",
       "26                      1                           0   \n",
       "27                      1                           0   \n",
       "28                      1                           0   \n",
       "29                      1                           0   \n",
       "..                    ...                         ...   \n",
       "57                      1                           0   \n",
       "58                      1                           0   \n",
       "59                      1                           0   \n",
       "60                      1                           0   \n",
       "61                      1                           0   \n",
       "62                      1                           0   \n",
       "63                      0                           0   \n",
       "64                      1                           0   \n",
       "65                      1                           0   \n",
       "66                      0                           0   \n",
       "67                      1                           0   \n",
       "68                      1                           0   \n",
       "69                      1                           0   \n",
       "70                      1                           0   \n",
       "71                      0                           0   \n",
       "72                      1                           0   \n",
       "73                      1                           0   \n",
       "74                      1                           0   \n",
       "75                      0                           0   \n",
       "76                      0                           0   \n",
       "77                      1                           0   \n",
       "78                      1                           0   \n",
       "79                      1                           0   \n",
       "80                      1                           0   \n",
       "81                      1                           0   \n",
       "82                      1                           0   \n",
       "83                      0                           0   \n",
       "84                      1                           0   \n",
       "85                      1                           0   \n",
       "86                      0                           0   \n",
       "\n",
       "    CrossTraining_ciclista 1h  CrossTraining_ciclista 3h  \\\n",
       "0                           0                          0   \n",
       "1                           0                          0   \n",
       "2                           0                          0   \n",
       "3                           0                          0   \n",
       "4                           0                          0   \n",
       "5                           0                          0   \n",
       "6                           0                          0   \n",
       "7                           0                          0   \n",
       "8                           1                          0   \n",
       "9                           0                          0   \n",
       "10                          0                          0   \n",
       "11                          0                          0   \n",
       "12                          0                          0   \n",
       "13                          0                          0   \n",
       "14                          0                          0   \n",
       "15                          0                          0   \n",
       "16                          0                          0   \n",
       "17                          0                          0   \n",
       "18                          0                          0   \n",
       "19                          0                          0   \n",
       "20                          0                          0   \n",
       "21                          0                          0   \n",
       "22                          0                          0   \n",
       "23                          0                          0   \n",
       "24                          0                          0   \n",
       "25                          0                          0   \n",
       "26                          0                          0   \n",
       "27                          0                          0   \n",
       "28                          0                          0   \n",
       "29                          0                          0   \n",
       "..                        ...                        ...   \n",
       "57                          0                          0   \n",
       "58                          0                          0   \n",
       "59                          0                          0   \n",
       "60                          0                          0   \n",
       "61                          0                          0   \n",
       "62                          0                          0   \n",
       "63                          0                          0   \n",
       "64                          0                          0   \n",
       "65                          0                          0   \n",
       "66                          0                          1   \n",
       "67                          0                          0   \n",
       "68                          0                          0   \n",
       "69                          0                          0   \n",
       "70                          0                          0   \n",
       "71                          0                          1   \n",
       "72                          0                          0   \n",
       "73                          0                          0   \n",
       "74                          0                          0   \n",
       "75                          0                          0   \n",
       "76                          0                          0   \n",
       "77                          0                          0   \n",
       "78                          0                          0   \n",
       "79                          0                          0   \n",
       "80                          0                          0   \n",
       "81                          0                          0   \n",
       "82                          0                          0   \n",
       "83                          0                          1   \n",
       "84                          0                          0   \n",
       "85                          0                          0   \n",
       "86                          0                          0   \n",
       "\n",
       "    CrossTraining_ciclista 4h  CrossTraining_ciclista 5h  \n",
       "0                           0                          0  \n",
       "1                           0                          0  \n",
       "2                           0                          0  \n",
       "3                           0                          0  \n",
       "4                           0                          0  \n",
       "5                           0                          0  \n",
       "6                           0                          0  \n",
       "7                           0                          0  \n",
       "8                           0                          0  \n",
       "9                           0                          0  \n",
       "10                          0                          0  \n",
       "11                          0                          0  \n",
       "12                          1                          0  \n",
       "13                          0                          0  \n",
       "14                          0                          0  \n",
       "15                          0                          0  \n",
       "16                          0                          0  \n",
       "17                          0                          0  \n",
       "18                          0                          0  \n",
       "19                          0                          0  \n",
       "20                          0                          0  \n",
       "21                          0                          0  \n",
       "22                          0                          0  \n",
       "23                          0                          0  \n",
       "24                          0                          0  \n",
       "25                          0                          1  \n",
       "26                          0                          0  \n",
       "27                          0                          0  \n",
       "28                          0                          0  \n",
       "29                          0                          0  \n",
       "..                        ...                        ...  \n",
       "57                          0                          0  \n",
       "58                          0                          0  \n",
       "59                          0                          0  \n",
       "60                          0                          0  \n",
       "61                          0                          0  \n",
       "62                          0                          0  \n",
       "63                          0                          1  \n",
       "64                          0                          0  \n",
       "65                          0                          0  \n",
       "66                          0                          0  \n",
       "67                          0                          0  \n",
       "68                          0                          0  \n",
       "69                          0                          0  \n",
       "70                          0                          0  \n",
       "71                          0                          0  \n",
       "72                          0                          0  \n",
       "73                          0                          0  \n",
       "74                          0                          0  \n",
       "75                          1                          0  \n",
       "76                          0                          1  \n",
       "77                          0                          0  \n",
       "78                          0                          0  \n",
       "79                          0                          0  \n",
       "80                          0                          0  \n",
       "81                          0                          0  \n",
       "82                          0                          0  \n",
       "83                          0                          0  \n",
       "84                          0                          0  \n",
       "85                          0                          0  \n",
       "86                          0                          1  \n",
       "\n",
       "[87 rows x 6 columns]"
      ]
     },
     "execution_count": 41,
     "metadata": {},
     "output_type": "execute_result"
    }
   ],
   "source": [
    "pd.get_dummies(df.CrossTraining,prefix = \"CrossTraining\")"
   ]
  },
  {
   "cell_type": "code",
   "execution_count": 42,
   "metadata": {},
   "outputs": [],
   "source": [
    "CrossTraining_dummies = pd.get_dummies(df.CrossTraining,prefix = \"CrossTraining\").iloc[:,0:]"
   ]
  },
  {
   "cell_type": "code",
   "execution_count": 43,
   "metadata": {},
   "outputs": [
    {
     "data": {
      "text/html": [
       "<div>\n",
       "<style scoped>\n",
       "    .dataframe tbody tr th:only-of-type {\n",
       "        vertical-align: middle;\n",
       "    }\n",
       "\n",
       "    .dataframe tbody tr th {\n",
       "        vertical-align: top;\n",
       "    }\n",
       "\n",
       "    .dataframe thead th {\n",
       "        text-align: right;\n",
       "    }\n",
       "</style>\n",
       "<table border=\"1\" class=\"dataframe\">\n",
       "  <thead>\n",
       "    <tr style=\"text-align: right;\">\n",
       "      <th></th>\n",
       "      <th>id</th>\n",
       "      <th>Marathon</th>\n",
       "      <th>Name</th>\n",
       "      <th>Category</th>\n",
       "      <th>km4week</th>\n",
       "      <th>sp4week</th>\n",
       "      <th>CrossTraining</th>\n",
       "      <th>Wall21</th>\n",
       "      <th>MarathonTime</th>\n",
       "      <th>CATEGORY</th>\n",
       "      <th>...</th>\n",
       "      <th>Category_M55</th>\n",
       "      <th>Category_MAM</th>\n",
       "      <th>Category_UNKNOWN</th>\n",
       "      <th>Category_WAM</th>\n",
       "      <th>CrossTraining_UNKNOWN</th>\n",
       "      <th>CrossTraining_ciclista 13h</th>\n",
       "      <th>CrossTraining_ciclista 1h</th>\n",
       "      <th>CrossTraining_ciclista 3h</th>\n",
       "      <th>CrossTraining_ciclista 4h</th>\n",
       "      <th>CrossTraining_ciclista 5h</th>\n",
       "    </tr>\n",
       "  </thead>\n",
       "  <tbody>\n",
       "    <tr>\n",
       "      <th>0</th>\n",
       "      <td>1</td>\n",
       "      <td>Prague17</td>\n",
       "      <td>Blair MORGAN</td>\n",
       "      <td>MAM</td>\n",
       "      <td>132.8</td>\n",
       "      <td>14.434783</td>\n",
       "      <td>UNKNOWN</td>\n",
       "      <td>1.16</td>\n",
       "      <td>2.37</td>\n",
       "      <td>A</td>\n",
       "      <td>...</td>\n",
       "      <td>0</td>\n",
       "      <td>1</td>\n",
       "      <td>0</td>\n",
       "      <td>0</td>\n",
       "      <td>1</td>\n",
       "      <td>0</td>\n",
       "      <td>0</td>\n",
       "      <td>0</td>\n",
       "      <td>0</td>\n",
       "      <td>0</td>\n",
       "    </tr>\n",
       "    <tr>\n",
       "      <th>1</th>\n",
       "      <td>2</td>\n",
       "      <td>Prague17</td>\n",
       "      <td>Robert Heczko</td>\n",
       "      <td>MAM</td>\n",
       "      <td>68.6</td>\n",
       "      <td>13.674419</td>\n",
       "      <td>UNKNOWN</td>\n",
       "      <td>1.23</td>\n",
       "      <td>2.59</td>\n",
       "      <td>A</td>\n",
       "      <td>...</td>\n",
       "      <td>0</td>\n",
       "      <td>1</td>\n",
       "      <td>0</td>\n",
       "      <td>0</td>\n",
       "      <td>1</td>\n",
       "      <td>0</td>\n",
       "      <td>0</td>\n",
       "      <td>0</td>\n",
       "      <td>0</td>\n",
       "      <td>0</td>\n",
       "    </tr>\n",
       "    <tr>\n",
       "      <th>2</th>\n",
       "      <td>3</td>\n",
       "      <td>Prague17</td>\n",
       "      <td>Michon Jerome</td>\n",
       "      <td>MAM</td>\n",
       "      <td>82.7</td>\n",
       "      <td>13.520436</td>\n",
       "      <td>UNKNOWN</td>\n",
       "      <td>1.30</td>\n",
       "      <td>2.66</td>\n",
       "      <td>A</td>\n",
       "      <td>...</td>\n",
       "      <td>0</td>\n",
       "      <td>1</td>\n",
       "      <td>0</td>\n",
       "      <td>0</td>\n",
       "      <td>1</td>\n",
       "      <td>0</td>\n",
       "      <td>0</td>\n",
       "      <td>0</td>\n",
       "      <td>0</td>\n",
       "      <td>0</td>\n",
       "    </tr>\n",
       "    <tr>\n",
       "      <th>3</th>\n",
       "      <td>4</td>\n",
       "      <td>Prague17</td>\n",
       "      <td>Daniel Or lek</td>\n",
       "      <td>M45</td>\n",
       "      <td>137.5</td>\n",
       "      <td>12.258544</td>\n",
       "      <td>UNKNOWN</td>\n",
       "      <td>1.32</td>\n",
       "      <td>2.68</td>\n",
       "      <td>A</td>\n",
       "      <td>...</td>\n",
       "      <td>0</td>\n",
       "      <td>0</td>\n",
       "      <td>0</td>\n",
       "      <td>0</td>\n",
       "      <td>1</td>\n",
       "      <td>0</td>\n",
       "      <td>0</td>\n",
       "      <td>0</td>\n",
       "      <td>0</td>\n",
       "      <td>0</td>\n",
       "    </tr>\n",
       "    <tr>\n",
       "      <th>4</th>\n",
       "      <td>5</td>\n",
       "      <td>Prague17</td>\n",
       "      <td>Luk ? Mr zek</td>\n",
       "      <td>MAM</td>\n",
       "      <td>84.6</td>\n",
       "      <td>13.945055</td>\n",
       "      <td>UNKNOWN</td>\n",
       "      <td>1.36</td>\n",
       "      <td>2.74</td>\n",
       "      <td>A</td>\n",
       "      <td>...</td>\n",
       "      <td>0</td>\n",
       "      <td>1</td>\n",
       "      <td>0</td>\n",
       "      <td>0</td>\n",
       "      <td>1</td>\n",
       "      <td>0</td>\n",
       "      <td>0</td>\n",
       "      <td>0</td>\n",
       "      <td>0</td>\n",
       "      <td>0</td>\n",
       "    </tr>\n",
       "  </tbody>\n",
       "</table>\n",
       "<p>5 rows × 23 columns</p>\n",
       "</div>"
      ],
      "text/plain": [
       "   id  Marathon           Name Category  km4week    sp4week CrossTraining  \\\n",
       "0   1  Prague17   Blair MORGAN      MAM    132.8  14.434783       UNKNOWN   \n",
       "1   2  Prague17  Robert Heczko      MAM     68.6  13.674419       UNKNOWN   \n",
       "2   3  Prague17  Michon Jerome      MAM     82.7  13.520436       UNKNOWN   \n",
       "3   4  Prague17  Daniel Or lek      M45    137.5  12.258544       UNKNOWN   \n",
       "4   5  Prague17   Luk ? Mr zek      MAM     84.6  13.945055       UNKNOWN   \n",
       "\n",
       "  Wall21  MarathonTime CATEGORY            ...              Category_M55  \\\n",
       "0   1.16          2.37        A            ...                         0   \n",
       "1   1.23          2.59        A            ...                         0   \n",
       "2   1.30          2.66        A            ...                         0   \n",
       "3   1.32          2.68        A            ...                         0   \n",
       "4   1.36          2.74        A            ...                         0   \n",
       "\n",
       "   Category_MAM  Category_UNKNOWN  Category_WAM  CrossTraining_UNKNOWN  \\\n",
       "0             1                 0             0                      1   \n",
       "1             1                 0             0                      1   \n",
       "2             1                 0             0                      1   \n",
       "3             0                 0             0                      1   \n",
       "4             1                 0             0                      1   \n",
       "\n",
       "   CrossTraining_ciclista 13h  CrossTraining_ciclista 1h  \\\n",
       "0                           0                          0   \n",
       "1                           0                          0   \n",
       "2                           0                          0   \n",
       "3                           0                          0   \n",
       "4                           0                          0   \n",
       "\n",
       "   CrossTraining_ciclista 3h  CrossTraining_ciclista 4h  \\\n",
       "0                          0                          0   \n",
       "1                          0                          0   \n",
       "2                          0                          0   \n",
       "3                          0                          0   \n",
       "4                          0                          0   \n",
       "\n",
       "   CrossTraining_ciclista 5h  \n",
       "0                          0  \n",
       "1                          0  \n",
       "2                          0  \n",
       "3                          0  \n",
       "4                          0  \n",
       "\n",
       "[5 rows x 23 columns]"
      ]
     },
     "execution_count": 43,
     "metadata": {},
     "output_type": "execute_result"
    }
   ],
   "source": [
    "df = pd.concat([df,CrossTraining_dummies],axis = 1)\n",
    "df.head()"
   ]
  },
  {
   "cell_type": "code",
   "execution_count": 44,
   "metadata": {},
   "outputs": [],
   "source": [
    "##df['NewCrossTraining']=df['CrossTraining_UNKNOWN']+df['CrossTraining_ciclista 13h']+df['CrossTraining_ciclista 1h']+df['CrossTraining_ciclista 3h']+df['CrossTraining_ciclista 4h']+df['CrossTraining_ciclista 5h']"
   ]
  },
  {
   "cell_type": "code",
   "execution_count": null,
   "metadata": {},
   "outputs": [],
   "source": []
  },
  {
   "cell_type": "code",
   "execution_count": 45,
   "metadata": {},
   "outputs": [
    {
     "data": {
      "text/plain": [
       "Index([u'id', u'Marathon', u'Name', u'Category', u'km4week', u'sp4week',\n",
       "       u'CrossTraining', u'Wall21', u'MarathonTime', u'CATEGORY',\n",
       "       u'Category_M40', u'Category_M45', u'Category_M50', u'Category_M55',\n",
       "       u'Category_MAM', u'Category_UNKNOWN', u'Category_WAM',\n",
       "       u'CrossTraining_UNKNOWN', u'CrossTraining_ciclista 13h',\n",
       "       u'CrossTraining_ciclista 1h', u'CrossTraining_ciclista 3h',\n",
       "       u'CrossTraining_ciclista 4h', u'CrossTraining_ciclista 5h'],\n",
       "      dtype='object')"
      ]
     },
     "execution_count": 45,
     "metadata": {},
     "output_type": "execute_result"
    }
   ],
   "source": [
    "df.columns"
   ]
  },
  {
   "cell_type": "code",
   "execution_count": 46,
   "metadata": {},
   "outputs": [
    {
     "ename": "KeyError",
     "evalue": "'NewCrossTraining'",
     "output_type": "error",
     "traceback": [
      "\u001b[1;31m\u001b[0m",
      "\u001b[1;31mKeyError\u001b[0mTraceback (most recent call last)",
      "\u001b[1;32m<ipython-input-46-434fd4bba9d8>\u001b[0m in \u001b[0;36m<module>\u001b[1;34m()\u001b[0m\n\u001b[1;32m----> 1\u001b[1;33m \u001b[0mdf\u001b[0m\u001b[1;33m[\u001b[0m\u001b[1;34m'NewCrossTraining'\u001b[0m\u001b[1;33m]\u001b[0m\u001b[1;33m.\u001b[0m\u001b[0mdtypes\u001b[0m\u001b[1;33m\u001b[0m\u001b[0m\n\u001b[0m",
      "\u001b[1;32mC:\\Users\\user\\Anaconda2\\lib\\site-packages\\pandas\\core\\frame.pyc\u001b[0m in \u001b[0;36m__getitem__\u001b[1;34m(self, key)\u001b[0m\n\u001b[0;32m   2683\u001b[0m             \u001b[1;32mreturn\u001b[0m \u001b[0mself\u001b[0m\u001b[1;33m.\u001b[0m\u001b[0m_getitem_multilevel\u001b[0m\u001b[1;33m(\u001b[0m\u001b[0mkey\u001b[0m\u001b[1;33m)\u001b[0m\u001b[1;33m\u001b[0m\u001b[0m\n\u001b[0;32m   2684\u001b[0m         \u001b[1;32melse\u001b[0m\u001b[1;33m:\u001b[0m\u001b[1;33m\u001b[0m\u001b[0m\n\u001b[1;32m-> 2685\u001b[1;33m             \u001b[1;32mreturn\u001b[0m \u001b[0mself\u001b[0m\u001b[1;33m.\u001b[0m\u001b[0m_getitem_column\u001b[0m\u001b[1;33m(\u001b[0m\u001b[0mkey\u001b[0m\u001b[1;33m)\u001b[0m\u001b[1;33m\u001b[0m\u001b[0m\n\u001b[0m\u001b[0;32m   2686\u001b[0m \u001b[1;33m\u001b[0m\u001b[0m\n\u001b[0;32m   2687\u001b[0m     \u001b[1;32mdef\u001b[0m \u001b[0m_getitem_column\u001b[0m\u001b[1;33m(\u001b[0m\u001b[0mself\u001b[0m\u001b[1;33m,\u001b[0m \u001b[0mkey\u001b[0m\u001b[1;33m)\u001b[0m\u001b[1;33m:\u001b[0m\u001b[1;33m\u001b[0m\u001b[0m\n",
      "\u001b[1;32mC:\\Users\\user\\Anaconda2\\lib\\site-packages\\pandas\\core\\frame.pyc\u001b[0m in \u001b[0;36m_getitem_column\u001b[1;34m(self, key)\u001b[0m\n\u001b[0;32m   2690\u001b[0m         \u001b[1;31m# get column\u001b[0m\u001b[1;33m\u001b[0m\u001b[1;33m\u001b[0m\u001b[0m\n\u001b[0;32m   2691\u001b[0m         \u001b[1;32mif\u001b[0m \u001b[0mself\u001b[0m\u001b[1;33m.\u001b[0m\u001b[0mcolumns\u001b[0m\u001b[1;33m.\u001b[0m\u001b[0mis_unique\u001b[0m\u001b[1;33m:\u001b[0m\u001b[1;33m\u001b[0m\u001b[0m\n\u001b[1;32m-> 2692\u001b[1;33m             \u001b[1;32mreturn\u001b[0m \u001b[0mself\u001b[0m\u001b[1;33m.\u001b[0m\u001b[0m_get_item_cache\u001b[0m\u001b[1;33m(\u001b[0m\u001b[0mkey\u001b[0m\u001b[1;33m)\u001b[0m\u001b[1;33m\u001b[0m\u001b[0m\n\u001b[0m\u001b[0;32m   2693\u001b[0m \u001b[1;33m\u001b[0m\u001b[0m\n\u001b[0;32m   2694\u001b[0m         \u001b[1;31m# duplicate columns & possible reduce dimensionality\u001b[0m\u001b[1;33m\u001b[0m\u001b[1;33m\u001b[0m\u001b[0m\n",
      "\u001b[1;32mC:\\Users\\user\\Anaconda2\\lib\\site-packages\\pandas\\core\\generic.pyc\u001b[0m in \u001b[0;36m_get_item_cache\u001b[1;34m(self, item)\u001b[0m\n\u001b[0;32m   2484\u001b[0m         \u001b[0mres\u001b[0m \u001b[1;33m=\u001b[0m \u001b[0mcache\u001b[0m\u001b[1;33m.\u001b[0m\u001b[0mget\u001b[0m\u001b[1;33m(\u001b[0m\u001b[0mitem\u001b[0m\u001b[1;33m)\u001b[0m\u001b[1;33m\u001b[0m\u001b[0m\n\u001b[0;32m   2485\u001b[0m         \u001b[1;32mif\u001b[0m \u001b[0mres\u001b[0m \u001b[1;32mis\u001b[0m \u001b[0mNone\u001b[0m\u001b[1;33m:\u001b[0m\u001b[1;33m\u001b[0m\u001b[0m\n\u001b[1;32m-> 2486\u001b[1;33m             \u001b[0mvalues\u001b[0m \u001b[1;33m=\u001b[0m \u001b[0mself\u001b[0m\u001b[1;33m.\u001b[0m\u001b[0m_data\u001b[0m\u001b[1;33m.\u001b[0m\u001b[0mget\u001b[0m\u001b[1;33m(\u001b[0m\u001b[0mitem\u001b[0m\u001b[1;33m)\u001b[0m\u001b[1;33m\u001b[0m\u001b[0m\n\u001b[0m\u001b[0;32m   2487\u001b[0m             \u001b[0mres\u001b[0m \u001b[1;33m=\u001b[0m \u001b[0mself\u001b[0m\u001b[1;33m.\u001b[0m\u001b[0m_box_item_values\u001b[0m\u001b[1;33m(\u001b[0m\u001b[0mitem\u001b[0m\u001b[1;33m,\u001b[0m \u001b[0mvalues\u001b[0m\u001b[1;33m)\u001b[0m\u001b[1;33m\u001b[0m\u001b[0m\n\u001b[0;32m   2488\u001b[0m             \u001b[0mcache\u001b[0m\u001b[1;33m[\u001b[0m\u001b[0mitem\u001b[0m\u001b[1;33m]\u001b[0m \u001b[1;33m=\u001b[0m \u001b[0mres\u001b[0m\u001b[1;33m\u001b[0m\u001b[0m\n",
      "\u001b[1;32mC:\\Users\\user\\Anaconda2\\lib\\site-packages\\pandas\\core\\internals.pyc\u001b[0m in \u001b[0;36mget\u001b[1;34m(self, item, fastpath)\u001b[0m\n\u001b[0;32m   4113\u001b[0m \u001b[1;33m\u001b[0m\u001b[0m\n\u001b[0;32m   4114\u001b[0m             \u001b[1;32mif\u001b[0m \u001b[1;32mnot\u001b[0m \u001b[0misna\u001b[0m\u001b[1;33m(\u001b[0m\u001b[0mitem\u001b[0m\u001b[1;33m)\u001b[0m\u001b[1;33m:\u001b[0m\u001b[1;33m\u001b[0m\u001b[0m\n\u001b[1;32m-> 4115\u001b[1;33m                 \u001b[0mloc\u001b[0m \u001b[1;33m=\u001b[0m \u001b[0mself\u001b[0m\u001b[1;33m.\u001b[0m\u001b[0mitems\u001b[0m\u001b[1;33m.\u001b[0m\u001b[0mget_loc\u001b[0m\u001b[1;33m(\u001b[0m\u001b[0mitem\u001b[0m\u001b[1;33m)\u001b[0m\u001b[1;33m\u001b[0m\u001b[0m\n\u001b[0m\u001b[0;32m   4116\u001b[0m             \u001b[1;32melse\u001b[0m\u001b[1;33m:\u001b[0m\u001b[1;33m\u001b[0m\u001b[0m\n\u001b[0;32m   4117\u001b[0m                 \u001b[0mindexer\u001b[0m \u001b[1;33m=\u001b[0m \u001b[0mnp\u001b[0m\u001b[1;33m.\u001b[0m\u001b[0marange\u001b[0m\u001b[1;33m(\u001b[0m\u001b[0mlen\u001b[0m\u001b[1;33m(\u001b[0m\u001b[0mself\u001b[0m\u001b[1;33m.\u001b[0m\u001b[0mitems\u001b[0m\u001b[1;33m)\u001b[0m\u001b[1;33m)\u001b[0m\u001b[1;33m[\u001b[0m\u001b[0misna\u001b[0m\u001b[1;33m(\u001b[0m\u001b[0mself\u001b[0m\u001b[1;33m.\u001b[0m\u001b[0mitems\u001b[0m\u001b[1;33m)\u001b[0m\u001b[1;33m]\u001b[0m\u001b[1;33m\u001b[0m\u001b[0m\n",
      "\u001b[1;32mC:\\Users\\user\\Anaconda2\\lib\\site-packages\\pandas\\core\\indexes\\base.pyc\u001b[0m in \u001b[0;36mget_loc\u001b[1;34m(self, key, method, tolerance)\u001b[0m\n\u001b[0;32m   3063\u001b[0m                 \u001b[1;32mreturn\u001b[0m \u001b[0mself\u001b[0m\u001b[1;33m.\u001b[0m\u001b[0m_engine\u001b[0m\u001b[1;33m.\u001b[0m\u001b[0mget_loc\u001b[0m\u001b[1;33m(\u001b[0m\u001b[0mkey\u001b[0m\u001b[1;33m)\u001b[0m\u001b[1;33m\u001b[0m\u001b[0m\n\u001b[0;32m   3064\u001b[0m             \u001b[1;32mexcept\u001b[0m \u001b[0mKeyError\u001b[0m\u001b[1;33m:\u001b[0m\u001b[1;33m\u001b[0m\u001b[0m\n\u001b[1;32m-> 3065\u001b[1;33m                 \u001b[1;32mreturn\u001b[0m \u001b[0mself\u001b[0m\u001b[1;33m.\u001b[0m\u001b[0m_engine\u001b[0m\u001b[1;33m.\u001b[0m\u001b[0mget_loc\u001b[0m\u001b[1;33m(\u001b[0m\u001b[0mself\u001b[0m\u001b[1;33m.\u001b[0m\u001b[0m_maybe_cast_indexer\u001b[0m\u001b[1;33m(\u001b[0m\u001b[0mkey\u001b[0m\u001b[1;33m)\u001b[0m\u001b[1;33m)\u001b[0m\u001b[1;33m\u001b[0m\u001b[0m\n\u001b[0m\u001b[0;32m   3066\u001b[0m \u001b[1;33m\u001b[0m\u001b[0m\n\u001b[0;32m   3067\u001b[0m         \u001b[0mindexer\u001b[0m \u001b[1;33m=\u001b[0m \u001b[0mself\u001b[0m\u001b[1;33m.\u001b[0m\u001b[0mget_indexer\u001b[0m\u001b[1;33m(\u001b[0m\u001b[1;33m[\u001b[0m\u001b[0mkey\u001b[0m\u001b[1;33m]\u001b[0m\u001b[1;33m,\u001b[0m \u001b[0mmethod\u001b[0m\u001b[1;33m=\u001b[0m\u001b[0mmethod\u001b[0m\u001b[1;33m,\u001b[0m \u001b[0mtolerance\u001b[0m\u001b[1;33m=\u001b[0m\u001b[0mtolerance\u001b[0m\u001b[1;33m)\u001b[0m\u001b[1;33m\u001b[0m\u001b[0m\n",
      "\u001b[1;32mpandas\\_libs\\index.pyx\u001b[0m in \u001b[0;36mpandas._libs.index.IndexEngine.get_loc\u001b[1;34m()\u001b[0m\n",
      "\u001b[1;32mpandas\\_libs\\index.pyx\u001b[0m in \u001b[0;36mpandas._libs.index.IndexEngine.get_loc\u001b[1;34m()\u001b[0m\n",
      "\u001b[1;32mpandas\\_libs\\hashtable_class_helper.pxi\u001b[0m in \u001b[0;36mpandas._libs.hashtable.PyObjectHashTable.get_item\u001b[1;34m()\u001b[0m\n",
      "\u001b[1;32mpandas\\_libs\\hashtable_class_helper.pxi\u001b[0m in \u001b[0;36mpandas._libs.hashtable.PyObjectHashTable.get_item\u001b[1;34m()\u001b[0m\n",
      "\u001b[1;31mKeyError\u001b[0m: 'NewCrossTraining'"
     ]
    }
   ],
   "source": [
    "##df['NewCrossTraining'].dtypes"
   ]
  },
  {
   "cell_type": "code",
   "execution_count": null,
   "metadata": {},
   "outputs": [],
   "source": [
    "df.corr()"
   ]
  },
  {
   "cell_type": "code",
   "execution_count": 47,
   "metadata": {},
   "outputs": [],
   "source": [
    "##Handling the String data of the Column CATEGORY using Label Encoder"
   ]
  },
  {
   "cell_type": "code",
   "execution_count": 48,
   "metadata": {},
   "outputs": [
    {
     "data": {
      "text/plain": [
       "Index([u'id', u'Marathon', u'Name', u'Category', u'km4week', u'sp4week',\n",
       "       u'CrossTraining', u'Wall21', u'MarathonTime', u'CATEGORY',\n",
       "       u'Category_M40', u'Category_M45', u'Category_M50', u'Category_M55',\n",
       "       u'Category_MAM', u'Category_UNKNOWN', u'Category_WAM',\n",
       "       u'CrossTraining_UNKNOWN', u'CrossTraining_ciclista 13h',\n",
       "       u'CrossTraining_ciclista 1h', u'CrossTraining_ciclista 3h',\n",
       "       u'CrossTraining_ciclista 4h', u'CrossTraining_ciclista 5h'],\n",
       "      dtype='object')"
      ]
     },
     "execution_count": 48,
     "metadata": {},
     "output_type": "execute_result"
    }
   ],
   "source": [
    "df.columns"
   ]
  },
  {
   "cell_type": "code",
   "execution_count": 49,
   "metadata": {},
   "outputs": [
    {
     "data": {
      "text/plain": [
       "array(['A', 'B', 'C', 'D'], dtype=object)"
      ]
     },
     "execution_count": 49,
     "metadata": {},
     "output_type": "execute_result"
    }
   ],
   "source": [
    "df.CATEGORY.unique()"
   ]
  },
  {
   "cell_type": "code",
   "execution_count": 50,
   "metadata": {},
   "outputs": [
    {
     "data": {
      "text/html": [
       "<div>\n",
       "<style scoped>\n",
       "    .dataframe tbody tr th:only-of-type {\n",
       "        vertical-align: middle;\n",
       "    }\n",
       "\n",
       "    .dataframe tbody tr th {\n",
       "        vertical-align: top;\n",
       "    }\n",
       "\n",
       "    .dataframe thead th {\n",
       "        text-align: right;\n",
       "    }\n",
       "</style>\n",
       "<table border=\"1\" class=\"dataframe\">\n",
       "  <thead>\n",
       "    <tr style=\"text-align: right;\">\n",
       "      <th></th>\n",
       "      <th>id</th>\n",
       "      <th>Marathon</th>\n",
       "      <th>Name</th>\n",
       "      <th>Category</th>\n",
       "      <th>km4week</th>\n",
       "      <th>sp4week</th>\n",
       "      <th>CrossTraining</th>\n",
       "      <th>Wall21</th>\n",
       "      <th>MarathonTime</th>\n",
       "      <th>CATEGORY</th>\n",
       "      <th>...</th>\n",
       "      <th>Category_M55</th>\n",
       "      <th>Category_MAM</th>\n",
       "      <th>Category_UNKNOWN</th>\n",
       "      <th>Category_WAM</th>\n",
       "      <th>CrossTraining_UNKNOWN</th>\n",
       "      <th>CrossTraining_ciclista 13h</th>\n",
       "      <th>CrossTraining_ciclista 1h</th>\n",
       "      <th>CrossTraining_ciclista 3h</th>\n",
       "      <th>CrossTraining_ciclista 4h</th>\n",
       "      <th>CrossTraining_ciclista 5h</th>\n",
       "    </tr>\n",
       "  </thead>\n",
       "  <tbody>\n",
       "    <tr>\n",
       "      <th>0</th>\n",
       "      <td>1</td>\n",
       "      <td>Prague17</td>\n",
       "      <td>Blair MORGAN</td>\n",
       "      <td>MAM</td>\n",
       "      <td>132.8</td>\n",
       "      <td>14.434783</td>\n",
       "      <td>UNKNOWN</td>\n",
       "      <td>1.16</td>\n",
       "      <td>2.37</td>\n",
       "      <td>1</td>\n",
       "      <td>...</td>\n",
       "      <td>0</td>\n",
       "      <td>1</td>\n",
       "      <td>0</td>\n",
       "      <td>0</td>\n",
       "      <td>1</td>\n",
       "      <td>0</td>\n",
       "      <td>0</td>\n",
       "      <td>0</td>\n",
       "      <td>0</td>\n",
       "      <td>0</td>\n",
       "    </tr>\n",
       "    <tr>\n",
       "      <th>1</th>\n",
       "      <td>2</td>\n",
       "      <td>Prague17</td>\n",
       "      <td>Robert Heczko</td>\n",
       "      <td>MAM</td>\n",
       "      <td>68.6</td>\n",
       "      <td>13.674419</td>\n",
       "      <td>UNKNOWN</td>\n",
       "      <td>1.23</td>\n",
       "      <td>2.59</td>\n",
       "      <td>1</td>\n",
       "      <td>...</td>\n",
       "      <td>0</td>\n",
       "      <td>1</td>\n",
       "      <td>0</td>\n",
       "      <td>0</td>\n",
       "      <td>1</td>\n",
       "      <td>0</td>\n",
       "      <td>0</td>\n",
       "      <td>0</td>\n",
       "      <td>0</td>\n",
       "      <td>0</td>\n",
       "    </tr>\n",
       "    <tr>\n",
       "      <th>2</th>\n",
       "      <td>3</td>\n",
       "      <td>Prague17</td>\n",
       "      <td>Michon Jerome</td>\n",
       "      <td>MAM</td>\n",
       "      <td>82.7</td>\n",
       "      <td>13.520436</td>\n",
       "      <td>UNKNOWN</td>\n",
       "      <td>1.30</td>\n",
       "      <td>2.66</td>\n",
       "      <td>1</td>\n",
       "      <td>...</td>\n",
       "      <td>0</td>\n",
       "      <td>1</td>\n",
       "      <td>0</td>\n",
       "      <td>0</td>\n",
       "      <td>1</td>\n",
       "      <td>0</td>\n",
       "      <td>0</td>\n",
       "      <td>0</td>\n",
       "      <td>0</td>\n",
       "      <td>0</td>\n",
       "    </tr>\n",
       "    <tr>\n",
       "      <th>3</th>\n",
       "      <td>4</td>\n",
       "      <td>Prague17</td>\n",
       "      <td>Daniel Or lek</td>\n",
       "      <td>M45</td>\n",
       "      <td>137.5</td>\n",
       "      <td>12.258544</td>\n",
       "      <td>UNKNOWN</td>\n",
       "      <td>1.32</td>\n",
       "      <td>2.68</td>\n",
       "      <td>1</td>\n",
       "      <td>...</td>\n",
       "      <td>0</td>\n",
       "      <td>0</td>\n",
       "      <td>0</td>\n",
       "      <td>0</td>\n",
       "      <td>1</td>\n",
       "      <td>0</td>\n",
       "      <td>0</td>\n",
       "      <td>0</td>\n",
       "      <td>0</td>\n",
       "      <td>0</td>\n",
       "    </tr>\n",
       "    <tr>\n",
       "      <th>4</th>\n",
       "      <td>5</td>\n",
       "      <td>Prague17</td>\n",
       "      <td>Luk ? Mr zek</td>\n",
       "      <td>MAM</td>\n",
       "      <td>84.6</td>\n",
       "      <td>13.945055</td>\n",
       "      <td>UNKNOWN</td>\n",
       "      <td>1.36</td>\n",
       "      <td>2.74</td>\n",
       "      <td>1</td>\n",
       "      <td>...</td>\n",
       "      <td>0</td>\n",
       "      <td>1</td>\n",
       "      <td>0</td>\n",
       "      <td>0</td>\n",
       "      <td>1</td>\n",
       "      <td>0</td>\n",
       "      <td>0</td>\n",
       "      <td>0</td>\n",
       "      <td>0</td>\n",
       "      <td>0</td>\n",
       "    </tr>\n",
       "  </tbody>\n",
       "</table>\n",
       "<p>5 rows × 23 columns</p>\n",
       "</div>"
      ],
      "text/plain": [
       "   id  Marathon           Name Category  km4week    sp4week CrossTraining  \\\n",
       "0   1  Prague17   Blair MORGAN      MAM    132.8  14.434783       UNKNOWN   \n",
       "1   2  Prague17  Robert Heczko      MAM     68.6  13.674419       UNKNOWN   \n",
       "2   3  Prague17  Michon Jerome      MAM     82.7  13.520436       UNKNOWN   \n",
       "3   4  Prague17  Daniel Or lek      M45    137.5  12.258544       UNKNOWN   \n",
       "4   5  Prague17   Luk ? Mr zek      MAM     84.6  13.945055       UNKNOWN   \n",
       "\n",
       "  Wall21  MarathonTime  CATEGORY            ...              Category_M55  \\\n",
       "0   1.16          2.37         1            ...                         0   \n",
       "1   1.23          2.59         1            ...                         0   \n",
       "2   1.30          2.66         1            ...                         0   \n",
       "3   1.32          2.68         1            ...                         0   \n",
       "4   1.36          2.74         1            ...                         0   \n",
       "\n",
       "   Category_MAM  Category_UNKNOWN  Category_WAM  CrossTraining_UNKNOWN  \\\n",
       "0             1                 0             0                      1   \n",
       "1             1                 0             0                      1   \n",
       "2             1                 0             0                      1   \n",
       "3             0                 0             0                      1   \n",
       "4             1                 0             0                      1   \n",
       "\n",
       "   CrossTraining_ciclista 13h  CrossTraining_ciclista 1h  \\\n",
       "0                           0                          0   \n",
       "1                           0                          0   \n",
       "2                           0                          0   \n",
       "3                           0                          0   \n",
       "4                           0                          0   \n",
       "\n",
       "   CrossTraining_ciclista 3h  CrossTraining_ciclista 4h  \\\n",
       "0                          0                          0   \n",
       "1                          0                          0   \n",
       "2                          0                          0   \n",
       "3                          0                          0   \n",
       "4                          0                          0   \n",
       "\n",
       "   CrossTraining_ciclista 5h  \n",
       "0                          0  \n",
       "1                          0  \n",
       "2                          0  \n",
       "3                          0  \n",
       "4                          0  \n",
       "\n",
       "[5 rows x 23 columns]"
      ]
     },
     "execution_count": 50,
     "metadata": {},
     "output_type": "execute_result"
    }
   ],
   "source": [
    "df[\"CATEGORY\"] = df.CATEGORY.map({\"A\" : 1,\"B\":2, \"C\" : 3, \"D\" : 4})\n",
    "df.head()"
   ]
  },
  {
   "cell_type": "code",
   "execution_count": 51,
   "metadata": {},
   "outputs": [
    {
     "data": {
      "text/plain": [
       "array([1, 2, 3, 4], dtype=int64)"
      ]
     },
     "execution_count": 51,
     "metadata": {},
     "output_type": "execute_result"
    }
   ],
   "source": [
    "df.CATEGORY.unique()"
   ]
  },
  {
   "cell_type": "code",
   "execution_count": 52,
   "metadata": {},
   "outputs": [
    {
     "data": {
      "text/html": [
       "<div>\n",
       "<style scoped>\n",
       "    .dataframe tbody tr th:only-of-type {\n",
       "        vertical-align: middle;\n",
       "    }\n",
       "\n",
       "    .dataframe tbody tr th {\n",
       "        vertical-align: top;\n",
       "    }\n",
       "\n",
       "    .dataframe thead th {\n",
       "        text-align: right;\n",
       "    }\n",
       "</style>\n",
       "<table border=\"1\" class=\"dataframe\">\n",
       "  <thead>\n",
       "    <tr style=\"text-align: right;\">\n",
       "      <th></th>\n",
       "      <th>id</th>\n",
       "      <th>km4week</th>\n",
       "      <th>sp4week</th>\n",
       "      <th>MarathonTime</th>\n",
       "      <th>CATEGORY</th>\n",
       "      <th>Category_M40</th>\n",
       "      <th>Category_M45</th>\n",
       "      <th>Category_M50</th>\n",
       "      <th>Category_M55</th>\n",
       "      <th>Category_MAM</th>\n",
       "      <th>Category_UNKNOWN</th>\n",
       "      <th>Category_WAM</th>\n",
       "      <th>CrossTraining_UNKNOWN</th>\n",
       "      <th>CrossTraining_ciclista 13h</th>\n",
       "      <th>CrossTraining_ciclista 1h</th>\n",
       "      <th>CrossTraining_ciclista 3h</th>\n",
       "      <th>CrossTraining_ciclista 4h</th>\n",
       "      <th>CrossTraining_ciclista 5h</th>\n",
       "    </tr>\n",
       "  </thead>\n",
       "  <tbody>\n",
       "    <tr>\n",
       "      <th>id</th>\n",
       "      <td>1.000000</td>\n",
       "      <td>-0.599675</td>\n",
       "      <td>0.162553</td>\n",
       "      <td>0.991548</td>\n",
       "      <td>0.963288</td>\n",
       "      <td>0.030292</td>\n",
       "      <td>-0.093299</td>\n",
       "      <td>-0.061191</td>\n",
       "      <td>0.025084</td>\n",
       "      <td>0.000918</td>\n",
       "      <td>0.104763</td>\n",
       "      <td>0.024039</td>\n",
       "      <td>-0.123249</td>\n",
       "      <td>-0.115935</td>\n",
       "      <td>-0.150286</td>\n",
       "      <td>0.155359</td>\n",
       "      <td>0.003054</td>\n",
       "      <td>0.170461</td>\n",
       "    </tr>\n",
       "    <tr>\n",
       "      <th>km4week</th>\n",
       "      <td>-0.599675</td>\n",
       "      <td>1.000000</td>\n",
       "      <td>-0.107429</td>\n",
       "      <td>-0.606782</td>\n",
       "      <td>-0.545770</td>\n",
       "      <td>-0.083572</td>\n",
       "      <td>0.081399</td>\n",
       "      <td>0.118386</td>\n",
       "      <td>0.080054</td>\n",
       "      <td>-0.099553</td>\n",
       "      <td>-0.041607</td>\n",
       "      <td>0.103027</td>\n",
       "      <td>0.314721</td>\n",
       "      <td>0.200986</td>\n",
       "      <td>0.030791</td>\n",
       "      <td>-0.230776</td>\n",
       "      <td>-0.135344</td>\n",
       "      <td>-0.300387</td>\n",
       "    </tr>\n",
       "    <tr>\n",
       "      <th>sp4week</th>\n",
       "      <td>0.162553</td>\n",
       "      <td>-0.107429</td>\n",
       "      <td>1.000000</td>\n",
       "      <td>0.172294</td>\n",
       "      <td>0.164002</td>\n",
       "      <td>-0.049277</td>\n",
       "      <td>-0.049149</td>\n",
       "      <td>-0.023651</td>\n",
       "      <td>-0.020382</td>\n",
       "      <td>0.116919</td>\n",
       "      <td>-0.029358</td>\n",
       "      <td>-0.023775</td>\n",
       "      <td>0.045277</td>\n",
       "      <td>-0.011583</td>\n",
       "      <td>-0.011476</td>\n",
       "      <td>-0.026781</td>\n",
       "      <td>-0.016417</td>\n",
       "      <td>-0.023827</td>\n",
       "    </tr>\n",
       "    <tr>\n",
       "      <th>MarathonTime</th>\n",
       "      <td>0.991548</td>\n",
       "      <td>-0.606782</td>\n",
       "      <td>0.172294</td>\n",
       "      <td>1.000000</td>\n",
       "      <td>0.958870</td>\n",
       "      <td>0.036035</td>\n",
       "      <td>-0.084138</td>\n",
       "      <td>-0.050719</td>\n",
       "      <td>0.027359</td>\n",
       "      <td>-0.019892</td>\n",
       "      <td>0.119290</td>\n",
       "      <td>0.016648</td>\n",
       "      <td>-0.126638</td>\n",
       "      <td>-0.117711</td>\n",
       "      <td>-0.140731</td>\n",
       "      <td>0.154794</td>\n",
       "      <td>0.004470</td>\n",
       "      <td>0.171885</td>\n",
       "    </tr>\n",
       "    <tr>\n",
       "      <th>CATEGORY</th>\n",
       "      <td>0.963288</td>\n",
       "      <td>-0.545770</td>\n",
       "      <td>0.164002</td>\n",
       "      <td>0.958870</td>\n",
       "      <td>1.000000</td>\n",
       "      <td>0.032841</td>\n",
       "      <td>-0.111462</td>\n",
       "      <td>-0.029317</td>\n",
       "      <td>-0.010301</td>\n",
       "      <td>-0.013829</td>\n",
       "      <td>0.157256</td>\n",
       "      <td>0.022736</td>\n",
       "      <td>-0.119858</td>\n",
       "      <td>-0.142244</td>\n",
       "      <td>-0.142244</td>\n",
       "      <td>0.142677</td>\n",
       "      <td>0.015886</td>\n",
       "      <td>0.178896</td>\n",
       "    </tr>\n",
       "    <tr>\n",
       "      <th>Category_M40</th>\n",
       "      <td>0.030292</td>\n",
       "      <td>-0.083572</td>\n",
       "      <td>-0.049277</td>\n",
       "      <td>0.036035</td>\n",
       "      <td>0.032841</td>\n",
       "      <td>1.000000</td>\n",
       "      <td>-0.208333</td>\n",
       "      <td>-0.100201</td>\n",
       "      <td>-0.086258</td>\n",
       "      <td>-0.421076</td>\n",
       "      <td>-0.124226</td>\n",
       "      <td>-0.100201</td>\n",
       "      <td>-0.064751</td>\n",
       "      <td>-0.049219</td>\n",
       "      <td>-0.049219</td>\n",
       "      <td>0.148775</td>\n",
       "      <td>-0.070014</td>\n",
       "      <td>0.045090</td>\n",
       "    </tr>\n",
       "    <tr>\n",
       "      <th>Category_M45</th>\n",
       "      <td>-0.093299</td>\n",
       "      <td>0.081399</td>\n",
       "      <td>-0.049149</td>\n",
       "      <td>-0.084138</td>\n",
       "      <td>-0.111462</td>\n",
       "      <td>-0.208333</td>\n",
       "      <td>1.000000</td>\n",
       "      <td>-0.100201</td>\n",
       "      <td>-0.086258</td>\n",
       "      <td>-0.421076</td>\n",
       "      <td>-0.124226</td>\n",
       "      <td>-0.100201</td>\n",
       "      <td>0.105956</td>\n",
       "      <td>-0.049219</td>\n",
       "      <td>-0.049219</td>\n",
       "      <td>-0.112709</td>\n",
       "      <td>0.133027</td>\n",
       "      <td>-0.100201</td>\n",
       "    </tr>\n",
       "    <tr>\n",
       "      <th>Category_M50</th>\n",
       "      <td>-0.061191</td>\n",
       "      <td>0.118386</td>\n",
       "      <td>-0.023651</td>\n",
       "      <td>-0.050719</td>\n",
       "      <td>-0.029317</td>\n",
       "      <td>-0.100201</td>\n",
       "      <td>-0.100201</td>\n",
       "      <td>1.000000</td>\n",
       "      <td>-0.041487</td>\n",
       "      <td>-0.202522</td>\n",
       "      <td>-0.059748</td>\n",
       "      <td>-0.048193</td>\n",
       "      <td>-0.061931</td>\n",
       "      <td>-0.023672</td>\n",
       "      <td>-0.023672</td>\n",
       "      <td>0.181599</td>\n",
       "      <td>-0.033674</td>\n",
       "      <td>-0.048193</td>\n",
       "    </tr>\n",
       "    <tr>\n",
       "      <th>Category_M55</th>\n",
       "      <td>0.025084</td>\n",
       "      <td>0.080054</td>\n",
       "      <td>-0.020382</td>\n",
       "      <td>0.027359</td>\n",
       "      <td>-0.010301</td>\n",
       "      <td>-0.086258</td>\n",
       "      <td>-0.086258</td>\n",
       "      <td>-0.041487</td>\n",
       "      <td>1.000000</td>\n",
       "      <td>-0.174342</td>\n",
       "      <td>-0.051434</td>\n",
       "      <td>-0.041487</td>\n",
       "      <td>-0.097489</td>\n",
       "      <td>0.570597</td>\n",
       "      <td>-0.020378</td>\n",
       "      <td>-0.046666</td>\n",
       "      <td>-0.028989</td>\n",
       "      <td>-0.041487</td>\n",
       "    </tr>\n",
       "    <tr>\n",
       "      <th>Category_MAM</th>\n",
       "      <td>0.000918</td>\n",
       "      <td>-0.099553</td>\n",
       "      <td>0.116919</td>\n",
       "      <td>-0.019892</td>\n",
       "      <td>-0.013829</td>\n",
       "      <td>-0.421076</td>\n",
       "      <td>-0.421076</td>\n",
       "      <td>-0.202522</td>\n",
       "      <td>-0.174342</td>\n",
       "      <td>1.000000</td>\n",
       "      <td>-0.251081</td>\n",
       "      <td>-0.202522</td>\n",
       "      <td>-0.001487</td>\n",
       "      <td>-0.099479</td>\n",
       "      <td>0.116888</td>\n",
       "      <td>-0.029614</td>\n",
       "      <td>0.012382</td>\n",
       "      <td>0.017721</td>\n",
       "    </tr>\n",
       "    <tr>\n",
       "      <th>Category_UNKNOWN</th>\n",
       "      <td>0.104763</td>\n",
       "      <td>-0.041607</td>\n",
       "      <td>-0.029358</td>\n",
       "      <td>0.119290</td>\n",
       "      <td>0.157256</td>\n",
       "      <td>-0.124226</td>\n",
       "      <td>-0.124226</td>\n",
       "      <td>-0.059748</td>\n",
       "      <td>-0.051434</td>\n",
       "      <td>-0.251081</td>\n",
       "      <td>1.000000</td>\n",
       "      <td>-0.059748</td>\n",
       "      <td>-0.013162</td>\n",
       "      <td>-0.029348</td>\n",
       "      <td>-0.029348</td>\n",
       "      <td>-0.067206</td>\n",
       "      <td>-0.041748</td>\n",
       "      <td>0.156839</td>\n",
       "    </tr>\n",
       "    <tr>\n",
       "      <th>Category_WAM</th>\n",
       "      <td>0.024039</td>\n",
       "      <td>0.103027</td>\n",
       "      <td>-0.023775</td>\n",
       "      <td>0.016648</td>\n",
       "      <td>0.022736</td>\n",
       "      <td>-0.100201</td>\n",
       "      <td>-0.100201</td>\n",
       "      <td>-0.048193</td>\n",
       "      <td>-0.041487</td>\n",
       "      <td>-0.202522</td>\n",
       "      <td>-0.059748</td>\n",
       "      <td>1.000000</td>\n",
       "      <td>0.092012</td>\n",
       "      <td>-0.023672</td>\n",
       "      <td>-0.023672</td>\n",
       "      <td>-0.054209</td>\n",
       "      <td>-0.033674</td>\n",
       "      <td>-0.048193</td>\n",
       "    </tr>\n",
       "    <tr>\n",
       "      <th>CrossTraining_UNKNOWN</th>\n",
       "      <td>-0.123249</td>\n",
       "      <td>0.314721</td>\n",
       "      <td>0.045277</td>\n",
       "      <td>-0.126638</td>\n",
       "      <td>-0.119858</td>\n",
       "      <td>-0.064751</td>\n",
       "      <td>0.105956</td>\n",
       "      <td>-0.061931</td>\n",
       "      <td>-0.097489</td>\n",
       "      <td>-0.001487</td>\n",
       "      <td>-0.013162</td>\n",
       "      <td>0.092012</td>\n",
       "      <td>1.000000</td>\n",
       "      <td>-0.257273</td>\n",
       "      <td>-0.257273</td>\n",
       "      <td>-0.589145</td>\n",
       "      <td>-0.365974</td>\n",
       "      <td>-0.523763</td>\n",
       "    </tr>\n",
       "    <tr>\n",
       "      <th>CrossTraining_ciclista 13h</th>\n",
       "      <td>-0.115935</td>\n",
       "      <td>0.200986</td>\n",
       "      <td>-0.011583</td>\n",
       "      <td>-0.117711</td>\n",
       "      <td>-0.142244</td>\n",
       "      <td>-0.049219</td>\n",
       "      <td>-0.049219</td>\n",
       "      <td>-0.023672</td>\n",
       "      <td>0.570597</td>\n",
       "      <td>-0.099479</td>\n",
       "      <td>-0.029348</td>\n",
       "      <td>-0.023672</td>\n",
       "      <td>-0.257273</td>\n",
       "      <td>1.000000</td>\n",
       "      <td>-0.011628</td>\n",
       "      <td>-0.026627</td>\n",
       "      <td>-0.016541</td>\n",
       "      <td>-0.023672</td>\n",
       "    </tr>\n",
       "    <tr>\n",
       "      <th>CrossTraining_ciclista 1h</th>\n",
       "      <td>-0.150286</td>\n",
       "      <td>0.030791</td>\n",
       "      <td>-0.011476</td>\n",
       "      <td>-0.140731</td>\n",
       "      <td>-0.142244</td>\n",
       "      <td>-0.049219</td>\n",
       "      <td>-0.049219</td>\n",
       "      <td>-0.023672</td>\n",
       "      <td>-0.020378</td>\n",
       "      <td>0.116888</td>\n",
       "      <td>-0.029348</td>\n",
       "      <td>-0.023672</td>\n",
       "      <td>-0.257273</td>\n",
       "      <td>-0.011628</td>\n",
       "      <td>1.000000</td>\n",
       "      <td>-0.026627</td>\n",
       "      <td>-0.016541</td>\n",
       "      <td>-0.023672</td>\n",
       "    </tr>\n",
       "    <tr>\n",
       "      <th>CrossTraining_ciclista 3h</th>\n",
       "      <td>0.155359</td>\n",
       "      <td>-0.230776</td>\n",
       "      <td>-0.026781</td>\n",
       "      <td>0.154794</td>\n",
       "      <td>0.142677</td>\n",
       "      <td>0.148775</td>\n",
       "      <td>-0.112709</td>\n",
       "      <td>0.181599</td>\n",
       "      <td>-0.046666</td>\n",
       "      <td>-0.029614</td>\n",
       "      <td>-0.067206</td>\n",
       "      <td>-0.054209</td>\n",
       "      <td>-0.589145</td>\n",
       "      <td>-0.026627</td>\n",
       "      <td>-0.026627</td>\n",
       "      <td>1.000000</td>\n",
       "      <td>-0.037878</td>\n",
       "      <td>-0.054209</td>\n",
       "    </tr>\n",
       "    <tr>\n",
       "      <th>CrossTraining_ciclista 4h</th>\n",
       "      <td>0.003054</td>\n",
       "      <td>-0.135344</td>\n",
       "      <td>-0.016417</td>\n",
       "      <td>0.004470</td>\n",
       "      <td>0.015886</td>\n",
       "      <td>-0.070014</td>\n",
       "      <td>0.133027</td>\n",
       "      <td>-0.033674</td>\n",
       "      <td>-0.028989</td>\n",
       "      <td>0.012382</td>\n",
       "      <td>-0.041748</td>\n",
       "      <td>-0.033674</td>\n",
       "      <td>-0.365974</td>\n",
       "      <td>-0.016541</td>\n",
       "      <td>-0.016541</td>\n",
       "      <td>-0.037878</td>\n",
       "      <td>1.000000</td>\n",
       "      <td>-0.033674</td>\n",
       "    </tr>\n",
       "    <tr>\n",
       "      <th>CrossTraining_ciclista 5h</th>\n",
       "      <td>0.170461</td>\n",
       "      <td>-0.300387</td>\n",
       "      <td>-0.023827</td>\n",
       "      <td>0.171885</td>\n",
       "      <td>0.178896</td>\n",
       "      <td>0.045090</td>\n",
       "      <td>-0.100201</td>\n",
       "      <td>-0.048193</td>\n",
       "      <td>-0.041487</td>\n",
       "      <td>0.017721</td>\n",
       "      <td>0.156839</td>\n",
       "      <td>-0.048193</td>\n",
       "      <td>-0.523763</td>\n",
       "      <td>-0.023672</td>\n",
       "      <td>-0.023672</td>\n",
       "      <td>-0.054209</td>\n",
       "      <td>-0.033674</td>\n",
       "      <td>1.000000</td>\n",
       "    </tr>\n",
       "  </tbody>\n",
       "</table>\n",
       "</div>"
      ],
      "text/plain": [
       "                                  id   km4week   sp4week  MarathonTime  \\\n",
       "id                          1.000000 -0.599675  0.162553      0.991548   \n",
       "km4week                    -0.599675  1.000000 -0.107429     -0.606782   \n",
       "sp4week                     0.162553 -0.107429  1.000000      0.172294   \n",
       "MarathonTime                0.991548 -0.606782  0.172294      1.000000   \n",
       "CATEGORY                    0.963288 -0.545770  0.164002      0.958870   \n",
       "Category_M40                0.030292 -0.083572 -0.049277      0.036035   \n",
       "Category_M45               -0.093299  0.081399 -0.049149     -0.084138   \n",
       "Category_M50               -0.061191  0.118386 -0.023651     -0.050719   \n",
       "Category_M55                0.025084  0.080054 -0.020382      0.027359   \n",
       "Category_MAM                0.000918 -0.099553  0.116919     -0.019892   \n",
       "Category_UNKNOWN            0.104763 -0.041607 -0.029358      0.119290   \n",
       "Category_WAM                0.024039  0.103027 -0.023775      0.016648   \n",
       "CrossTraining_UNKNOWN      -0.123249  0.314721  0.045277     -0.126638   \n",
       "CrossTraining_ciclista 13h -0.115935  0.200986 -0.011583     -0.117711   \n",
       "CrossTraining_ciclista 1h  -0.150286  0.030791 -0.011476     -0.140731   \n",
       "CrossTraining_ciclista 3h   0.155359 -0.230776 -0.026781      0.154794   \n",
       "CrossTraining_ciclista 4h   0.003054 -0.135344 -0.016417      0.004470   \n",
       "CrossTraining_ciclista 5h   0.170461 -0.300387 -0.023827      0.171885   \n",
       "\n",
       "                            CATEGORY  Category_M40  Category_M45  \\\n",
       "id                          0.963288      0.030292     -0.093299   \n",
       "km4week                    -0.545770     -0.083572      0.081399   \n",
       "sp4week                     0.164002     -0.049277     -0.049149   \n",
       "MarathonTime                0.958870      0.036035     -0.084138   \n",
       "CATEGORY                    1.000000      0.032841     -0.111462   \n",
       "Category_M40                0.032841      1.000000     -0.208333   \n",
       "Category_M45               -0.111462     -0.208333      1.000000   \n",
       "Category_M50               -0.029317     -0.100201     -0.100201   \n",
       "Category_M55               -0.010301     -0.086258     -0.086258   \n",
       "Category_MAM               -0.013829     -0.421076     -0.421076   \n",
       "Category_UNKNOWN            0.157256     -0.124226     -0.124226   \n",
       "Category_WAM                0.022736     -0.100201     -0.100201   \n",
       "CrossTraining_UNKNOWN      -0.119858     -0.064751      0.105956   \n",
       "CrossTraining_ciclista 13h -0.142244     -0.049219     -0.049219   \n",
       "CrossTraining_ciclista 1h  -0.142244     -0.049219     -0.049219   \n",
       "CrossTraining_ciclista 3h   0.142677      0.148775     -0.112709   \n",
       "CrossTraining_ciclista 4h   0.015886     -0.070014      0.133027   \n",
       "CrossTraining_ciclista 5h   0.178896      0.045090     -0.100201   \n",
       "\n",
       "                            Category_M50  Category_M55  Category_MAM  \\\n",
       "id                             -0.061191      0.025084      0.000918   \n",
       "km4week                         0.118386      0.080054     -0.099553   \n",
       "sp4week                        -0.023651     -0.020382      0.116919   \n",
       "MarathonTime                   -0.050719      0.027359     -0.019892   \n",
       "CATEGORY                       -0.029317     -0.010301     -0.013829   \n",
       "Category_M40                   -0.100201     -0.086258     -0.421076   \n",
       "Category_M45                   -0.100201     -0.086258     -0.421076   \n",
       "Category_M50                    1.000000     -0.041487     -0.202522   \n",
       "Category_M55                   -0.041487      1.000000     -0.174342   \n",
       "Category_MAM                   -0.202522     -0.174342      1.000000   \n",
       "Category_UNKNOWN               -0.059748     -0.051434     -0.251081   \n",
       "Category_WAM                   -0.048193     -0.041487     -0.202522   \n",
       "CrossTraining_UNKNOWN          -0.061931     -0.097489     -0.001487   \n",
       "CrossTraining_ciclista 13h     -0.023672      0.570597     -0.099479   \n",
       "CrossTraining_ciclista 1h      -0.023672     -0.020378      0.116888   \n",
       "CrossTraining_ciclista 3h       0.181599     -0.046666     -0.029614   \n",
       "CrossTraining_ciclista 4h      -0.033674     -0.028989      0.012382   \n",
       "CrossTraining_ciclista 5h      -0.048193     -0.041487      0.017721   \n",
       "\n",
       "                            Category_UNKNOWN  Category_WAM  \\\n",
       "id                                  0.104763      0.024039   \n",
       "km4week                            -0.041607      0.103027   \n",
       "sp4week                            -0.029358     -0.023775   \n",
       "MarathonTime                        0.119290      0.016648   \n",
       "CATEGORY                            0.157256      0.022736   \n",
       "Category_M40                       -0.124226     -0.100201   \n",
       "Category_M45                       -0.124226     -0.100201   \n",
       "Category_M50                       -0.059748     -0.048193   \n",
       "Category_M55                       -0.051434     -0.041487   \n",
       "Category_MAM                       -0.251081     -0.202522   \n",
       "Category_UNKNOWN                    1.000000     -0.059748   \n",
       "Category_WAM                       -0.059748      1.000000   \n",
       "CrossTraining_UNKNOWN              -0.013162      0.092012   \n",
       "CrossTraining_ciclista 13h         -0.029348     -0.023672   \n",
       "CrossTraining_ciclista 1h          -0.029348     -0.023672   \n",
       "CrossTraining_ciclista 3h          -0.067206     -0.054209   \n",
       "CrossTraining_ciclista 4h          -0.041748     -0.033674   \n",
       "CrossTraining_ciclista 5h           0.156839     -0.048193   \n",
       "\n",
       "                            CrossTraining_UNKNOWN  CrossTraining_ciclista 13h  \\\n",
       "id                                      -0.123249                   -0.115935   \n",
       "km4week                                  0.314721                    0.200986   \n",
       "sp4week                                  0.045277                   -0.011583   \n",
       "MarathonTime                            -0.126638                   -0.117711   \n",
       "CATEGORY                                -0.119858                   -0.142244   \n",
       "Category_M40                            -0.064751                   -0.049219   \n",
       "Category_M45                             0.105956                   -0.049219   \n",
       "Category_M50                            -0.061931                   -0.023672   \n",
       "Category_M55                            -0.097489                    0.570597   \n",
       "Category_MAM                            -0.001487                   -0.099479   \n",
       "Category_UNKNOWN                        -0.013162                   -0.029348   \n",
       "Category_WAM                             0.092012                   -0.023672   \n",
       "CrossTraining_UNKNOWN                    1.000000                   -0.257273   \n",
       "CrossTraining_ciclista 13h              -0.257273                    1.000000   \n",
       "CrossTraining_ciclista 1h               -0.257273                   -0.011628   \n",
       "CrossTraining_ciclista 3h               -0.589145                   -0.026627   \n",
       "CrossTraining_ciclista 4h               -0.365974                   -0.016541   \n",
       "CrossTraining_ciclista 5h               -0.523763                   -0.023672   \n",
       "\n",
       "                            CrossTraining_ciclista 1h  \\\n",
       "id                                          -0.150286   \n",
       "km4week                                      0.030791   \n",
       "sp4week                                     -0.011476   \n",
       "MarathonTime                                -0.140731   \n",
       "CATEGORY                                    -0.142244   \n",
       "Category_M40                                -0.049219   \n",
       "Category_M45                                -0.049219   \n",
       "Category_M50                                -0.023672   \n",
       "Category_M55                                -0.020378   \n",
       "Category_MAM                                 0.116888   \n",
       "Category_UNKNOWN                            -0.029348   \n",
       "Category_WAM                                -0.023672   \n",
       "CrossTraining_UNKNOWN                       -0.257273   \n",
       "CrossTraining_ciclista 13h                  -0.011628   \n",
       "CrossTraining_ciclista 1h                    1.000000   \n",
       "CrossTraining_ciclista 3h                   -0.026627   \n",
       "CrossTraining_ciclista 4h                   -0.016541   \n",
       "CrossTraining_ciclista 5h                   -0.023672   \n",
       "\n",
       "                            CrossTraining_ciclista 3h  \\\n",
       "id                                           0.155359   \n",
       "km4week                                     -0.230776   \n",
       "sp4week                                     -0.026781   \n",
       "MarathonTime                                 0.154794   \n",
       "CATEGORY                                     0.142677   \n",
       "Category_M40                                 0.148775   \n",
       "Category_M45                                -0.112709   \n",
       "Category_M50                                 0.181599   \n",
       "Category_M55                                -0.046666   \n",
       "Category_MAM                                -0.029614   \n",
       "Category_UNKNOWN                            -0.067206   \n",
       "Category_WAM                                -0.054209   \n",
       "CrossTraining_UNKNOWN                       -0.589145   \n",
       "CrossTraining_ciclista 13h                  -0.026627   \n",
       "CrossTraining_ciclista 1h                   -0.026627   \n",
       "CrossTraining_ciclista 3h                    1.000000   \n",
       "CrossTraining_ciclista 4h                   -0.037878   \n",
       "CrossTraining_ciclista 5h                   -0.054209   \n",
       "\n",
       "                            CrossTraining_ciclista 4h  \\\n",
       "id                                           0.003054   \n",
       "km4week                                     -0.135344   \n",
       "sp4week                                     -0.016417   \n",
       "MarathonTime                                 0.004470   \n",
       "CATEGORY                                     0.015886   \n",
       "Category_M40                                -0.070014   \n",
       "Category_M45                                 0.133027   \n",
       "Category_M50                                -0.033674   \n",
       "Category_M55                                -0.028989   \n",
       "Category_MAM                                 0.012382   \n",
       "Category_UNKNOWN                            -0.041748   \n",
       "Category_WAM                                -0.033674   \n",
       "CrossTraining_UNKNOWN                       -0.365974   \n",
       "CrossTraining_ciclista 13h                  -0.016541   \n",
       "CrossTraining_ciclista 1h                   -0.016541   \n",
       "CrossTraining_ciclista 3h                   -0.037878   \n",
       "CrossTraining_ciclista 4h                    1.000000   \n",
       "CrossTraining_ciclista 5h                   -0.033674   \n",
       "\n",
       "                            CrossTraining_ciclista 5h  \n",
       "id                                           0.170461  \n",
       "km4week                                     -0.300387  \n",
       "sp4week                                     -0.023827  \n",
       "MarathonTime                                 0.171885  \n",
       "CATEGORY                                     0.178896  \n",
       "Category_M40                                 0.045090  \n",
       "Category_M45                                -0.100201  \n",
       "Category_M50                                -0.048193  \n",
       "Category_M55                                -0.041487  \n",
       "Category_MAM                                 0.017721  \n",
       "Category_UNKNOWN                             0.156839  \n",
       "Category_WAM                                -0.048193  \n",
       "CrossTraining_UNKNOWN                       -0.523763  \n",
       "CrossTraining_ciclista 13h                  -0.023672  \n",
       "CrossTraining_ciclista 1h                   -0.023672  \n",
       "CrossTraining_ciclista 3h                   -0.054209  \n",
       "CrossTraining_ciclista 4h                   -0.033674  \n",
       "CrossTraining_ciclista 5h                    1.000000  "
      ]
     },
     "execution_count": 52,
     "metadata": {},
     "output_type": "execute_result"
    }
   ],
   "source": [
    "df.corr()"
   ]
  },
  {
   "cell_type": "code",
   "execution_count": 53,
   "metadata": {},
   "outputs": [],
   "source": [
    "##Replacing '-' in Wall21 with the NAN"
   ]
  },
  {
   "cell_type": "code",
   "execution_count": 54,
   "metadata": {},
   "outputs": [
    {
     "data": {
      "text/html": [
       "<div>\n",
       "<style scoped>\n",
       "    .dataframe tbody tr th:only-of-type {\n",
       "        vertical-align: middle;\n",
       "    }\n",
       "\n",
       "    .dataframe tbody tr th {\n",
       "        vertical-align: top;\n",
       "    }\n",
       "\n",
       "    .dataframe thead th {\n",
       "        text-align: right;\n",
       "    }\n",
       "</style>\n",
       "<table border=\"1\" class=\"dataframe\">\n",
       "  <thead>\n",
       "    <tr style=\"text-align: right;\">\n",
       "      <th></th>\n",
       "      <th>Marathon</th>\n",
       "      <th>Name</th>\n",
       "      <th>Category</th>\n",
       "      <th>CrossTraining</th>\n",
       "      <th>Wall21</th>\n",
       "    </tr>\n",
       "  </thead>\n",
       "  <tbody>\n",
       "    <tr>\n",
       "      <th>count</th>\n",
       "      <td>87</td>\n",
       "      <td>87</td>\n",
       "      <td>87</td>\n",
       "      <td>87</td>\n",
       "      <td>87</td>\n",
       "    </tr>\n",
       "    <tr>\n",
       "      <th>unique</th>\n",
       "      <td>1</td>\n",
       "      <td>86</td>\n",
       "      <td>7</td>\n",
       "      <td>6</td>\n",
       "      <td>52</td>\n",
       "    </tr>\n",
       "    <tr>\n",
       "      <th>top</th>\n",
       "      <td>Prague17</td>\n",
       "      <td>Tomas Drabek</td>\n",
       "      <td>MAM</td>\n",
       "      <td>UNKNOWN</td>\n",
       "      <td>-</td>\n",
       "    </tr>\n",
       "    <tr>\n",
       "      <th>freq</th>\n",
       "      <td>87</td>\n",
       "      <td>2</td>\n",
       "      <td>40</td>\n",
       "      <td>74</td>\n",
       "      <td>6</td>\n",
       "    </tr>\n",
       "  </tbody>\n",
       "</table>\n",
       "</div>"
      ],
      "text/plain": [
       "        Marathon          Name Category CrossTraining Wall21\n",
       "count         87            87       87            87     87\n",
       "unique         1            86        7             6     52\n",
       "top     Prague17  Tomas Drabek      MAM       UNKNOWN   -   \n",
       "freq          87             2       40            74      6"
      ]
     },
     "execution_count": 54,
     "metadata": {},
     "output_type": "execute_result"
    }
   ],
   "source": [
    "df.describe(include = ['object'])"
   ]
  },
  {
   "cell_type": "code",
   "execution_count": 55,
   "metadata": {},
   "outputs": [
    {
     "data": {
      "text/html": [
       "<div>\n",
       "<style scoped>\n",
       "    .dataframe tbody tr th:only-of-type {\n",
       "        vertical-align: middle;\n",
       "    }\n",
       "\n",
       "    .dataframe tbody tr th {\n",
       "        vertical-align: top;\n",
       "    }\n",
       "\n",
       "    .dataframe thead th {\n",
       "        text-align: right;\n",
       "    }\n",
       "</style>\n",
       "<table border=\"1\" class=\"dataframe\">\n",
       "  <thead>\n",
       "    <tr style=\"text-align: right;\">\n",
       "      <th></th>\n",
       "      <th>Marathon</th>\n",
       "      <th>Name</th>\n",
       "      <th>Category</th>\n",
       "      <th>CrossTraining</th>\n",
       "      <th>Wall21</th>\n",
       "    </tr>\n",
       "  </thead>\n",
       "  <tbody>\n",
       "    <tr>\n",
       "      <th>count</th>\n",
       "      <td>87</td>\n",
       "      <td>87</td>\n",
       "      <td>87</td>\n",
       "      <td>87</td>\n",
       "      <td>87</td>\n",
       "    </tr>\n",
       "    <tr>\n",
       "      <th>unique</th>\n",
       "      <td>1</td>\n",
       "      <td>86</td>\n",
       "      <td>7</td>\n",
       "      <td>6</td>\n",
       "      <td>52</td>\n",
       "    </tr>\n",
       "    <tr>\n",
       "      <th>top</th>\n",
       "      <td>Prague17</td>\n",
       "      <td>Tomas Drabek</td>\n",
       "      <td>MAM</td>\n",
       "      <td>UNKNOWN</td>\n",
       "      <td>NaN</td>\n",
       "    </tr>\n",
       "    <tr>\n",
       "      <th>freq</th>\n",
       "      <td>87</td>\n",
       "      <td>2</td>\n",
       "      <td>40</td>\n",
       "      <td>74</td>\n",
       "      <td>6</td>\n",
       "    </tr>\n",
       "  </tbody>\n",
       "</table>\n",
       "</div>"
      ],
      "text/plain": [
       "        Marathon          Name Category CrossTraining   Wall21\n",
       "count         87            87       87            87       87\n",
       "unique         1            86        7             6       52\n",
       "top     Prague17  Tomas Drabek      MAM       UNKNOWN   NaN   \n",
       "freq          87             2       40            74        6"
      ]
     },
     "execution_count": 55,
     "metadata": {},
     "output_type": "execute_result"
    }
   ],
   "source": [
    "df.Wall21=df.Wall21.apply( lambda x: x.replace('-','NaN'))\n",
    "df.describe(include = ['object'])"
   ]
  },
  {
   "cell_type": "code",
   "execution_count": 56,
   "metadata": {},
   "outputs": [
    {
     "data": {
      "text/plain": [
       "id                            0\n",
       "Marathon                      0\n",
       "Name                          0\n",
       "Category                      0\n",
       "km4week                       0\n",
       "sp4week                       0\n",
       "CrossTraining                 0\n",
       "Wall21                        0\n",
       "MarathonTime                  0\n",
       "CATEGORY                      0\n",
       "Category_M40                  0\n",
       "Category_M45                  0\n",
       "Category_M50                  0\n",
       "Category_M55                  0\n",
       "Category_MAM                  0\n",
       "Category_UNKNOWN              0\n",
       "Category_WAM                  0\n",
       "CrossTraining_UNKNOWN         0\n",
       "CrossTraining_ciclista 13h    0\n",
       "CrossTraining_ciclista 1h     0\n",
       "CrossTraining_ciclista 3h     0\n",
       "CrossTraining_ciclista 4h     0\n",
       "CrossTraining_ciclista 5h     0\n",
       "dtype: int64"
      ]
     },
     "execution_count": 56,
     "metadata": {},
     "output_type": "execute_result"
    }
   ],
   "source": [
    "df.isna().sum()"
   ]
  },
  {
   "cell_type": "code",
   "execution_count": 57,
   "metadata": {},
   "outputs": [
    {
     "data": {
      "text/html": [
       "<div>\n",
       "<style scoped>\n",
       "    .dataframe tbody tr th:only-of-type {\n",
       "        vertical-align: middle;\n",
       "    }\n",
       "\n",
       "    .dataframe tbody tr th {\n",
       "        vertical-align: top;\n",
       "    }\n",
       "\n",
       "    .dataframe thead th {\n",
       "        text-align: right;\n",
       "    }\n",
       "</style>\n",
       "<table border=\"1\" class=\"dataframe\">\n",
       "  <thead>\n",
       "    <tr style=\"text-align: right;\">\n",
       "      <th></th>\n",
       "      <th>Marathon</th>\n",
       "      <th>Name</th>\n",
       "      <th>Category</th>\n",
       "      <th>CrossTraining</th>\n",
       "      <th>Wall21</th>\n",
       "    </tr>\n",
       "  </thead>\n",
       "  <tbody>\n",
       "    <tr>\n",
       "      <th>count</th>\n",
       "      <td>87</td>\n",
       "      <td>87</td>\n",
       "      <td>87</td>\n",
       "      <td>87</td>\n",
       "      <td>87</td>\n",
       "    </tr>\n",
       "    <tr>\n",
       "      <th>unique</th>\n",
       "      <td>1</td>\n",
       "      <td>86</td>\n",
       "      <td>7</td>\n",
       "      <td>6</td>\n",
       "      <td>52</td>\n",
       "    </tr>\n",
       "    <tr>\n",
       "      <th>top</th>\n",
       "      <td>Prague17</td>\n",
       "      <td>Tomas Drabek</td>\n",
       "      <td>MAM</td>\n",
       "      <td>UNKNOWN</td>\n",
       "      <td>0</td>\n",
       "    </tr>\n",
       "    <tr>\n",
       "      <th>freq</th>\n",
       "      <td>87</td>\n",
       "      <td>2</td>\n",
       "      <td>40</td>\n",
       "      <td>74</td>\n",
       "      <td>6</td>\n",
       "    </tr>\n",
       "  </tbody>\n",
       "</table>\n",
       "</div>"
      ],
      "text/plain": [
       "        Marathon          Name Category CrossTraining Wall21\n",
       "count         87            87       87            87     87\n",
       "unique         1            86        7             6     52\n",
       "top     Prague17  Tomas Drabek      MAM       UNKNOWN   0   \n",
       "freq          87             2       40            74      6"
      ]
     },
     "execution_count": 57,
     "metadata": {},
     "output_type": "execute_result"
    }
   ],
   "source": [
    "df.Wall21=df.Wall21.apply( lambda x: x.replace('NaN','0'))\n",
    "df.describe(include = ['object'])"
   ]
  },
  {
   "cell_type": "code",
   "execution_count": 58,
   "metadata": {},
   "outputs": [
    {
     "data": {
      "text/plain": [
       "1.61"
      ]
     },
     "execution_count": 58,
     "metadata": {},
     "output_type": "execute_result"
    }
   ],
   "source": [
    "df.Wall21.median()"
   ]
  },
  {
   "cell_type": "code",
   "execution_count": 59,
   "metadata": {},
   "outputs": [],
   "source": [
    "##Replacing the Wall21 0 with Median"
   ]
  },
  {
   "cell_type": "code",
   "execution_count": 60,
   "metadata": {},
   "outputs": [
    {
     "data": {
      "text/plain": [
       "id                              int64\n",
       "Marathon                       object\n",
       "Name                           object\n",
       "Category                       object\n",
       "km4week                       float64\n",
       "sp4week                       float64\n",
       "CrossTraining                  object\n",
       "Wall21                        float64\n",
       "MarathonTime                  float64\n",
       "CATEGORY                        int64\n",
       "Category_M40                    uint8\n",
       "Category_M45                    uint8\n",
       "Category_M50                    uint8\n",
       "Category_M55                    uint8\n",
       "Category_MAM                    uint8\n",
       "Category_UNKNOWN                uint8\n",
       "Category_WAM                    uint8\n",
       "CrossTraining_UNKNOWN           uint8\n",
       "CrossTraining_ciclista 13h      uint8\n",
       "CrossTraining_ciclista 1h       uint8\n",
       "CrossTraining_ciclista 3h       uint8\n",
       "CrossTraining_ciclista 4h       uint8\n",
       "CrossTraining_ciclista 5h       uint8\n",
       "dtype: object"
      ]
     },
     "execution_count": 60,
     "metadata": {},
     "output_type": "execute_result"
    }
   ],
   "source": [
    "df.Wall21 = df.Wall21.astype(float)\n",
    "df.dtypes"
   ]
  },
  {
   "cell_type": "code",
   "execution_count": 61,
   "metadata": {},
   "outputs": [
    {
     "data": {
      "text/html": [
       "<div>\n",
       "<style scoped>\n",
       "    .dataframe tbody tr th:only-of-type {\n",
       "        vertical-align: middle;\n",
       "    }\n",
       "\n",
       "    .dataframe tbody tr th {\n",
       "        vertical-align: top;\n",
       "    }\n",
       "\n",
       "    .dataframe thead th {\n",
       "        text-align: right;\n",
       "    }\n",
       "</style>\n",
       "<table border=\"1\" class=\"dataframe\">\n",
       "  <thead>\n",
       "    <tr style=\"text-align: right;\">\n",
       "      <th></th>\n",
       "      <th>Marathon</th>\n",
       "      <th>Name</th>\n",
       "      <th>Category</th>\n",
       "      <th>CrossTraining</th>\n",
       "    </tr>\n",
       "  </thead>\n",
       "  <tbody>\n",
       "    <tr>\n",
       "      <th>count</th>\n",
       "      <td>87</td>\n",
       "      <td>87</td>\n",
       "      <td>87</td>\n",
       "      <td>87</td>\n",
       "    </tr>\n",
       "    <tr>\n",
       "      <th>unique</th>\n",
       "      <td>1</td>\n",
       "      <td>86</td>\n",
       "      <td>7</td>\n",
       "      <td>6</td>\n",
       "    </tr>\n",
       "    <tr>\n",
       "      <th>top</th>\n",
       "      <td>Prague17</td>\n",
       "      <td>Tomas Drabek</td>\n",
       "      <td>MAM</td>\n",
       "      <td>UNKNOWN</td>\n",
       "    </tr>\n",
       "    <tr>\n",
       "      <th>freq</th>\n",
       "      <td>87</td>\n",
       "      <td>2</td>\n",
       "      <td>40</td>\n",
       "      <td>74</td>\n",
       "    </tr>\n",
       "  </tbody>\n",
       "</table>\n",
       "</div>"
      ],
      "text/plain": [
       "        Marathon          Name Category CrossTraining\n",
       "count         87            87       87            87\n",
       "unique         1            86        7             6\n",
       "top     Prague17  Tomas Drabek      MAM       UNKNOWN\n",
       "freq          87             2       40            74"
      ]
     },
     "execution_count": 61,
     "metadata": {},
     "output_type": "execute_result"
    }
   ],
   "source": [
    "df.describe(include = ['object'])"
   ]
  },
  {
   "cell_type": "code",
   "execution_count": 62,
   "metadata": {},
   "outputs": [],
   "source": [
    "df[\"Wall21\"] = np.where(df[\"Wall21\"]==0, 1.61,df['Wall21'])"
   ]
  },
  {
   "cell_type": "code",
   "execution_count": 63,
   "metadata": {},
   "outputs": [],
   "source": [
    "##Outliers Deduction"
   ]
  },
  {
   "cell_type": "code",
   "execution_count": 64,
   "metadata": {},
   "outputs": [],
   "source": [
    "def find_outliers_tukey(x):\n",
    "    q1 = x.quantile(.25)\n",
    "    q3 = x.quantile(.75)\n",
    "    iqr = q3 - q1\n",
    "    floor = q1 - 1.5*iqr\n",
    "    ceiling = q3 + 1.5*iqr\n",
    "    outlier_indices = list(x.index[(x < floor) | (x > ceiling)])\n",
    "    outlier_values = list(x[outlier_indices])\n",
    "    return outlier_indices, outlier_values"
   ]
  },
  {
   "cell_type": "code",
   "execution_count": 65,
   "metadata": {},
   "outputs": [
    {
     "data": {
      "text/plain": [
       "Index([u'id', u'Marathon', u'Name', u'Category', u'km4week', u'sp4week',\n",
       "       u'CrossTraining', u'Wall21', u'MarathonTime', u'CATEGORY',\n",
       "       u'Category_M40', u'Category_M45', u'Category_M50', u'Category_M55',\n",
       "       u'Category_MAM', u'Category_UNKNOWN', u'Category_WAM',\n",
       "       u'CrossTraining_UNKNOWN', u'CrossTraining_ciclista 13h',\n",
       "       u'CrossTraining_ciclista 1h', u'CrossTraining_ciclista 3h',\n",
       "       u'CrossTraining_ciclista 4h', u'CrossTraining_ciclista 5h'],\n",
       "      dtype='object')"
      ]
     },
     "execution_count": 65,
     "metadata": {},
     "output_type": "execute_result"
    }
   ],
   "source": [
    "df.columns"
   ]
  },
  {
   "cell_type": "code",
   "execution_count": 66,
   "metadata": {},
   "outputs": [
    {
     "name": "stdout",
     "output_type": "stream",
     "text": [
      "Outliers for km4week\n",
      "[129.6 132.8 137.5]\n"
     ]
    }
   ],
   "source": [
    "print(\"Outliers for km4week\")\n",
    "Year_indices, Year_values = find_outliers_tukey(df['km4week'])\n",
    "print(np.sort(Year_values))"
   ]
  },
  {
   "cell_type": "code",
   "execution_count": 67,
   "metadata": {},
   "outputs": [],
   "source": [
    "##Replacing the Outliers in the column km4week with Median"
   ]
  },
  {
   "cell_type": "code",
   "execution_count": 68,
   "metadata": {},
   "outputs": [
    {
     "data": {
      "text/plain": [
       "<matplotlib.axes._subplots.AxesSubplot at 0x83be910>"
      ]
     },
     "execution_count": 68,
     "metadata": {},
     "output_type": "execute_result"
    },
    {
     "data": {
      "image/png": "[encoded data removed]",
      "text/plain": [
       "<Figure size 432x288 with 1 Axes>"
      ]
     },
     "metadata": {},
     "output_type": "display_data"
    }
   ],
   "source": [
    "df['km4week'].plot.box()"
   ]
  },
  {
   "cell_type": "code",
   "execution_count": 69,
   "metadata": {},
   "outputs": [],
   "source": [
    "df[\"km4week\"] = np.where(df[\"km4week\"] >129.6, 58.8,df['km4week'])"
   ]
  },
  {
   "cell_type": "code",
   "execution_count": 70,
   "metadata": {},
   "outputs": [
    {
     "data": {
      "text/plain": [
       "58.8"
      ]
     },
     "execution_count": 70,
     "metadata": {},
     "output_type": "execute_result"
    }
   ],
   "source": [
    "df.km4week.median()"
   ]
  },
  {
   "cell_type": "code",
   "execution_count": 71,
   "metadata": {},
   "outputs": [
    {
     "data": {
      "text/plain": [
       "<matplotlib.axes._subplots.AxesSubplot at 0x843f9b0>"
      ]
     },
     "execution_count": 71,
     "metadata": {},
     "output_type": "execute_result"
    },
    {
     "data": {
      "image/png": "[encoded data removed]",
      "text/plain": [
       "<Figure size 432x288 with 1 Axes>"
      ]
     },
     "metadata": {},
     "output_type": "display_data"
    }
   ],
   "source": [
    "df['km4week'].plot.box()"
   ]
  },
  {
   "cell_type": "code",
   "execution_count": 72,
   "metadata": {},
   "outputs": [
    {
     "data": {
      "text/plain": [
       "<matplotlib.axes._subplots.AxesSubplot at 0x8482090>"
      ]
     },
     "execution_count": 72,
     "metadata": {},
     "output_type": "execute_result"
    },
    {
     "data": {
      "image/png": "[encoded data removed]",
      "text/plain": [
       "<Figure size 432x288 with 1 Axes>"
      ]
     },
     "metadata": {},
     "output_type": "display_data"
    }
   ],
   "source": [
    "df['km4week'].plot.density()"
   ]
  },
  {
   "cell_type": "code",
   "execution_count": 73,
   "metadata": {},
   "outputs": [],
   "source": [
    "##Feature Selection"
   ]
  },
  {
   "cell_type": "code",
   "execution_count": 74,
   "metadata": {},
   "outputs": [],
   "source": [
    "##**Make a list of data frame column names**"
   ]
  },
  {
   "cell_type": "code",
   "execution_count": 75,
   "metadata": {},
   "outputs": [
    {
     "data": {
      "text/plain": [
       "['id',\n",
       " 'Marathon',\n",
       " 'Name',\n",
       " 'Category',\n",
       " 'km4week',\n",
       " 'sp4week',\n",
       " 'CrossTraining',\n",
       " 'Wall21',\n",
       " 'MarathonTime',\n",
       " 'CATEGORY',\n",
       " 'Category_M40',\n",
       " 'Category_M45',\n",
       " 'Category_M50',\n",
       " 'Category_M55',\n",
       " 'Category_MAM',\n",
       " 'Category_UNKNOWN',\n",
       " 'Category_WAM',\n",
       " 'CrossTraining_UNKNOWN',\n",
       " 'CrossTraining_ciclista 13h',\n",
       " 'CrossTraining_ciclista 1h',\n",
       " 'CrossTraining_ciclista 3h',\n",
       " 'CrossTraining_ciclista 4h',\n",
       " 'CrossTraining_ciclista 5h']"
      ]
     },
     "execution_count": 75,
     "metadata": {},
     "output_type": "execute_result"
    }
   ],
   "source": [
    "l_column = list(df.columns) # Making a list out of column names\n",
    "len_feature = len(l_column) # Length of column vector list\n",
    "l_column"
   ]
  },
  {
   "cell_type": "code",
   "execution_count": 76,
   "metadata": {},
   "outputs": [],
   "source": [
    "##**Put all the numerical features in X and Marathon Timin in y and ignoring the string Column as linear regression accepts only Nums"
   ]
  },
  {
   "cell_type": "code",
   "execution_count": 77,
   "metadata": {},
   "outputs": [
    {
     "data": {
      "text/plain": [
       "Index([u'id', u'Marathon', u'Name', u'Category', u'km4week', u'sp4week',\n",
       "       u'CrossTraining', u'Wall21', u'MarathonTime', u'CATEGORY',\n",
       "       u'Category_M40', u'Category_M45', u'Category_M50', u'Category_M55',\n",
       "       u'Category_MAM', u'Category_UNKNOWN', u'Category_WAM',\n",
       "       u'CrossTraining_UNKNOWN', u'CrossTraining_ciclista 13h',\n",
       "       u'CrossTraining_ciclista 1h', u'CrossTraining_ciclista 3h',\n",
       "       u'CrossTraining_ciclista 4h'],\n",
       "      dtype='object')"
      ]
     },
     "execution_count": 77,
     "metadata": {},
     "output_type": "execute_result"
    }
   ],
   "source": [
    "X = df[l_column[0:len_feature-1]]\n",
    "X.columns"
   ]
  },
  {
   "cell_type": "code",
   "execution_count": 78,
   "metadata": {},
   "outputs": [
    {
     "data": {
      "text/plain": [
       "(87, 23)"
      ]
     },
     "execution_count": 78,
     "metadata": {},
     "output_type": "execute_result"
    }
   ],
   "source": [
    "df.shape"
   ]
  },
  {
   "cell_type": "code",
   "execution_count": 79,
   "metadata": {},
   "outputs": [],
   "source": [
    "##Dropping the Target or Dependent variable from the input"
   ]
  },
  {
   "cell_type": "code",
   "execution_count": 80,
   "metadata": {},
   "outputs": [
    {
     "data": {
      "text/plain": [
       "Index([u'id', u'Marathon', u'Name', u'Category', u'km4week', u'sp4week',\n",
       "       u'CrossTraining', u'Wall21', u'CATEGORY', u'Category_M40',\n",
       "       u'Category_M45', u'Category_M50', u'Category_M55', u'Category_MAM',\n",
       "       u'Category_UNKNOWN', u'Category_WAM', u'CrossTraining_UNKNOWN',\n",
       "       u'CrossTraining_ciclista 13h', u'CrossTraining_ciclista 1h',\n",
       "       u'CrossTraining_ciclista 3h', u'CrossTraining_ciclista 4h'],\n",
       "      dtype='object')"
      ]
     },
     "execution_count": 80,
     "metadata": {},
     "output_type": "execute_result"
    }
   ],
   "source": [
    "X=X.drop('MarathonTime',axis=1)\n",
    "X.columns"
   ]
  },
  {
   "cell_type": "code",
   "execution_count": 81,
   "metadata": {},
   "outputs": [
    {
     "data": {
      "text/plain": [
       "Index([u'id', u'Marathon', u'Name', u'Category', u'km4week', u'CrossTraining',\n",
       "       u'Wall21', u'CATEGORY', u'Category_M40', u'Category_M45',\n",
       "       u'Category_M50', u'Category_M55', u'Category_MAM', u'Category_UNKNOWN',\n",
       "       u'Category_WAM', u'CrossTraining_UNKNOWN',\n",
       "       u'CrossTraining_ciclista 13h', u'CrossTraining_ciclista 1h',\n",
       "       u'CrossTraining_ciclista 3h', u'CrossTraining_ciclista 4h'],\n",
       "      dtype='object')"
      ]
     },
     "execution_count": 81,
     "metadata": {},
     "output_type": "execute_result"
    }
   ],
   "source": [
    "X=X.drop('sp4week',axis=1)\n",
    "X.columns#x=id,km4week,wall21,CATEGORY, #y=Marathon time"
   ]
  },
  {
   "cell_type": "code",
   "execution_count": 82,
   "metadata": {},
   "outputs": [],
   "source": [
    "X=X.drop('Marathon',axis=1)"
   ]
  },
  {
   "cell_type": "code",
   "execution_count": 83,
   "metadata": {},
   "outputs": [],
   "source": [
    "X=X.drop('Name',axis=1)"
   ]
  },
  {
   "cell_type": "code",
   "execution_count": 84,
   "metadata": {},
   "outputs": [],
   "source": [
    "X=X.drop('Category',axis=1)"
   ]
  },
  {
   "cell_type": "code",
   "execution_count": 85,
   "metadata": {},
   "outputs": [],
   "source": [
    "X=X.drop('CrossTraining',axis=1)"
   ]
  },
  {
   "cell_type": "code",
   "execution_count": 86,
   "metadata": {},
   "outputs": [],
   "source": [
    "X=X.drop('CrossTraining_ciclista 4h',axis=1)\n",
    "X=X.drop('CrossTraining_ciclista 3h',axis=1)\n",
    "X=X.drop('CrossTraining_ciclista 1h',axis=1)\n",
    "X=X.drop('CrossTraining_ciclista 13h',axis=1)\n",
    "X=X.drop('CrossTraining_UNKNOWN',axis=1)\n",
    "X=X.drop('Category_WAM',axis=1)\n",
    "X=X.drop('Category_UNKNOWN',axis=1)\n",
    "X=X.drop('Category_MAM',axis=1)\n",
    "X=X.drop('Category_M55',axis=1)\n",
    "X=X.drop('Category_M50',axis=1)\n",
    "X=X.drop('Category_M45',axis=1)\n",
    "X=X.drop('Category_M40',axis=1)"
   ]
  },
  {
   "cell_type": "code",
   "execution_count": 87,
   "metadata": {},
   "outputs": [
    {
     "data": {
      "text/plain": [
       "Index([u'id', u'km4week', u'Wall21', u'CATEGORY'], dtype='object')"
      ]
     },
     "execution_count": 87,
     "metadata": {},
     "output_type": "execute_result"
    }
   ],
   "source": [
    "X.columns"
   ]
  },
  {
   "cell_type": "code",
   "execution_count": 88,
   "metadata": {},
   "outputs": [
    {
     "data": {
      "text/plain": [
       "(87, 4)"
      ]
     },
     "execution_count": 88,
     "metadata": {},
     "output_type": "execute_result"
    }
   ],
   "source": [
    "X.shape"
   ]
  },
  {
   "cell_type": "code",
   "execution_count": 89,
   "metadata": {},
   "outputs": [],
   "source": [
    "y = df[l_column[len_feature-15]]"
   ]
  },
  {
   "cell_type": "code",
   "execution_count": 90,
   "metadata": {},
   "outputs": [
    {
     "data": {
      "text/plain": [
       "(87,)"
      ]
     },
     "execution_count": 90,
     "metadata": {},
     "output_type": "execute_result"
    }
   ],
   "source": [
    "y.shape"
   ]
  },
  {
   "cell_type": "code",
   "execution_count": 91,
   "metadata": {},
   "outputs": [
    {
     "data": {
      "text/plain": [
       "0    2.37\n",
       "1    2.59\n",
       "2    2.66\n",
       "3    2.68\n",
       "4    2.74\n",
       "Name: MarathonTime, dtype: float64"
      ]
     },
     "execution_count": 91,
     "metadata": {},
     "output_type": "execute_result"
    }
   ],
   "source": [
    "y.head()"
   ]
  },
  {
   "cell_type": "code",
   "execution_count": 92,
   "metadata": {},
   "outputs": [],
   "source": [
    "### Test-train split"
   ]
  },
  {
   "cell_type": "code",
   "execution_count": 93,
   "metadata": {},
   "outputs": [],
   "source": [
    "##**Import train_test_split function from scikit-learn**"
   ]
  },
  {
   "cell_type": "code",
   "execution_count": 94,
   "metadata": {},
   "outputs": [
    {
     "name": "stderr",
     "output_type": "stream",
     "text": [
      "C:\\Users\\user\\Anaconda2\\lib\\site-packages\\sklearn\\cross_validation.py:41: DeprecationWarning: This module was deprecated in version 0.18 in favor of the model_selection module into which all the refactored classes and functions are moved. Also note that the interface of the new CV iterators are different from that of this module. This module will be removed in 0.20.\n",
      "  \"This module will be removed in 0.20.\", DeprecationWarning)\n"
     ]
    }
   ],
   "source": [
    "from sklearn.cross_validation import train_test_split"
   ]
  },
  {
   "cell_type": "code",
   "execution_count": 95,
   "metadata": {},
   "outputs": [],
   "source": [
    "##**Create X and y train and test splits in one command using a split ratio and a random seed**"
   ]
  },
  {
   "cell_type": "code",
   "execution_count": 96,
   "metadata": {},
   "outputs": [],
   "source": [
    "X_train, X_test, y_train, y_test = train_test_split(X, y, test_size=0.3, random_state=123)"
   ]
  },
  {
   "cell_type": "code",
   "execution_count": 97,
   "metadata": {},
   "outputs": [
    {
     "name": "stdout",
     "output_type": "stream",
     "text": [
      "('Training feature set size:', (60, 4))\n",
      "('Test feature set size:', (27, 4))\n",
      "('Training variable set size:', (60,))\n",
      "('Test variable set size:', (27,))\n"
     ]
    }
   ],
   "source": [
    "print(\"Training feature set size:\",X_train.shape)\n",
    "print(\"Test feature set size:\",X_test.shape)\n",
    "print(\"Training variable set size:\",y_train.shape)\n",
    "print(\"Test variable set size:\",y_test.shape)"
   ]
  },
  {
   "cell_type": "code",
   "execution_count": 98,
   "metadata": {},
   "outputs": [],
   "source": [
    "### Model fit and training"
   ]
  },
  {
   "cell_type": "code",
   "execution_count": 99,
   "metadata": {},
   "outputs": [],
   "source": [
    "##**Import linear regression model estimator from scikit-learn and instantiate**"
   ]
  },
  {
   "cell_type": "code",
   "execution_count": 100,
   "metadata": {},
   "outputs": [],
   "source": [
    "from sklearn.linear_model import LinearRegression\n",
    "from sklearn import metrics"
   ]
  },
  {
   "cell_type": "code",
   "execution_count": 101,
   "metadata": {},
   "outputs": [],
   "source": [
    "lm = LinearRegression() # Creating a Linear Regression object 'lm'"
   ]
  },
  {
   "cell_type": "code",
   "execution_count": 102,
   "metadata": {},
   "outputs": [],
   "source": [
    "##**Fit the model on to the instantiated object itself**"
   ]
  },
  {
   "cell_type": "code",
   "execution_count": 103,
   "metadata": {},
   "outputs": [
    {
     "data": {
      "text/plain": [
       "LinearRegression(copy_X=True, fit_intercept=True, n_jobs=1, normalize=False)"
      ]
     },
     "execution_count": 103,
     "metadata": {},
     "output_type": "execute_result"
    }
   ],
   "source": [
    "lm.fit(X_train,y_train) # Fit the linear model on to the 'lm' object itself i.e. no need to set this to another variable"
   ]
  },
  {
   "cell_type": "code",
   "execution_count": 104,
   "metadata": {},
   "outputs": [],
   "source": [
    "##**Check the intercept and coefficients and put them in a DataFrame**"
   ]
  },
  {
   "cell_type": "code",
   "execution_count": 105,
   "metadata": {},
   "outputs": [
    {
     "name": "stdout",
     "output_type": "stream",
     "text": [
      "('The intercept term of the linear model:', 2.089525503244289)\n"
     ]
    }
   ],
   "source": [
    "print(\"The intercept term of the linear model:\", lm.intercept_)"
   ]
  },
  {
   "cell_type": "code",
   "execution_count": 106,
   "metadata": {},
   "outputs": [
    {
     "name": "stdout",
     "output_type": "stream",
     "text": [
      "('The coefficients of the linear model:', array([1.17254899e-02, 3.78843079e-04, 4.09779532e-01, 8.16716407e-03]))\n"
     ]
    }
   ],
   "source": [
    "print(\"The coefficients of the linear model:\", lm.coef_)"
   ]
  },
  {
   "cell_type": "code",
   "execution_count": 107,
   "metadata": {},
   "outputs": [],
   "source": [
    "cdf = pd.DataFrame(data=lm.coef_, index=X_train.columns, columns=[\"Coefficients\"])"
   ]
  },
  {
   "cell_type": "code",
   "execution_count": 108,
   "metadata": {},
   "outputs": [
    {
     "data": {
      "text/html": [
       "<div>\n",
       "<style scoped>\n",
       "    .dataframe tbody tr th:only-of-type {\n",
       "        vertical-align: middle;\n",
       "    }\n",
       "\n",
       "    .dataframe tbody tr th {\n",
       "        vertical-align: top;\n",
       "    }\n",
       "\n",
       "    .dataframe thead th {\n",
       "        text-align: right;\n",
       "    }\n",
       "</style>\n",
       "<table border=\"1\" class=\"dataframe\">\n",
       "  <thead>\n",
       "    <tr style=\"text-align: right;\">\n",
       "      <th></th>\n",
       "      <th>Coefficients</th>\n",
       "    </tr>\n",
       "  </thead>\n",
       "  <tbody>\n",
       "    <tr>\n",
       "      <th>id</th>\n",
       "      <td>0.011725</td>\n",
       "    </tr>\n",
       "    <tr>\n",
       "      <th>km4week</th>\n",
       "      <td>0.000379</td>\n",
       "    </tr>\n",
       "    <tr>\n",
       "      <th>Wall21</th>\n",
       "      <td>0.409780</td>\n",
       "    </tr>\n",
       "    <tr>\n",
       "      <th>CATEGORY</th>\n",
       "      <td>0.008167</td>\n",
       "    </tr>\n",
       "  </tbody>\n",
       "</table>\n",
       "</div>"
      ],
      "text/plain": [
       "          Coefficients\n",
       "id            0.011725\n",
       "km4week       0.000379\n",
       "Wall21        0.409780\n",
       "CATEGORY      0.008167"
      ]
     },
     "execution_count": 108,
     "metadata": {},
     "output_type": "execute_result"
    }
   ],
   "source": [
    "cdf"
   ]
  },
  {
   "cell_type": "code",
   "execution_count": 109,
   "metadata": {},
   "outputs": [],
   "source": [
    "### Calculation of standard errors and t-statistic for the coefficients"
   ]
  },
  {
   "cell_type": "code",
   "execution_count": 110,
   "metadata": {},
   "outputs": [
    {
     "data": {
      "text/html": [
       "<div>\n",
       "<style scoped>\n",
       "    .dataframe tbody tr th:only-of-type {\n",
       "        vertical-align: middle;\n",
       "    }\n",
       "\n",
       "    .dataframe tbody tr th {\n",
       "        vertical-align: top;\n",
       "    }\n",
       "\n",
       "    .dataframe thead th {\n",
       "        text-align: right;\n",
       "    }\n",
       "</style>\n",
       "<table border=\"1\" class=\"dataframe\">\n",
       "  <thead>\n",
       "    <tr style=\"text-align: right;\">\n",
       "      <th></th>\n",
       "      <th>Coefficients</th>\n",
       "      <th>Standard Error</th>\n",
       "      <th>t-statistic</th>\n",
       "    </tr>\n",
       "  </thead>\n",
       "  <tbody>\n",
       "    <tr>\n",
       "      <th>id</th>\n",
       "      <td>0.011725</td>\n",
       "      <td>0.000225</td>\n",
       "      <td>52.155536</td>\n",
       "    </tr>\n",
       "    <tr>\n",
       "      <th>km4week</th>\n",
       "      <td>0.000379</td>\n",
       "      <td>0.000218</td>\n",
       "      <td>1.738396</td>\n",
       "    </tr>\n",
       "    <tr>\n",
       "      <th>Wall21</th>\n",
       "      <td>0.409780</td>\n",
       "      <td>0.027920</td>\n",
       "      <td>14.677091</td>\n",
       "    </tr>\n",
       "    <tr>\n",
       "      <th>CATEGORY</th>\n",
       "      <td>0.008167</td>\n",
       "      <td>0.005378</td>\n",
       "      <td>1.518521</td>\n",
       "    </tr>\n",
       "  </tbody>\n",
       "</table>\n",
       "</div>"
      ],
      "text/plain": [
       "          Coefficients  Standard Error  t-statistic\n",
       "id            0.011725        0.000225    52.155536\n",
       "km4week       0.000379        0.000218     1.738396\n",
       "Wall21        0.409780        0.027920    14.677091\n",
       "CATEGORY      0.008167        0.005378     1.518521"
      ]
     },
     "execution_count": 110,
     "metadata": {},
     "output_type": "execute_result"
    }
   ],
   "source": [
    "n=X_train.shape[0]\n",
    "k=X_train.shape[1]\n",
    "dfN = n-k\n",
    "train_pred=lm.predict(X_train)\n",
    "train_error = np.square(train_pred - y_train)\n",
    "sum_error=np.sum(train_error)\n",
    "se=[0,0,0,0]\n",
    "for i in range(k):\n",
    "    r = (sum_error/dfN)\n",
    "    r = r/np.sum(np.square(X_train[list(X_train.columns)[i]]-X_train[list(X_train.columns)[i]].mean()))\n",
    "    se[i]=np.sqrt(r)\n",
    "cdf['Standard Error']=se\n",
    "cdf['t-statistic']=cdf['Coefficients']/cdf['Standard Error']\n",
    "cdf"
   ]
  },
  {
   "cell_type": "code",
   "execution_count": 111,
   "metadata": {},
   "outputs": [
    {
     "name": "stdout",
     "output_type": "stream",
     "text": [
      "id > \n",
      "Wall21 > \n",
      "km4week > \n",
      "CATEGORY\n"
     ]
    }
   ],
   "source": [
    "##print(\"Therefore, features arranged in the order of importance for predicting the Marathon Timing\\n\",'-'*90,sep='')\n",
    "l=list(cdf.sort_values('t-statistic',ascending=False).index)\n",
    "print(' > \\n'.join(l))"
   ]
  },
  {
   "cell_type": "code",
   "execution_count": 112,
   "metadata": {},
   "outputs": [
    {
     "data": {
      "text/plain": [
       "Text(0.5,1,'CATEGORY vs. MarathonTime')"
      ]
     },
     "execution_count": 112,
     "metadata": {},
     "output_type": "execute_result"
    },
    {
     "data": {
      "image/png": "[encoded data removed]",
      "text/plain": [
       "<Figure size 1440x720 with 4 Axes>"
      ]
     },
     "metadata": {},
     "output_type": "display_data"
    }
   ],
   "source": [
    "l=list(cdf.index)\n",
    "from matplotlib import gridspec\n",
    "fig = plt.figure(figsize=(20, 10))\n",
    "gs = gridspec.GridSpec(4,3)\n",
    "#f, ax = plt.subplots(nrows=1,ncols=len(l), sharey=True)\n",
    "\n",
    "ax0 = plt.subplot(gs[0])\n",
    "ax0.scatter(df[l[0]],df['MarathonTime'])\n",
    "ax0.set_title(l[0]+\" vs. MarathonTime\", fontdict={'fontsize':20})\n",
    "\n",
    "ax1 = plt.subplot(gs[1])\n",
    "ax1.scatter(df[l[1]],df['MarathonTime'])\n",
    "ax1.set_title(l[1]+\" vs. MarathonTime\",fontdict={'fontsize':20})\n",
    "\n",
    "ax2 = plt.subplot(gs[2])\n",
    "ax2.scatter(df[l[2]],df['MarathonTime'])\n",
    "ax2.set_title(l[2]+\" vs. MarathonTime\",fontdict={'fontsize':20})\n",
    "\n",
    "ax3 = plt.subplot(gs[3])\n",
    "ax3.scatter(df[l[3]],df['MarathonTime'])\n",
    "ax3.set_title(l[3]+\" vs. MarathonTime\",fontdict={'fontsize':20})"
   ]
  },
  {
   "cell_type": "code",
   "execution_count": 113,
   "metadata": {},
   "outputs": [],
   "source": [
    "train_pred = lm.predict(X_train)"
   ]
  },
  {
   "cell_type": "code",
   "execution_count": 114,
   "metadata": {},
   "outputs": [
    {
     "data": {
      "text/plain": [
       "0.0018948361523769578"
      ]
     },
     "execution_count": 114,
     "metadata": {},
     "output_type": "execute_result"
    }
   ],
   "source": [
    "metrics.mean_squared_error(y_train,train_pred)"
   ]
  },
  {
   "cell_type": "code",
   "execution_count": 115,
   "metadata": {},
   "outputs": [
    {
     "data": {
      "text/plain": [
       "0.02823391654058566"
      ]
     },
     "execution_count": 115,
     "metadata": {},
     "output_type": "execute_result"
    }
   ],
   "source": [
    "metrics.mean_absolute_error(y_train,train_pred)"
   ]
  },
  {
   "cell_type": "code",
   "execution_count": 116,
   "metadata": {},
   "outputs": [
    {
     "data": {
      "text/plain": [
       "0.043529715739675554"
      ]
     },
     "execution_count": 116,
     "metadata": {},
     "output_type": "execute_result"
    }
   ],
   "source": [
    "np.sqrt(metrics.mean_squared_error(y_train,train_pred))"
   ]
  },
  {
   "cell_type": "code",
   "execution_count": 117,
   "metadata": {},
   "outputs": [],
   "source": [
    "##**R-square of the model fit**"
   ]
  },
  {
   "cell_type": "code",
   "execution_count": 118,
   "metadata": {},
   "outputs": [
    {
     "name": "stdout",
     "output_type": "stream",
     "text": [
      "('R-squared value of this fit:', 0.988)\n"
     ]
    }
   ],
   "source": [
    "print(\"R-squared value of this fit:\",round(metrics.r2_score(y_train,train_pred),3))"
   ]
  },
  {
   "cell_type": "code",
   "execution_count": 119,
   "metadata": {},
   "outputs": [],
   "source": [
    "### Prediction, error estimate, and regression evaluation matrices"
   ]
  },
  {
   "cell_type": "code",
   "execution_count": 120,
   "metadata": {},
   "outputs": [
    {
     "name": "stdout",
     "output_type": "stream",
     "text": [
      "('Type of the predicted object:', <type 'numpy.ndarray'>)\n",
      "('Size of the predicted object:', (27,))\n"
     ]
    }
   ],
   "source": [
    "predictions = lm.predict(X_test)\n",
    "print (\"Type of the predicted object:\", type(predictions))\n",
    "print (\"Size of the predicted object:\", predictions.shape)"
   ]
  },
  {
   "cell_type": "code",
   "execution_count": 121,
   "metadata": {},
   "outputs": [],
   "source": [
    "##**Scatter plot of predicted price and y_test set to see if the data fall on a 45 degree straight line**"
   ]
  },
  {
   "cell_type": "code",
   "execution_count": 122,
   "metadata": {},
   "outputs": [
    {
     "data": {
      "text/plain": [
       "<matplotlib.collections.PathCollection at 0xa25d730>"
      ]
     },
     "execution_count": 122,
     "metadata": {},
     "output_type": "execute_result"
    },
    {
     "data": {
      "image/png": "[encoded data removed]",
      "text/plain": [
       "<Figure size 720x504 with 1 Axes>"
      ]
     },
     "metadata": {},
     "output_type": "display_data"
    }
   ],
   "source": [
    "plt.figure(figsize=(10,7))\n",
    "plt.title(\"Actual vs. predicted \",fontsize=25)\n",
    "plt.xlabel(\"Actual test \",fontsize=18)\n",
    "plt.ylabel(\"Predicted \", fontsize=18)\n",
    "plt.scatter(x=y_test,y=predictions)"
   ]
  },
  {
   "cell_type": "code",
   "execution_count": 123,
   "metadata": {},
   "outputs": [],
   "source": [
    "##**Plotting histogram of the residuals i.e. predicted errors (expect a normally distributed pattern)**"
   ]
  },
  {
   "cell_type": "code",
   "execution_count": 124,
   "metadata": {},
   "outputs": [
    {
     "name": "stderr",
     "output_type": "stream",
     "text": [
      "C:\\Users\\user\\Anaconda2\\lib\\site-packages\\matplotlib\\axes\\_axes.py:6462: UserWarning: The 'normed' kwarg is deprecated, and has been replaced by the 'density' kwarg.\n",
      "  warnings.warn(\"The 'normed' kwarg is deprecated, and has been \"\n"
     ]
    },
    {
     "data": {
      "text/plain": [
       "<matplotlib.axes._subplots.AxesSubplot at 0xa0bf3f0>"
      ]
     },
     "execution_count": 124,
     "metadata": {},
     "output_type": "execute_result"
    },
    {
     "data": {
      "image/png": "[encoded data removed]",
      "text/plain": [
       "<Figure size 720x504 with 1 Axes>"
      ]
     },
     "metadata": {},
     "output_type": "display_data"
    }
   ],
   "source": [
    "plt.figure(figsize=(10,7))\n",
    "plt.title(\"Histogram to check for normality\",fontsize=25)\n",
    "plt.xlabel(\"Residuals\",fontsize=18)\n",
    "plt.ylabel(\"Kernel density\", fontsize=18)\n",
    "sns.distplot([y_test-predictions])"
   ]
  },
  {
   "cell_type": "code",
   "execution_count": 125,
   "metadata": {},
   "outputs": [],
   "source": [
    "##**Scatter plot of residuals and predicted values (Homoscedasticity)**"
   ]
  },
  {
   "cell_type": "code",
   "execution_count": 126,
   "metadata": {},
   "outputs": [
    {
     "data": {
      "text/plain": [
       "<matplotlib.collections.PathCollection at 0xa389550>"
      ]
     },
     "execution_count": 126,
     "metadata": {},
     "output_type": "execute_result"
    },
    {
     "data": {
      "image/png": "[encoded data removed]",
      "text/plain": [
       "<Figure size 720x504 with 1 Axes>"
      ]
     },
     "metadata": {},
     "output_type": "display_data"
    }
   ],
   "source": [
    "plt.figure(figsize=(10,7))\n",
    "plt.title(\"Residuals vs. predicted values plot (Homoscedasticity)\\n\",fontsize=25)\n",
    "plt.xlabel(\"Predicted house prices\",fontsize=18)\n",
    "plt.ylabel(\"Residuals\", fontsize=18)\n",
    "plt.scatter(x=predictions,y=y_test-predictions)"
   ]
  },
  {
   "cell_type": "code",
   "execution_count": 127,
   "metadata": {},
   "outputs": [],
   "source": [
    "##**Regression evaluation metrices for train**"
   ]
  },
  {
   "cell_type": "code",
   "execution_count": 128,
   "metadata": {},
   "outputs": [
    {
     "name": "stdout",
     "output_type": "stream",
     "text": [
      "('Mean absolute error (MAE):', 0.02823391654058566)\n",
      "('Mean square error (MSE):', 0.0018948361523769578)\n",
      "('Root mean square error (RMSE):', 0.043529715739675554)\n"
     ]
    }
   ],
   "source": [
    "print(\"Mean absolute error (MAE):\", metrics.mean_absolute_error(y_train,train_pred))\n",
    "print(\"Mean square error (MSE):\", metrics.mean_squared_error(y_train,train_pred))\n",
    "print(\"Root mean square error (RMSE):\", np.sqrt(metrics.mean_squared_error(y_train,train_pred)))"
   ]
  },
  {
   "cell_type": "code",
   "execution_count": 129,
   "metadata": {},
   "outputs": [],
   "source": [
    "##**Regression evaluation metrices for test**"
   ]
  },
  {
   "cell_type": "code",
   "execution_count": 130,
   "metadata": {},
   "outputs": [
    {
     "name": "stdout",
     "output_type": "stream",
     "text": [
      "('Mean absolute error (MAE):', 0.03736767897276381)\n",
      "('Mean square error (MSE):', 0.0025000848851007003)\n",
      "('Root mean square error (RMSE):', 0.05000084884380165)\n"
     ]
    }
   ],
   "source": [
    "print(\"Mean absolute error (MAE):\", metrics.mean_absolute_error(y_test,predictions))\n",
    "print(\"Mean square error (MSE):\", metrics.mean_squared_error(y_test,predictions))\n",
    "print(\"Root mean square error (RMSE):\", np.sqrt(metrics.mean_squared_error(y_test,predictions)))"
   ]
  },
  {
   "cell_type": "code",
   "execution_count": 131,
   "metadata": {},
   "outputs": [],
   "source": [
    "##**R-square value**"
   ]
  },
  {
   "cell_type": "code",
   "execution_count": 132,
   "metadata": {},
   "outputs": [
    {
     "name": "stdout",
     "output_type": "stream",
     "text": [
      "('R-squared value of predictions:', 0.976)\n"
     ]
    }
   ],
   "source": [
    "print(\"R-squared value of predictions:\",round(metrics.r2_score(y_test,predictions),3))"
   ]
  },
  {
   "cell_type": "code",
   "execution_count": 133,
   "metadata": {},
   "outputs": [],
   "source": [
    "##**Mean Absolute Percentage error for y train**"
   ]
  },
  {
   "cell_type": "code",
   "execution_count": 134,
   "metadata": {},
   "outputs": [],
   "source": [
    "def mean_absolute_percentage_error(y_train, train_pred):\n",
    "    y_train,train_pred=np.array(y_train),np.array(train_pred)\n",
    "    return np.mean(np.abs((y_train - train_pred)/y_train))*100"
   ]
  },
  {
   "cell_type": "code",
   "execution_count": 135,
   "metadata": {},
   "outputs": [
    {
     "name": "stdout",
     "output_type": "stream",
     "text": [
      "('Mean absolute percentage error (MAPE):', 0.9210358535370271)\n"
     ]
    }
   ],
   "source": [
    "print(\"Mean absolute percentage error (MAPE):\", mean_absolute_percentage_error(y_train,train_pred))"
   ]
  },
  {
   "cell_type": "code",
   "execution_count": 136,
   "metadata": {},
   "outputs": [],
   "source": [
    "##**Mean Absolute Percentage error for y test**"
   ]
  },
  {
   "cell_type": "code",
   "execution_count": 137,
   "metadata": {},
   "outputs": [],
   "source": [
    "def mean_absolute_percentage_error(y_test, predictions):\n",
    "    y_test,predictions=np.array(y_test),np.array(predictions)\n",
    "    return np.mean(np.abs((y_test - predictions)/y_test))*100"
   ]
  },
  {
   "cell_type": "code",
   "execution_count": 138,
   "metadata": {},
   "outputs": [
    {
     "name": "stdout",
     "output_type": "stream",
     "text": [
      "('Mean absolute percentage error (MAPE):', 1.1029529977901664)\n"
     ]
    }
   ],
   "source": [
    "print(\"Mean absolute percentage error (MAPE):\",mean_absolute_percentage_error(y_test,predictions))"
   ]
  },
  {
   "cell_type": "code",
   "execution_count": 139,
   "metadata": {},
   "outputs": [
    {
     "data": {
      "text/plain": [
       "<matplotlib.axes._subplots.AxesSubplot at 0xa57ae90>"
      ]
     },
     "execution_count": 139,
     "metadata": {},
     "output_type": "execute_result"
    },
    {
     "data": {
      "image/png": "[encoded data removed]",
      "text/plain": [
       "<Figure size 1080x720 with 2 Axes>"
      ]
     },
     "metadata": {},
     "output_type": "display_data"
    }
   ],
   "source": [
    "plt.figure(figsize=(15,10))\n",
    "sns.heatmap(df.corr(),annot=True,linewidths=7)"
   ]
  }
 ],
 "metadata": {
  "kernelspec": {
   "display_name": "Python 2",
   "language": "python",
   "name": "python2"
  },
  "language_info": {
   "codemirror_mode": {
    "name": "ipython",
    "version": 2
   },
   "file_extension": ".py",
   "mimetype": "text/x-python",
   "name": "python",
   "nbconvert_exporter": "python",
   "pygments_lexer": "ipython2",
   "version": "2.7.15"
  }
 },
 "nbformat": 4,
 "nbformat_minor": 2
}
